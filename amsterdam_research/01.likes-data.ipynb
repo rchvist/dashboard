{
 "cells": [
  {
   "cell_type": "markdown",
   "metadata": {},
   "source": [
    "# Extracting likes information from facebook personal data"
   ]
  },
  {
   "cell_type": "markdown",
   "metadata": {},
   "source": [
    "## Import Data"
   ]
  },
  {
   "cell_type": "markdown",
   "metadata": {},
   "source": [
    "In this section we should import the liked pages and posts by users in outputs/your_data.\n",
    "\n",
    "In order to do this:\n",
    "1. download the personal information of each facebook persona you are researching\n",
    "2. unzip them in the same folder\n",
    "3. then run: python scripts/fb_import_likes.py -i /path/to/folder/with/LIKES\n"
   ]
  },
  {
   "cell_type": "code",
   "execution_count": null,
   "metadata": {},
   "outputs": [],
   "source": [
    "import pandas as pd\n",
    "import altair as alt\n",
    "import os\n",
    "alt.renderers.enable('notebook')\n",
    "%matplotlib inline\n",
    "def absoluteFilePaths(directory):\n",
    "    for dirpath, _, filenames in os.walk(directory):\n",
    "        for f in filenames:\n",
    "            if str(f)[0] == '.':\n",
    "                pass\n",
    "            else:\n",
    "                yield os.path.abspath(os.path.join(dirpath, f))\n",
    "\n",
    "\n",
    "folder = \"../outputs/fb/your_data/\"\n",
    "files = absoluteFilePaths(folder)\n",
    "\n",
    "df_list = []\n",
    "users = []\n",
    "data = {}\n",
    "for f in files:\n",
    "    df = pd.read_csv(f)\n",
    "    user = df.actor.iloc[0].replace(\" \",\"\").lower()\n",
    "    data.update({user: df})\n",
    "\n",
    "print(data.keys())\n",
    "\n",
    "df = pd.concat(data.values())\n",
    "\n",
    "\n",
    "\n",
    "df = df.set_index(pd.DatetimeIndex(df['timestamp']))\n",
    "df1 = df.groupby(['actor', 'reaction', 'source', df.index.date]).count()\n",
    "df1.index.names = ['actor', 'reaction', 'source', 'date']\n",
    "df1.columns = ['count']\n",
    "df1 = df1.reset_index()\n",
    "df1.date = pd.to_datetime(df1.date)\n",
    "\n",
    "display(df1.head())"
   ]
  },
  {
   "cell_type": "markdown",
   "metadata": {},
   "source": [
    "## Plot all reactions"
   ]
  },
  {
   "cell_type": "code",
   "execution_count": null,
   "metadata": {},
   "outputs": [],
   "source": [
    "alt.Chart(df).mark_circle().encode(\n",
    "    x='timestamp:T',\n",
    "    y='actor:N',\n",
    "    color=alt.Color('source:N', legend=None),\n",
    "    size='count()',\n",
    "    tooltip=['source:N', 'reaction:N', 'count()']\n",
    ").properties(\n",
    "    width=600,\n",
    "    height=400\n",
    ").interactive()"
   ]
  },
  {
   "cell_type": "code",
   "execution_count": null,
   "metadata": {},
   "outputs": [],
   "source": []
  },
  {
   "cell_type": "markdown",
   "metadata": {},
   "source": [
    "## Count of reactions per source by user"
   ]
  },
  {
   "cell_type": "code",
   "execution_count": null,
   "metadata": {
    "scrolled": false
   },
   "outputs": [],
   "source": [
    "input_dropdown = alt.binding_select(options=list(set(df1.actor.unique())))\n",
    "selection = alt.selection_single(\n",
    "    fields=['actor'], bind=input_dropdown, name='Select an')\n",
    "color = alt.condition(selection,\n",
    "                      alt.Color('source:N', legend=None),\n",
    "                      alt.value('lightgray'))\n",
    "\n",
    "alt.Chart(df1).mark_bar().encode(\n",
    "    x='date:T',\n",
    "    y='count:Q',\n",
    "    color='source:N',\n",
    "tooltip=['date:T', 'count:N', 'source:N', 'reaction:N']\n",
    ").add_selection(\n",
    "    selection\n",
    ").transform_filter(\n",
    "    selection\n",
    ")"
   ]
  },
  {
   "cell_type": "markdown",
   "metadata": {},
   "source": [
    "## Count of reactions per user by source"
   ]
  },
  {
   "cell_type": "code",
   "execution_count": null,
   "metadata": {},
   "outputs": [],
   "source": [
    "input_dropdown = alt.binding_select(options=list(set(df1.source.unique())))\n",
    "selection = alt.selection_single(\n",
    "    fields=['source'], bind=input_dropdown, name='Select an')\n",
    "color = alt.condition(selection,\n",
    "                      alt.Color('actor:N', legend=None),\n",
    "                      alt.value('lightgray'))\n",
    "\n",
    "alt.Chart(df1).mark_bar().encode(\n",
    "    x='date:T',\n",
    "    y='count:Q',\n",
    "    color='actor:N',\n",
    "    tooltip='count:N'\n",
    ").add_selection(\n",
    "    selection\n",
    ").transform_filter(\n",
    "    selection\n",
    ")"
   ]
  },
  {
   "cell_type": "code",
   "execution_count": null,
   "metadata": {},
   "outputs": [],
   "source": [
    "## Check if all of the users are liking the sources needed\n"
   ]
  }
 ],
 "metadata": {
  "kernelspec": {
   "display_name": "Python 3",
   "language": "python",
   "name": "python3"
  },
  "language_info": {
   "codemirror_mode": {
    "name": "ipython",
    "version": 3
   },
   "file_extension": ".py",
   "mimetype": "text/x-python",
   "name": "python",
   "nbconvert_exporter": "python",
   "pygments_lexer": "ipython3",
   "version": "3.7.4"
  },
  "toc": {
   "base_numbering": 1,
   "nav_menu": {},
   "number_sections": true,
   "sideBar": true,
   "skip_h1_title": false,
   "title_cell": "Table of Contents",
   "title_sidebar": "Contents",
   "toc_cell": false,
   "toc_position": {},
   "toc_section_display": true,
   "toc_window_display": false
  },
  "varInspector": {
   "cols": {
    "lenName": 16,
    "lenType": 16,
    "lenVar": 40
   },
   "kernels_config": {
    "python": {
     "delete_cmd_postfix": "",
     "delete_cmd_prefix": "del ",
     "library": "var_list.py",
     "varRefreshCmd": "print(var_dic_list())"
    },
    "r": {
     "delete_cmd_postfix": ") ",
     "delete_cmd_prefix": "rm(",
     "library": "var_list.r",
     "varRefreshCmd": "cat(var_dic_list()) "
    }
   },
   "types_to_exclude": [
    "module",
    "function",
    "builtin_function_or_method",
    "instance",
    "_Feature"
   ],
   "window_display": false
  }
 },
 "nbformat": 4,
 "nbformat_minor": 2
}
