{
 "cells": [
  {
   "cell_type": "code",
   "execution_count": null,
   "metadata": {},
   "outputs": [],
   "source": [
    "import pandas as pd\n",
    "from collections import defaultdict\n",
    "import os\n",
    "from datetime import datetime\n",
    "from scipy.stats import ttest_ind\n",
    "from numpy import mean"
   ]
  },
  {
   "cell_type": "code",
   "execution_count": null,
   "metadata": {},
   "outputs": [],
   "source": [
    "#set constants\n",
    "\n",
    "sources = [\"Il Foglio\", \"Il Giornale\", \"La Nazione\", \"Libero\"]\n",
    "\n",
    "timerange = ('2019-11-20',\n",
    "             '2019-12-03')\n",
    "\n",
    "folder = '../outputs/fb/summary'\n",
    "\n",
    "file_users =  '../config/users.csv'\n"
   ]
  },
  {
   "cell_type": "code",
   "execution_count": null,
   "metadata": {},
   "outputs": [],
   "source": [
    "# load all impressions, filtering useful fields and replacing hased names with fb names\n",
    "\n",
    "\n",
    "def absoluteFilePaths(directory):\n",
    "    for dirpath, _, filenames in os.walk(directory):\n",
    "        for f in filenames:\n",
    "            if str(f)[0] == '.':\n",
    "                pass\n",
    "            else:\n",
    "                yield os.path.abspath(os.path.join(dirpath, f))\n",
    "\n",
    "\n",
    "def getImpressions(folder):\n",
    "    impressions = pd.DataFrame()\n",
    "    files = absoluteFilePaths(folder)\n",
    "    tokens2names = pd.read_csv(file_users)\n",
    "    for impressions_file in files:\n",
    "        user_impressions = pd.read_csv(impressions_file)[\n",
    "            ['impressionTime', 'user', 'source']]  # you can add fields of interest here\n",
    "        name = tokens2names[tokens2names['token'] == impressions_file.split(\n",
    "            '/')[-1].split('.')[0]]['name'].values[0]\n",
    "        user_impressions['user'] = name\n",
    "        impressions = pd.concat([impressions, user_impressions])\n",
    "    return impressions\n",
    "\n",
    "\n",
    "impressions = getImpressions(folder)"
   ]
  },
  {
   "cell_type": "code",
   "execution_count": null,
   "metadata": {},
   "outputs": [],
   "source": [
    "#filter out for desired time range for experiment\n",
    "\n",
    "\n",
    "impressions_exp = impressions[(impressions['impressionTime'] >= timerange[0]) \n",
    "                        & (impressions['impressionTime'] <= timerange[1])]"
   ]
  },
  {
   "cell_type": "code",
   "execution_count": null,
   "metadata": {},
   "outputs": [],
   "source": [
    "#cut impressionTime to aggregate posts in the same timeline\n",
    "\n",
    "impressions_exp['timeline'] = [impressionTime[:15]\n",
    "                               for impressionTime in impressions_exp['impressionTime']]\n"
   ]
  },
  {
   "cell_type": "code",
   "execution_count": null,
   "metadata": {},
   "outputs": [],
   "source": [
    "# count specific sources per timeline\n",
    "\n",
    "\n",
    "def count_sources_by_timeline(impressions, sources):\n",
    "    sources_timelines = {\"source\": [],\n",
    "                         \"timeline\": [],\n",
    "                         \"user\": [],\n",
    "                         \"count\": []}\n",
    "    for source in sources:\n",
    "        for user_timeline, timeline_impressions in impressions_exp.groupby(['user', 'timeline']):\n",
    "            sources_timelines[\"source\"].append(source)\n",
    "            sources_timelines[\"timeline\"].append(user_timeline)\n",
    "            sources_timelines[\"user\"].append(user_timeline[0])\n",
    "            sources_timelines[\"count\"].append(\n",
    "                timeline_impressions[timeline_impressions[\"source\"] == source][\"source\"].count())\n",
    "\n",
    "    return pd.DataFrame(data=sources_timelines)\n",
    "\n",
    "\n",
    "sources_timelines = count_sources_by_timeline(impressions_exp, sources)"
   ]
  },
  {
   "cell_type": "code",
   "execution_count": null,
   "metadata": {},
   "outputs": [],
   "source": [
    "#exclude salvini+lega in order to harmonize shares across polarized and control\n",
    "\n",
    "impressions_exp = impressions_exp[(impressions_exp[\"source\"] != \"Matteo Salvini\") \n",
    "                        & (impressions_exp[\"source\"] != \"Lega - Salvini Premier\")]\n",
    "\n",
    "sources_timelines.head()"
   ]
  },
  {
   "cell_type": "code",
   "execution_count": null,
   "metadata": {},
   "outputs": [],
   "source": [
    "\n",
    "#normalize counts dividing for total impression per timeline\n",
    "\n",
    "timeline_totalcount = impressions_exp.groupby(['user','timeline'])[\"source\"].count()\n",
    "\n",
    "sources_timelines[\"tot_count\"] = [timeline_totalcount[timeline]\n",
    "                                  for timeline in sources_timelines[\"timeline\"]] \n",
    "\n",
    "sources_timelines[\"share_count\"] = (sources_timelines[\"count\"] / sources_timelines[\"tot_count\"])*100\n",
    "\n"
   ]
  },
  {
   "cell_type": "code",
   "execution_count": null,
   "metadata": {},
   "outputs": [],
   "source": [
    "#drop timelinesif below a threeshold count\n",
    "\n",
    "min_totcount = 10\n",
    "\n",
    "sources_timelines = sources_timelines[sources_timelines[\"tot_count\"] >= min_totcount]\n",
    "\n"
   ]
  },
  {
   "cell_type": "code",
   "execution_count": null,
   "metadata": {},
   "outputs": [],
   "source": [
    "#add column with test group the user belongs to\n",
    "polarized_users = ('Aarend','Bjoke','CorTimmerman','Doortje','Erwijn','Friedie','Gert','Hanneke','Ivo','Juultje')\n",
    "\n",
    "sources_timelines[\"user_group\"] = [\"polarized\" if user in polarized_users \n",
    "                                               else \"control\" \n",
    "                                    for user in sources_timelines[\"user\"]]\n",
    "\n"
   ]
  },
  {
   "cell_type": "code",
   "execution_count": null,
   "metadata": {},
   "outputs": [],
   "source": [
    "#compare means and run t-test\n",
    "\n",
    "polarized = sources_timelines[sources_timelines['user_group'] == 'polarized'][\"share_count\"]\n",
    "control = sources_timelines[sources_timelines['user_group'] == 'control'][\"share_count\"]\n",
    "\n",
    "\n",
    "print(mean(polarized))\n",
    "print(mean(control))\n",
    "\n",
    "ttest_ind(polarized, control)"
   ]
  },
  {
   "cell_type": "code",
   "execution_count": null,
   "metadata": {},
   "outputs": [],
   "source": [
    "import seaborn as sns\n",
    "sns.set(style=\"ticks\", color_codes=True)\n",
    "%matplotlib inline\n",
    "\n",
    "groups_data = sources_timelines[[\"share_count\",\"user_group\"]]\n",
    "\n",
    "\n",
    "sns.catplot(x= \"user_group\", y= \"share_count\", s=10, data= groups_data);"
   ]
  },
  {
   "cell_type": "code",
   "execution_count": null,
   "metadata": {},
   "outputs": [],
   "source": []
  },
  {
   "cell_type": "code",
   "execution_count": null,
   "metadata": {},
   "outputs": [],
   "source": []
  },
  {
   "cell_type": "code",
   "execution_count": null,
   "metadata": {},
   "outputs": [],
   "source": []
  }
 ],
 "metadata": {
  "kernelspec": {
   "display_name": "Python 3",
   "language": "python",
   "name": "python3"
  },
  "language_info": {
   "codemirror_mode": {
    "name": "ipython",
    "version": 3
   },
   "file_extension": ".py",
   "mimetype": "text/x-python",
   "name": "python",
   "nbconvert_exporter": "python",
   "pygments_lexer": "ipython3",
   "version": "3.7.4"
  },
  "toc": {
   "base_numbering": 1,
   "nav_menu": {},
   "number_sections": true,
   "sideBar": true,
   "skip_h1_title": false,
   "title_cell": "Table of Contents",
   "title_sidebar": "Contents",
   "toc_cell": false,
   "toc_position": {},
   "toc_section_display": true,
   "toc_window_display": false
  },
  "varInspector": {
   "cols": {
    "lenName": 16,
    "lenType": 16,
    "lenVar": 40
   },
   "kernels_config": {
    "python": {
     "delete_cmd_postfix": "",
     "delete_cmd_prefix": "del ",
     "library": "var_list.py",
     "varRefreshCmd": "print(var_dic_list())"
    },
    "r": {
     "delete_cmd_postfix": ") ",
     "delete_cmd_prefix": "rm(",
     "library": "var_list.r",
     "varRefreshCmd": "cat(var_dic_list()) "
    }
   },
   "types_to_exclude": [
    "module",
    "function",
    "builtin_function_or_method",
    "instance",
    "_Feature"
   ],
   "window_display": false
  }
 },
 "nbformat": 4,
 "nbformat_minor": 4
}
