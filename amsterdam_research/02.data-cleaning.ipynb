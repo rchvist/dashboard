{
 "cells": [
  {
   "cell_type": "markdown",
   "metadata": {},
   "source": [
    "# Load Data"
   ]
  },
  {
   "cell_type": "code",
   "execution_count": 1,
   "metadata": {},
   "outputs": [
    {
     "name": "stdout",
     "output_type": "stream",
     "text": [
      "dict_keys(['gelato-pizza-zucchini', 'eggs-macaroon-pretzel', 'fennel-tea-lime', 'mango-macaroons-macaroni', 'yams-pomelo-guava', 'yolk-carnitas-date', 'pickles-coleslaw-rhubarb', 'asparagus-croissant-kiwi', 'vanilla-bokchoy-corn', 'coleslaw-ceviche-broccoli', 'parsnip-lentils-fudge', 'waffle-hamburger-souffle', 'quince-peanut-molasses', 'croissant-watercress-pudding', 'kale-sushi-eggs', 'coconut-fudge-mandarin', 'pimiento-cranberry-samosa', 'vinegar-arrugula-biscuit', 'hummus-orzo-romaine', 'pistachio-salsa-tangelo'])\n"
     ]
    }
   ],
   "source": [
    "import sys\n",
    "sys.path.append(\"..\")\n",
    "from src import tools\n",
    "from ipywidgets import interact, interact_manual\n",
    "import ipywidgets as widgets\n",
    "import os\n",
    "import pandas as pd\n",
    "import numpy as np\n",
    "import matplotlib.pyplot as plt\n",
    "import matplotlib.dates as mdates\n",
    "import pandas_profiling\n",
    "%matplotlib inline\n",
    "\n",
    "\n",
    "def absoluteFilePaths(directory):\n",
    "    for dirpath, _, filenames in os.walk(directory):\n",
    "        for f in filenames:\n",
    "            if str(f)[0] == '.':\n",
    "                pass\n",
    "            else:\n",
    "                yield os.path.abspath(os.path.join(dirpath, f))\n",
    "\n",
    "\n",
    "FOLDER = \"../outputs/fb/summary/\"\n",
    "\n",
    "\n",
    "def load_data(folder):\n",
    "    files = absoluteFilePaths(folder)\n",
    "    users = []\n",
    "    data = {}\n",
    "    for f in files:\n",
    "        df = pd.read_csv(f)\n",
    "        user = df.user.iloc[0]\n",
    "        data.update({user: df})\n",
    "    return data\n",
    "\n",
    "\n",
    "data = load_data(FOLDER)\n",
    "print(data.keys())"
   ]
  },
  {
   "cell_type": "markdown",
   "metadata": {},
   "source": [
    "# Clean Data"
   ]
  },
  {
   "cell_type": "markdown",
   "metadata": {},
   "source": [
    "## Drop columns, set datetimeindex, fill missing data and generate statistics."
   ]
  },
  {
   "cell_type": "code",
   "execution_count": 2,
   "metadata": {},
   "outputs": [
    {
     "data": {
      "text/html": [
       "<div>\n",
       "<style scoped>\n",
       "    .dataframe tbody tr th:only-of-type {\n",
       "        vertical-align: middle;\n",
       "    }\n",
       "\n",
       "    .dataframe tbody tr th {\n",
       "        vertical-align: top;\n",
       "    }\n",
       "\n",
       "    .dataframe thead th {\n",
       "        text-align: right;\n",
       "    }\n",
       "</style>\n",
       "<table border=\"1\" class=\"dataframe\">\n",
       "  <thead>\n",
       "    <tr style=\"text-align: right;\">\n",
       "      <th></th>\n",
       "      <th>start</th>\n",
       "      <th>end</th>\n",
       "      <th>average_impression_count</th>\n",
       "      <th>timelines</th>\n",
       "      <th>total_entries</th>\n",
       "      <th>missing values</th>\n",
       "    </tr>\n",
       "  </thead>\n",
       "  <tbody>\n",
       "    <tr>\n",
       "      <td>gelato-pizza-zucchini</td>\n",
       "      <td>2019-10-22 11:01:56+00:00</td>\n",
       "      <td>2020-02-03 15:07:48+00:00</td>\n",
       "      <td>19.177669</td>\n",
       "      <td>961</td>\n",
       "      <td>18163</td>\n",
       "      <td>432</td>\n",
       "    </tr>\n",
       "    <tr>\n",
       "      <td>eggs-macaroon-pretzel</td>\n",
       "      <td>2019-10-21 15:53:23+00:00</td>\n",
       "      <td>2020-02-03 15:07:39+00:00</td>\n",
       "      <td>18.575860</td>\n",
       "      <td>986</td>\n",
       "      <td>19279</td>\n",
       "      <td>501</td>\n",
       "    </tr>\n",
       "    <tr>\n",
       "      <td>fennel-tea-lime</td>\n",
       "      <td>2019-10-21 09:34:22+00:00</td>\n",
       "      <td>2020-01-01 19:06:06+00:00</td>\n",
       "      <td>19.410764</td>\n",
       "      <td>777</td>\n",
       "      <td>14512</td>\n",
       "      <td>442</td>\n",
       "    </tr>\n",
       "    <tr>\n",
       "      <td>mango-macaroons-macaroni</td>\n",
       "      <td>2019-10-16 14:46:34+00:00</td>\n",
       "      <td>2020-02-05 08:15:08+00:00</td>\n",
       "      <td>19.510745</td>\n",
       "      <td>884</td>\n",
       "      <td>15217</td>\n",
       "      <td>3394</td>\n",
       "    </tr>\n",
       "    <tr>\n",
       "      <td>yams-pomelo-guava</td>\n",
       "      <td>2019-10-21 16:53:49+00:00</td>\n",
       "      <td>2020-01-13 19:06:09+00:00</td>\n",
       "      <td>19.244684</td>\n",
       "      <td>955</td>\n",
       "      <td>18530</td>\n",
       "      <td>585</td>\n",
       "    </tr>\n",
       "    <tr>\n",
       "      <td>yolk-carnitas-date</td>\n",
       "      <td>2019-10-19 10:45:02+00:00</td>\n",
       "      <td>2020-02-03 15:07:36+00:00</td>\n",
       "      <td>20.215725</td>\n",
       "      <td>990</td>\n",
       "      <td>19358</td>\n",
       "      <td>24155</td>\n",
       "    </tr>\n",
       "    <tr>\n",
       "      <td>pickles-coleslaw-rhubarb</td>\n",
       "      <td>2019-10-20 12:34:11+00:00</td>\n",
       "      <td>2020-02-05 10:07:40+00:00</td>\n",
       "      <td>18.742486</td>\n",
       "      <td>912</td>\n",
       "      <td>16702</td>\n",
       "      <td>517</td>\n",
       "    </tr>\n",
       "    <tr>\n",
       "      <td>asparagus-croissant-kiwi</td>\n",
       "      <td>2019-10-19 11:11:43+00:00</td>\n",
       "      <td>2020-02-03 15:07:25+00:00</td>\n",
       "      <td>18.732350</td>\n",
       "      <td>917</td>\n",
       "      <td>16955</td>\n",
       "      <td>400</td>\n",
       "    </tr>\n",
       "    <tr>\n",
       "      <td>vanilla-bokchoy-corn</td>\n",
       "      <td>2019-10-21 10:35:13+00:00</td>\n",
       "      <td>2020-01-30 10:05:45+00:00</td>\n",
       "      <td>19.732927</td>\n",
       "      <td>822</td>\n",
       "      <td>14423</td>\n",
       "      <td>18128</td>\n",
       "    </tr>\n",
       "    <tr>\n",
       "      <td>coleslaw-ceviche-broccoli</td>\n",
       "      <td>2019-10-20 11:08:47+00:00</td>\n",
       "      <td>2020-02-03 07:20:07+00:00</td>\n",
       "      <td>19.142758</td>\n",
       "      <td>947</td>\n",
       "      <td>17253</td>\n",
       "      <td>23709</td>\n",
       "    </tr>\n",
       "    <tr>\n",
       "      <td>parsnip-lentils-fudge</td>\n",
       "      <td>2019-10-21 16:43:47+00:00</td>\n",
       "      <td>2019-12-31 18:06:41+00:00</td>\n",
       "      <td>18.956824</td>\n",
       "      <td>787</td>\n",
       "      <td>14244</td>\n",
       "      <td>27026</td>\n",
       "    </tr>\n",
       "    <tr>\n",
       "      <td>waffle-hamburger-souffle</td>\n",
       "      <td>2019-10-22 14:00:00+00:00</td>\n",
       "      <td>2020-01-13 18:05:49+00:00</td>\n",
       "      <td>18.535439</td>\n",
       "      <td>836</td>\n",
       "      <td>14659</td>\n",
       "      <td>19082</td>\n",
       "    </tr>\n",
       "    <tr>\n",
       "      <td>quince-peanut-molasses</td>\n",
       "      <td>2019-10-21 12:59:09+00:00</td>\n",
       "      <td>2019-12-29 15:06:13+00:00</td>\n",
       "      <td>18.528067</td>\n",
       "      <td>678</td>\n",
       "      <td>10760</td>\n",
       "      <td>17097</td>\n",
       "    </tr>\n",
       "    <tr>\n",
       "      <td>croissant-watercress-pudding</td>\n",
       "      <td>2019-10-21 16:31:11+00:00</td>\n",
       "      <td>2020-01-05 07:05:41+00:00</td>\n",
       "      <td>18.826485</td>\n",
       "      <td>804</td>\n",
       "      <td>13751</td>\n",
       "      <td>331</td>\n",
       "    </tr>\n",
       "    <tr>\n",
       "      <td>kale-sushi-eggs</td>\n",
       "      <td>2019-10-20 12:28:00+00:00</td>\n",
       "      <td>2020-02-05 10:07:44+00:00</td>\n",
       "      <td>18.677623</td>\n",
       "      <td>914</td>\n",
       "      <td>17402</td>\n",
       "      <td>579</td>\n",
       "    </tr>\n",
       "    <tr>\n",
       "      <td>coconut-fudge-mandarin</td>\n",
       "      <td>2019-10-20 11:27:22+00:00</td>\n",
       "      <td>2020-02-03 07:16:22+00:00</td>\n",
       "      <td>19.471808</td>\n",
       "      <td>890</td>\n",
       "      <td>17505</td>\n",
       "      <td>2385</td>\n",
       "    </tr>\n",
       "    <tr>\n",
       "      <td>pimiento-cranberry-samosa</td>\n",
       "      <td>2019-10-21 11:54:47+00:00</td>\n",
       "      <td>2020-02-03 15:07:30+00:00</td>\n",
       "      <td>19.078029</td>\n",
       "      <td>868</td>\n",
       "      <td>15097</td>\n",
       "      <td>4761</td>\n",
       "    </tr>\n",
       "    <tr>\n",
       "      <td>vinegar-arrugula-biscuit</td>\n",
       "      <td>2019-10-21 13:58:30+00:00</td>\n",
       "      <td>2020-02-03 15:15:41+00:00</td>\n",
       "      <td>19.370328</td>\n",
       "      <td>868</td>\n",
       "      <td>16480</td>\n",
       "      <td>468</td>\n",
       "    </tr>\n",
       "    <tr>\n",
       "      <td>hummus-orzo-romaine</td>\n",
       "      <td>2019-10-20 13:40:46+00:00</td>\n",
       "      <td>2020-02-03 15:15:41+00:00</td>\n",
       "      <td>19.072201</td>\n",
       "      <td>955</td>\n",
       "      <td>18504</td>\n",
       "      <td>21715</td>\n",
       "    </tr>\n",
       "    <tr>\n",
       "      <td>pistachio-salsa-tangelo</td>\n",
       "      <td>2019-10-21 14:24:10+00:00</td>\n",
       "      <td>2020-02-05 10:07:35+00:00</td>\n",
       "      <td>19.425363</td>\n",
       "      <td>894</td>\n",
       "      <td>17498</td>\n",
       "      <td>11132</td>\n",
       "    </tr>\n",
       "  </tbody>\n",
       "</table>\n",
       "</div>"
      ],
      "text/plain": [
       "                                                  start  \\\n",
       "gelato-pizza-zucchini         2019-10-22 11:01:56+00:00   \n",
       "eggs-macaroon-pretzel         2019-10-21 15:53:23+00:00   \n",
       "fennel-tea-lime               2019-10-21 09:34:22+00:00   \n",
       "mango-macaroons-macaroni      2019-10-16 14:46:34+00:00   \n",
       "yams-pomelo-guava             2019-10-21 16:53:49+00:00   \n",
       "yolk-carnitas-date            2019-10-19 10:45:02+00:00   \n",
       "pickles-coleslaw-rhubarb      2019-10-20 12:34:11+00:00   \n",
       "asparagus-croissant-kiwi      2019-10-19 11:11:43+00:00   \n",
       "vanilla-bokchoy-corn          2019-10-21 10:35:13+00:00   \n",
       "coleslaw-ceviche-broccoli     2019-10-20 11:08:47+00:00   \n",
       "parsnip-lentils-fudge         2019-10-21 16:43:47+00:00   \n",
       "waffle-hamburger-souffle      2019-10-22 14:00:00+00:00   \n",
       "quince-peanut-molasses        2019-10-21 12:59:09+00:00   \n",
       "croissant-watercress-pudding  2019-10-21 16:31:11+00:00   \n",
       "kale-sushi-eggs               2019-10-20 12:28:00+00:00   \n",
       "coconut-fudge-mandarin        2019-10-20 11:27:22+00:00   \n",
       "pimiento-cranberry-samosa     2019-10-21 11:54:47+00:00   \n",
       "vinegar-arrugula-biscuit      2019-10-21 13:58:30+00:00   \n",
       "hummus-orzo-romaine           2019-10-20 13:40:46+00:00   \n",
       "pistachio-salsa-tangelo       2019-10-21 14:24:10+00:00   \n",
       "\n",
       "                                                    end  \\\n",
       "gelato-pizza-zucchini         2020-02-03 15:07:48+00:00   \n",
       "eggs-macaroon-pretzel         2020-02-03 15:07:39+00:00   \n",
       "fennel-tea-lime               2020-01-01 19:06:06+00:00   \n",
       "mango-macaroons-macaroni      2020-02-05 08:15:08+00:00   \n",
       "yams-pomelo-guava             2020-01-13 19:06:09+00:00   \n",
       "yolk-carnitas-date            2020-02-03 15:07:36+00:00   \n",
       "pickles-coleslaw-rhubarb      2020-02-05 10:07:40+00:00   \n",
       "asparagus-croissant-kiwi      2020-02-03 15:07:25+00:00   \n",
       "vanilla-bokchoy-corn          2020-01-30 10:05:45+00:00   \n",
       "coleslaw-ceviche-broccoli     2020-02-03 07:20:07+00:00   \n",
       "parsnip-lentils-fudge         2019-12-31 18:06:41+00:00   \n",
       "waffle-hamburger-souffle      2020-01-13 18:05:49+00:00   \n",
       "quince-peanut-molasses        2019-12-29 15:06:13+00:00   \n",
       "croissant-watercress-pudding  2020-01-05 07:05:41+00:00   \n",
       "kale-sushi-eggs               2020-02-05 10:07:44+00:00   \n",
       "coconut-fudge-mandarin        2020-02-03 07:16:22+00:00   \n",
       "pimiento-cranberry-samosa     2020-02-03 15:07:30+00:00   \n",
       "vinegar-arrugula-biscuit      2020-02-03 15:15:41+00:00   \n",
       "hummus-orzo-romaine           2020-02-03 15:15:41+00:00   \n",
       "pistachio-salsa-tangelo       2020-02-05 10:07:35+00:00   \n",
       "\n",
       "                              average_impression_count timelines  \\\n",
       "gelato-pizza-zucchini                        19.177669       961   \n",
       "eggs-macaroon-pretzel                        18.575860       986   \n",
       "fennel-tea-lime                              19.410764       777   \n",
       "mango-macaroons-macaroni                     19.510745       884   \n",
       "yams-pomelo-guava                            19.244684       955   \n",
       "yolk-carnitas-date                           20.215725       990   \n",
       "pickles-coleslaw-rhubarb                     18.742486       912   \n",
       "asparagus-croissant-kiwi                     18.732350       917   \n",
       "vanilla-bokchoy-corn                         19.732927       822   \n",
       "coleslaw-ceviche-broccoli                    19.142758       947   \n",
       "parsnip-lentils-fudge                        18.956824       787   \n",
       "waffle-hamburger-souffle                     18.535439       836   \n",
       "quince-peanut-molasses                       18.528067       678   \n",
       "croissant-watercress-pudding                 18.826485       804   \n",
       "kale-sushi-eggs                              18.677623       914   \n",
       "coconut-fudge-mandarin                       19.471808       890   \n",
       "pimiento-cranberry-samosa                    19.078029       868   \n",
       "vinegar-arrugula-biscuit                     19.370328       868   \n",
       "hummus-orzo-romaine                          19.072201       955   \n",
       "pistachio-salsa-tangelo                      19.425363       894   \n",
       "\n",
       "                             total_entries missing values  \n",
       "gelato-pizza-zucchini                18163            432  \n",
       "eggs-macaroon-pretzel                19279            501  \n",
       "fennel-tea-lime                      14512            442  \n",
       "mango-macaroons-macaroni             15217           3394  \n",
       "yams-pomelo-guava                    18530            585  \n",
       "yolk-carnitas-date                   19358          24155  \n",
       "pickles-coleslaw-rhubarb             16702            517  \n",
       "asparagus-croissant-kiwi             16955            400  \n",
       "vanilla-bokchoy-corn                 14423          18128  \n",
       "coleslaw-ceviche-broccoli            17253          23709  \n",
       "parsnip-lentils-fudge                14244          27026  \n",
       "waffle-hamburger-souffle             14659          19082  \n",
       "quince-peanut-molasses               10760          17097  \n",
       "croissant-watercress-pudding         13751            331  \n",
       "kale-sushi-eggs                      17402            579  \n",
       "coconut-fudge-mandarin               17505           2385  \n",
       "pimiento-cranberry-samosa            15097           4761  \n",
       "vinegar-arrugula-biscuit             16480            468  \n",
       "hummus-orzo-romaine                  18504          21715  \n",
       "pistachio-salsa-tangelo              17498          11132  "
      ]
     },
     "execution_count": 2,
     "metadata": {},
     "output_type": "execute_result"
    }
   ],
   "source": [
    "start_date = '2019-10-15'\n",
    "end_date = '2020-02-06'\n",
    "\n",
    "def clean(df):\n",
    "    df = df[pd.notnull(df['source'])]\n",
    "    df = df[['impressionOrder', 'id', 'nature',\n",
    "             'source',  'fblinktype', 'texts',\n",
    "             'textsize', 'timeline', 'user']]\n",
    "    return df\n",
    "\n",
    "stats = pd.DataFrame(columns=['start', 'end',\n",
    "                              'average_impression_count',\n",
    "                              'timelines',\n",
    "                              'total_entries',\n",
    "                              'missing values'\n",
    "                              ])\n",
    "\n",
    "for user, df in data.items():\n",
    "    try:\n",
    "        df = df.drop('Unnamed: 0', 1)\n",
    "    except:\n",
    "        pass\n",
    "\n",
    "    df = df[['impressionTime', 'impressionOrder',  'id',\n",
    "             'nature',  'postId', 'publicationTime', 'permaLink',\n",
    "             'source', 'sourceLink', 'fblinktype',\n",
    "             'texts', 'textsize', 'images',\n",
    "             'semanticCount', 'semanticId', 'timeline', 'user']]\n",
    "\n",
    "    df.index = df['impressionTime']\n",
    "    df.index = pd.to_datetime(df.index)\n",
    "    df = df[end_date:start_date]\n",
    "\n",
    "    df.publicationTime = pd.to_datetime(df.publicationTime)\n",
    "    df.impressionOrder = pd.to_numeric(df.impressionOrder, downcast='integer')\n",
    "\n",
    "    df = df.replace(\"nan\", np.nan)\n",
    "    df = df.replace(\"\", np.nan)\n",
    "    df['fblinktype'] = df['fblinktype'].fillna('other')\n",
    "\n",
    "    # AUTOMATE THIS\n",
    "    link_source_dict = {\n",
    "        'https://www.facebook.com/AgenziaANSA/': 'ANSA.it',\n",
    "        'https://www.facebook.com/AgenziaAdnKronos/': 'Adnkronos',\n",
    "        'https://www.facebook.com/corrieredellasera/': 'Corriere della Sera',\n",
    "        'https://www.facebook.com/giorgiameloni.paginaufficiale/': 'Giorgia Meloni',\n",
    "        'https://www.facebook.com/HuffPostItalia/': 'HuffPost Italia',\n",
    "        'https://www.facebook.com/ilfoglio/': 'Il Foglio',\n",
    "        'https://www.facebook.com/ilGiornale/': 'Il Giornale',\n",
    "        'https://www.facebook.com/italiaviva/': 'Italia Viva',\n",
    "        'https://www.facebook.com/la7fb/': 'La7',\n",
    "        'https://www.facebook.com/lastampa.it/': 'La Stampa',\n",
    "        'https://www.facebook.com/legasalvinipremier/': 'Lega - Salvini Premier',\n",
    "        'https://www.facebook.com/liberonews/': 'Libero',\n",
    "        'https://www.facebook.com/LuigiDiMaio/': 'Luigi Di Maio',\n",
    "        'https://www.facebook.com/matteorenziufficiale/': 'Matteo Renzi',\n",
    "        'https://www.facebook.com/Messaggero.it/': 'Il Messaggero.it',\n",
    "        'https://www.facebook.com/partitodemocratico/': 'Partito Democratico',\n",
    "        'https://www.facebook.com/rainews.it/': 'Rainews.it',\n",
    "        'https://www.facebook.com/Repubblica/': 'la Repubblica',\n",
    "        'https://www.facebook.com/salviniofficial/': 'Matteo Salvini'}\n",
    "\n",
    "    df['source'] = df['source'].fillna(df['sourceLink'])\n",
    "    df = df.replace({\"source\": link_source_dict})\n",
    "\n",
    "    stats.loc[user] = [\n",
    "        df.impressionTime.min(),\n",
    "        df.impressionTime.max(),\n",
    "        # max(df.impressionOrder),\n",
    "        #min(df.groupby(['timeline'], sort=False)['impressionOrder'].max()),\n",
    "        df.impressionOrder.mean(),\n",
    "        df['timeline'].nunique(),\n",
    "        df['id'].count(),\n",
    "        df.isna().sum().sum()\n",
    "    ]\n",
    "    data[user] = df.copy()\n",
    "\n",
    "df = pd.concat(data.values())\n",
    "\n",
    "df = clean(df)\n",
    "stats"
   ]
  },
  {
   "cell_type": "markdown",
   "metadata": {},
   "source": [
    "## Replace pseudo-names with \"real\" user names"
   ]
  },
  {
   "cell_type": "code",
   "execution_count": 3,
   "metadata": {},
   "outputs": [],
   "source": [
    "user_names = pd.read_csv(\"../config/users.csv\")\n",
    "names_dict = {}\n",
    "\n",
    "for name, number, token in user_names.values:\n",
    "    temp_df = pd.read_csv('../outputs/fb/summary/'+token+'.csv', nrows=2)\n",
    "    names_dict[temp_df.user[0]] = name\n",
    "\n",
    "df = df.replace({\"user\": names_dict})"
   ]
  },
  {
   "cell_type": "code",
   "execution_count": 4,
   "metadata": {
    "scrolled": true
   },
   "outputs": [],
   "source": [
    "# data['parsnip-lentils-fudge'].drop('impressionTime',1).profile_report(check_correlation_cramers=False,\n",
    "#                  check_correlation_pearson=False,\n",
    "#                  cardinality_threshold=len(df)*0.9,\n",
    "#                  style={'full_width':True}\n",
    "#                                          )"
   ]
  },
  {
   "cell_type": "markdown",
   "metadata": {},
   "source": [
    "# Explore"
   ]
  },
  {
   "cell_type": "markdown",
   "metadata": {},
   "source": [
    "## Profile Report (takes a while)"
   ]
  },
  {
   "cell_type": "code",
   "execution_count": 5,
   "metadata": {},
   "outputs": [],
   "source": [
    "#df.profile_report(check_correlation_cramers=False,\n",
    "#                          check_correlation_pearson=False,\n",
    "#                          cardinality_threshold=len(df)*0.9,\n",
    "#                          style={'full_width': True})"
   ]
  },
  {
   "cell_type": "markdown",
   "metadata": {},
   "source": [
    "## Post Count per column"
   ]
  },
  {
   "cell_type": "code",
   "execution_count": 6,
   "metadata": {},
   "outputs": [
    {
     "data": {
      "application/vnd.jupyter.widget-view+json": {
       "model_id": "c5027892dd0146a3884847bc0e28bfa3",
       "version_major": 2,
       "version_minor": 0
      },
      "text/plain": [
       "interactive(children=(Dropdown(description='user', options=('Kris', 'Erwijn', 'Martijn', 'Nienke', 'Doortje', …"
      ]
     },
     "metadata": {},
     "output_type": "display_data"
    }
   ],
   "source": [
    "def postCountGraph(df, user, column):\n",
    "    #data = tools.setDatetimeIndexFloor(tools.setDatetimeIndex(df), what=\"1D\")\n",
    "    data = df\n",
    "    data = data.groupby(data.index)[column].count()\n",
    "    data = data.to_frame()\n",
    "\n",
    "    fig, ax = plt.subplots(figsize=(15, 7))\n",
    "\n",
    "    # set ticks every week\n",
    "    ax.xaxis.set_major_locator(mdates.AutoDateLocator())\n",
    "    ax.xaxis.set_major_formatter(mdates.DateFormatter('%b %d'))\n",
    "    ax.set_title('Number of entries in col '+column +\n",
    "                 ' collected per day for: '+user)\n",
    "    ax.bar(data.index, data[column])\n",
    "    return(fig, ax)\n",
    "\n",
    "\n",
    "#fig, ax = (dailyPostCountGraph(df, user))\n",
    "\n",
    "@interact\n",
    "def show_plot(user=df['user'].unique(), column=df.columns):\n",
    "    return postCountGraph(df[df['user']==user], user, column)"
   ]
  },
  {
   "cell_type": "markdown",
   "metadata": {},
   "source": [
    "## Post Count per Dates"
   ]
  },
  {
   "cell_type": "code",
   "execution_count": 7,
   "metadata": {},
   "outputs": [
    {
     "data": {
      "application/vnd.jupyter.widget-view+json": {
       "model_id": "78475ebd08f04ad781c1bae17546353d",
       "version_major": 2,
       "version_minor": 0
      },
      "text/plain": [
       "interactive(children=(Dropdown(description='user', options=('Kris', 'Erwijn', 'Martijn', 'Nienke', 'Doortje', …"
      ]
     },
     "metadata": {},
     "output_type": "display_data"
    }
   ],
   "source": [
    "def datesPostCountGraph(df, user):\n",
    "    data = tools.setDatetimeIndexFloor(df, what=\"1D\")\n",
    "    data = data.groupby(data.index).id.count()\n",
    "    data = data.to_frame()\n",
    "\n",
    "    fig, ax = plt.subplots(figsize=(15, 7))\n",
    "\n",
    "    # set ticks every week\n",
    "    ax.xaxis.set_major_locator(mdates.AutoDateLocator())\n",
    "    ax.xaxis.set_major_formatter(mdates.DateFormatter('%b %d'))\n",
    "    ax.set_title('Number of posts collected per day for user: '+user)\n",
    "    ax.bar(data.index, data.id)\n",
    "    return(fig, ax)\n",
    "\n",
    "\n",
    "#fig, ax = (dailyPostCountGraph(df, user))\n",
    "\n",
    "@interact\n",
    "def show_plot(user=df['user'].unique(), start_date=\"2019-10-12\", end_date=\"2020-01-03\"):\n",
    "    mask = (df['user'] == user)\n",
    "    return datesPostCountGraph(df[mask].loc[end_date:start_date], user)"
   ]
  },
  {
   "cell_type": "markdown",
   "metadata": {},
   "source": [
    "## How many total entries i would have if i exclude days that have less than n entries?"
   ]
  },
  {
   "cell_type": "code",
   "execution_count": 8,
   "metadata": {},
   "outputs": [
    {
     "data": {
      "text/plain": [
       "<matplotlib.axes._subplots.AxesSubplot at 0x1401f5f10>"
      ]
     },
     "execution_count": 8,
     "metadata": {},
     "output_type": "execute_result"
    },
    {
     "data": {
      "image/png": "[encoded data removed]",
      "text/plain": [
       "<Figure size 432x288 with 1 Axes>"
      ]
     },
     "metadata": {
      "needs_background": "light"
     },
     "output_type": "display_data"
    }
   ],
   "source": [
    "def dailyPostCount(df):\n",
    "    data = tools.setDatetimeIndexFloor(df, what=\"1D\")\n",
    "    data = data.groupby([data.index, data.user]).id.count()\n",
    "    data = data.to_frame()\n",
    "    return data\n",
    "\n",
    "\n",
    "count = dailyPostCount(df)\n",
    "\n",
    "where_to_cut = pd.DataFrame(columns=['total_posts'])\n",
    "for i in range(0, 400):\n",
    "    l = len(count[(count['id'] > i)])\n",
    "\n",
    "    where_to_cut.loc[i] = [\n",
    "        l\n",
    "    ]\n",
    "where_to_cut.plot(title='Total posts collected against number of entries per')"
   ]
  },
  {
   "cell_type": "markdown",
   "metadata": {},
   "source": [
    "## Generate stats (missing values, timeframes, timelines..) per user"
   ]
  },
  {
   "cell_type": "code",
   "execution_count": 9,
   "metadata": {},
   "outputs": [
    {
     "data": {
      "text/html": [
       "<div>\n",
       "<style scoped>\n",
       "    .dataframe tbody tr th:only-of-type {\n",
       "        vertical-align: middle;\n",
       "    }\n",
       "\n",
       "    .dataframe tbody tr th {\n",
       "        vertical-align: top;\n",
       "    }\n",
       "\n",
       "    .dataframe thead th {\n",
       "        text-align: right;\n",
       "    }\n",
       "</style>\n",
       "<table border=\"1\" class=\"dataframe\">\n",
       "  <thead>\n",
       "    <tr style=\"text-align: right;\">\n",
       "      <th></th>\n",
       "      <th>start</th>\n",
       "      <th>end</th>\n",
       "      <th>average_impression_count</th>\n",
       "      <th>timelines</th>\n",
       "      <th>total_entries</th>\n",
       "      <th>missing values</th>\n",
       "    </tr>\n",
       "  </thead>\n",
       "  <tbody>\n",
       "    <tr>\n",
       "      <td>Kris</td>\n",
       "      <td>2019-10-22 00:00:00+00:00</td>\n",
       "      <td>2020-02-03 00:00:00+00:00</td>\n",
       "      <td>19.177669</td>\n",
       "      <td>961</td>\n",
       "      <td>18163</td>\n",
       "      <td>0</td>\n",
       "    </tr>\n",
       "    <tr>\n",
       "      <td>Erwijn</td>\n",
       "      <td>2019-10-21 00:00:00+00:00</td>\n",
       "      <td>2020-02-03 00:00:00+00:00</td>\n",
       "      <td>18.575860</td>\n",
       "      <td>986</td>\n",
       "      <td>19279</td>\n",
       "      <td>0</td>\n",
       "    </tr>\n",
       "    <tr>\n",
       "      <td>Martijn</td>\n",
       "      <td>2019-10-21 00:00:00+00:00</td>\n",
       "      <td>2020-01-01 00:00:00+00:00</td>\n",
       "      <td>19.410764</td>\n",
       "      <td>777</td>\n",
       "      <td>14512</td>\n",
       "      <td>0</td>\n",
       "    </tr>\n",
       "    <tr>\n",
       "      <td>Nienke</td>\n",
       "      <td>2019-10-16 00:00:00+00:00</td>\n",
       "      <td>2020-02-05 00:00:00+00:00</td>\n",
       "      <td>19.510745</td>\n",
       "      <td>884</td>\n",
       "      <td>15217</td>\n",
       "      <td>0</td>\n",
       "    </tr>\n",
       "    <tr>\n",
       "      <td>Doortje</td>\n",
       "      <td>2019-10-21 00:00:00+00:00</td>\n",
       "      <td>2020-01-13 00:00:00+00:00</td>\n",
       "      <td>19.244684</td>\n",
       "      <td>955</td>\n",
       "      <td>18530</td>\n",
       "      <td>0</td>\n",
       "    </tr>\n",
       "    <tr>\n",
       "      <td>Gert</td>\n",
       "      <td>2019-10-19 00:00:00+00:00</td>\n",
       "      <td>2020-02-03 00:00:00+00:00</td>\n",
       "      <td>20.215725</td>\n",
       "      <td>990</td>\n",
       "      <td>19358</td>\n",
       "      <td>1</td>\n",
       "    </tr>\n",
       "    <tr>\n",
       "      <td>Bjoke</td>\n",
       "      <td>2019-10-20 00:00:00+00:00</td>\n",
       "      <td>2020-02-05 00:00:00+00:00</td>\n",
       "      <td>18.742486</td>\n",
       "      <td>912</td>\n",
       "      <td>16702</td>\n",
       "      <td>0</td>\n",
       "    </tr>\n",
       "    <tr>\n",
       "      <td>Hanneke</td>\n",
       "      <td>2019-10-19 00:00:00+00:00</td>\n",
       "      <td>2020-02-03 00:00:00+00:00</td>\n",
       "      <td>18.732350</td>\n",
       "      <td>917</td>\n",
       "      <td>16955</td>\n",
       "      <td>0</td>\n",
       "    </tr>\n",
       "    <tr>\n",
       "      <td>Omar</td>\n",
       "      <td>2019-10-21 00:00:00+00:00</td>\n",
       "      <td>2020-01-30 00:00:00+00:00</td>\n",
       "      <td>19.732927</td>\n",
       "      <td>822</td>\n",
       "      <td>14423</td>\n",
       "      <td>0</td>\n",
       "    </tr>\n",
       "    <tr>\n",
       "      <td>Ivo</td>\n",
       "      <td>2019-10-20 00:00:00+00:00</td>\n",
       "      <td>2020-02-03 00:00:00+00:00</td>\n",
       "      <td>19.142758</td>\n",
       "      <td>947</td>\n",
       "      <td>17253</td>\n",
       "      <td>0</td>\n",
       "    </tr>\n",
       "    <tr>\n",
       "      <td>Cor Timmerman</td>\n",
       "      <td>2019-10-21 00:00:00+00:00</td>\n",
       "      <td>2019-12-31 00:00:00+00:00</td>\n",
       "      <td>18.956824</td>\n",
       "      <td>787</td>\n",
       "      <td>14244</td>\n",
       "      <td>0</td>\n",
       "    </tr>\n",
       "    <tr>\n",
       "      <td>Quintijn</td>\n",
       "      <td>2019-10-22 00:00:00+00:00</td>\n",
       "      <td>2020-01-13 00:00:00+00:00</td>\n",
       "      <td>18.535439</td>\n",
       "      <td>836</td>\n",
       "      <td>14659</td>\n",
       "      <td>0</td>\n",
       "    </tr>\n",
       "    <tr>\n",
       "      <td>Roelfke</td>\n",
       "      <td>2019-10-21 00:00:00+00:00</td>\n",
       "      <td>2019-12-29 00:00:00+00:00</td>\n",
       "      <td>18.528067</td>\n",
       "      <td>678</td>\n",
       "      <td>10760</td>\n",
       "      <td>0</td>\n",
       "    </tr>\n",
       "    <tr>\n",
       "      <td>Friedie</td>\n",
       "      <td>2019-10-21 00:00:00+00:00</td>\n",
       "      <td>2020-01-05 00:00:00+00:00</td>\n",
       "      <td>18.826485</td>\n",
       "      <td>804</td>\n",
       "      <td>13751</td>\n",
       "      <td>0</td>\n",
       "    </tr>\n",
       "    <tr>\n",
       "      <td>Aarend</td>\n",
       "      <td>2019-10-20 00:00:00+00:00</td>\n",
       "      <td>2020-02-05 00:00:00+00:00</td>\n",
       "      <td>18.677623</td>\n",
       "      <td>914</td>\n",
       "      <td>17402</td>\n",
       "      <td>0</td>\n",
       "    </tr>\n",
       "    <tr>\n",
       "      <td>Juultje</td>\n",
       "      <td>2019-10-20 00:00:00+00:00</td>\n",
       "      <td>2020-02-03 00:00:00+00:00</td>\n",
       "      <td>19.471808</td>\n",
       "      <td>890</td>\n",
       "      <td>17505</td>\n",
       "      <td>0</td>\n",
       "    </tr>\n",
       "    <tr>\n",
       "      <td>Phoebe</td>\n",
       "      <td>2019-10-21 00:00:00+00:00</td>\n",
       "      <td>2020-02-03 00:00:00+00:00</td>\n",
       "      <td>19.078029</td>\n",
       "      <td>868</td>\n",
       "      <td>15097</td>\n",
       "      <td>0</td>\n",
       "    </tr>\n",
       "    <tr>\n",
       "      <td>Stephan</td>\n",
       "      <td>2019-10-21 00:00:00+00:00</td>\n",
       "      <td>2020-02-03 00:00:00+00:00</td>\n",
       "      <td>19.370328</td>\n",
       "      <td>868</td>\n",
       "      <td>16480</td>\n",
       "      <td>0</td>\n",
       "    </tr>\n",
       "    <tr>\n",
       "      <td>Lonneke</td>\n",
       "      <td>2019-10-20 00:00:00+00:00</td>\n",
       "      <td>2020-02-03 00:00:00+00:00</td>\n",
       "      <td>19.072201</td>\n",
       "      <td>955</td>\n",
       "      <td>18504</td>\n",
       "      <td>0</td>\n",
       "    </tr>\n",
       "    <tr>\n",
       "      <td>Terese</td>\n",
       "      <td>2019-10-21 00:00:00+00:00</td>\n",
       "      <td>2020-02-05 00:00:00+00:00</td>\n",
       "      <td>19.425363</td>\n",
       "      <td>894</td>\n",
       "      <td>17498</td>\n",
       "      <td>0</td>\n",
       "    </tr>\n",
       "  </tbody>\n",
       "</table>\n",
       "</div>"
      ],
      "text/plain": [
       "                                   start                        end  \\\n",
       "Kris           2019-10-22 00:00:00+00:00  2020-02-03 00:00:00+00:00   \n",
       "Erwijn         2019-10-21 00:00:00+00:00  2020-02-03 00:00:00+00:00   \n",
       "Martijn        2019-10-21 00:00:00+00:00  2020-01-01 00:00:00+00:00   \n",
       "Nienke         2019-10-16 00:00:00+00:00  2020-02-05 00:00:00+00:00   \n",
       "Doortje        2019-10-21 00:00:00+00:00  2020-01-13 00:00:00+00:00   \n",
       "Gert           2019-10-19 00:00:00+00:00  2020-02-03 00:00:00+00:00   \n",
       "Bjoke          2019-10-20 00:00:00+00:00  2020-02-05 00:00:00+00:00   \n",
       "Hanneke        2019-10-19 00:00:00+00:00  2020-02-03 00:00:00+00:00   \n",
       "Omar           2019-10-21 00:00:00+00:00  2020-01-30 00:00:00+00:00   \n",
       "Ivo            2019-10-20 00:00:00+00:00  2020-02-03 00:00:00+00:00   \n",
       "Cor Timmerman  2019-10-21 00:00:00+00:00  2019-12-31 00:00:00+00:00   \n",
       "Quintijn       2019-10-22 00:00:00+00:00  2020-01-13 00:00:00+00:00   \n",
       "Roelfke        2019-10-21 00:00:00+00:00  2019-12-29 00:00:00+00:00   \n",
       "Friedie        2019-10-21 00:00:00+00:00  2020-01-05 00:00:00+00:00   \n",
       "Aarend         2019-10-20 00:00:00+00:00  2020-02-05 00:00:00+00:00   \n",
       "Juultje        2019-10-20 00:00:00+00:00  2020-02-03 00:00:00+00:00   \n",
       "Phoebe         2019-10-21 00:00:00+00:00  2020-02-03 00:00:00+00:00   \n",
       "Stephan        2019-10-21 00:00:00+00:00  2020-02-03 00:00:00+00:00   \n",
       "Lonneke        2019-10-20 00:00:00+00:00  2020-02-03 00:00:00+00:00   \n",
       "Terese         2019-10-21 00:00:00+00:00  2020-02-05 00:00:00+00:00   \n",
       "\n",
       "               average_impression_count timelines total_entries missing values  \n",
       "Kris                          19.177669       961         18163              0  \n",
       "Erwijn                        18.575860       986         19279              0  \n",
       "Martijn                       19.410764       777         14512              0  \n",
       "Nienke                        19.510745       884         15217              0  \n",
       "Doortje                       19.244684       955         18530              0  \n",
       "Gert                          20.215725       990         19358              1  \n",
       "Bjoke                         18.742486       912         16702              0  \n",
       "Hanneke                       18.732350       917         16955              0  \n",
       "Omar                          19.732927       822         14423              0  \n",
       "Ivo                           19.142758       947         17253              0  \n",
       "Cor Timmerman                 18.956824       787         14244              0  \n",
       "Quintijn                      18.535439       836         14659              0  \n",
       "Roelfke                       18.528067       678         10760              0  \n",
       "Friedie                       18.826485       804         13751              0  \n",
       "Aarend                        18.677623       914         17402              0  \n",
       "Juultje                       19.471808       890         17505              0  \n",
       "Phoebe                        19.078029       868         15097              0  \n",
       "Stephan                       19.370328       868         16480              0  \n",
       "Lonneke                       19.072201       955         18504              0  \n",
       "Terese                        19.425363       894         17498              0  "
      ]
     },
     "execution_count": 9,
     "metadata": {},
     "output_type": "execute_result"
    }
   ],
   "source": [
    "stats = pd.DataFrame(columns=['start', 'end',\n",
    "                              'average_impression_count',\n",
    "                              'timelines',\n",
    "                              'total_entries',\n",
    "                              'missing values'\n",
    "                              ])\n",
    "\n",
    "\n",
    "def getStats(df):\n",
    "    user_list = df.user.unique()\n",
    "    for user in user_list:\n",
    "        data = df[(df['user'] == user)]\n",
    "\n",
    "        stats.loc[user] = [\n",
    "            data.index.min(),\n",
    "            data.index.max(),\n",
    "            # max(df.impressionOrder),\n",
    "            #min(df.groupby(['timeline'], sort=False)['impressionOrder'].max()),\n",
    "            data.impressionOrder.mean(),\n",
    "            data['timeline'].nunique(),\n",
    "            data['id'].count(),\n",
    "            data.isna().sum().sum()\n",
    "        ]\n",
    "    return stats\n",
    "\n",
    "\n",
    "stats = getStats(df)\n",
    "\n",
    "stats"
   ]
  },
  {
   "cell_type": "markdown",
   "metadata": {},
   "source": [
    "## Distribution of total entries collected per timeline"
   ]
  },
  {
   "cell_type": "code",
   "execution_count": 10,
   "metadata": {},
   "outputs": [
    {
     "data": {
      "text/plain": [
       "<matplotlib.axes._subplots.AxesSubplot at 0x13ff76c50>"
      ]
     },
     "execution_count": 10,
     "metadata": {},
     "output_type": "execute_result"
    },
    {
     "data": {
      "image/png": "[encoded data removed]",
      "text/plain": [
       "<Figure size 432x288 with 1 Axes>"
      ]
     },
     "metadata": {
      "needs_background": "light"
     },
     "output_type": "display_data"
    }
   ],
   "source": [
    "df.groupby(['timeline'])['impressionOrder'].max().plot.hist(bins=16)"
   ]
  },
  {
   "cell_type": "code",
   "execution_count": 11,
   "metadata": {},
   "outputs": [
    {
     "data": {
      "text/plain": [
       "<matplotlib.axes._subplots.AxesSubplot at 0x1420ae250>"
      ]
     },
     "execution_count": 11,
     "metadata": {},
     "output_type": "execute_result"
    },
    {
     "data": {
      "image/png": "[encoded data removed]",
      "text/plain": [
       "<Figure size 432x288 with 1 Axes>"
      ]
     },
     "metadata": {
      "needs_background": "light"
     },
     "output_type": "display_data"
    }
   ],
   "source": [
    "result = df\n",
    "result.index = result.index.floor('H')\n",
    "names = result.groupby(df.index).user.unique()\n",
    "timelines = result.groupby(df.index).timeline.unique()\n",
    "result = pd.DataFrame(names)\n",
    "result.columns = ['names']\n",
    "result['users_count'] = result['names'].str.len()\n",
    "result['timelines'] = timelines\n",
    "result['timelines_count'] = result['timelines'].str.len()\n",
    "\n",
    "# result.users_count.plot.hist(bins=5)\n",
    "result.timelines_count.plot.hist(bins=31)"
   ]
  },
  {
   "cell_type": "markdown",
   "metadata": {},
   "source": [
    "## Distribution of number of timelines per hour"
   ]
  },
  {
   "cell_type": "code",
   "execution_count": 12,
   "metadata": {},
   "outputs": [
    {
     "data": {
      "text/plain": [
       "<matplotlib.axes._subplots.AxesSubplot at 0x13ff6d8d0>"
      ]
     },
     "execution_count": 12,
     "metadata": {},
     "output_type": "execute_result"
    },
    {
     "data": {
      "image/png": "[encoded data removed]",
      "text/plain": [
       "<Figure size 432x288 with 1 Axes>"
      ]
     },
     "metadata": {
      "needs_background": "light"
     },
     "output_type": "display_data"
    }
   ],
   "source": [
    "result.timelines_count.plot.hist(\n",
    "    bins=31, title='distribution of number of timelines  collected per hour')"
   ]
  },
  {
   "cell_type": "markdown",
   "metadata": {},
   "source": [
    "## Distribution of number of active (collecting data) users per hour"
   ]
  },
  {
   "cell_type": "code",
   "execution_count": 13,
   "metadata": {},
   "outputs": [
    {
     "data": {
      "text/plain": [
       "<matplotlib.axes._subplots.AxesSubplot at 0x13bdd8e10>"
      ]
     },
     "execution_count": 13,
     "metadata": {},
     "output_type": "execute_result"
    },
    {
     "data": {
      "image/png": "[encoded data removed]",
      "text/plain": [
       "<Figure size 432x288 with 1 Axes>"
      ]
     },
     "metadata": {
      "needs_background": "light"
     },
     "output_type": "display_data"
    }
   ],
   "source": [
    "result.users_count.plot.hist(\n",
    "    bins=20, title='distribution of number of users active per hour')"
   ]
  },
  {
   "cell_type": "markdown",
   "metadata": {},
   "source": [
    "## How many hours of data do i get if i only select hours where at least n users were collecting data?"
   ]
  },
  {
   "cell_type": "code",
   "execution_count": 14,
   "metadata": {},
   "outputs": [
    {
     "name": "stdout",
     "output_type": "stream",
     "text": [
      "timelines seen by all users: 61 hours\n",
      "timelines seen by at least 16 users: 75 hours\n",
      "timelines seen by at least 10 users: 85 hours\n",
      "all data: 101 hours\n"
     ]
    }
   ],
   "source": [
    "print('timelines seen by all users: ' +\n",
    "      str(len(result[(result['users_count'] == 20) & (result['timelines_count'] >= 20)]))+' hours')\n",
    "\n",
    "print('timelines seen by at least 16 users: ' +\n",
    "      str(len(result[(result['users_count'] >= 16) & (result['timelines_count'] >= 16)]))+' hours')\n",
    "\n",
    "print('timelines seen by at least 10 users: ' +\n",
    "      str(len(result[(result['users_count'] >= 10) & (result['timelines_count'] >= 10)]))+' hours')\n",
    "\n",
    "print('all data: '+str(len(result))+' hours')"
   ]
  },
  {
   "cell_type": "markdown",
   "metadata": {},
   "source": [
    "# Preparing the Data"
   ]
  },
  {
   "cell_type": "markdown",
   "metadata": {},
   "source": [
    "## Set timeframes"
   ]
  },
  {
   "cell_type": "code",
   "execution_count": 15,
   "metadata": {},
   "outputs": [],
   "source": [
    "#timeframe_all = ['2019-11-01','2019-12-31']\n",
    "#pre_polarization = ['2019-11-02','2019-11-19']\n",
    "#during_polarization = ['2019-11-20','2019-12-05']\n",
    "#after_polarization = ['2019-12-05','2019-12-10']\n",
    "#after_polarization_with_likes = ['2019-12-10','2019-12-27']"
   ]
  },
  {
   "cell_type": "markdown",
   "metadata": {},
   "source": [
    "## Remove all the timelines that have less than 10 entries"
   ]
  },
  {
   "cell_type": "code",
   "execution_count": 16,
   "metadata": {},
   "outputs": [
    {
     "name": "stdout",
     "output_type": "stream",
     "text": [
      "Before: 232162\n",
      "After: 225997\n"
     ]
    }
   ],
   "source": [
    "df_wip = df.loc['2019-11-01':'2019-12-31']\n",
    "timelines = df_wip.groupby('timeline')['impressionOrder'].max()\n",
    "\n",
    "print('Before: {}'.format(len(df_wip)))\n",
    "df_wip = df_wip[df_wip.timeline.isin(list(timelines[timelines > 10].index))]\n",
    "print('After: {}'.format(len(df_wip)))"
   ]
  },
  {
   "cell_type": "markdown",
   "metadata": {},
   "source": [
    "In order to understand what is the best combination of users which will provide the longest dataset possible given a minimun number of users, we must:\n",
    "- generate list of lists with the possible combinations >= of 16 elements (8 per group)\n",
    "- filter df and check len by combination\n",
    "- output top 5 combinations with len"
   ]
  },
  {
   "cell_type": "markdown",
   "metadata": {},
   "source": [
    "## What is the combination of 16 or more users i should use to keep as much data as possible?"
   ]
  },
  {
   "cell_type": "code",
   "execution_count": 17,
   "metadata": {},
   "outputs": [],
   "source": [
    "result.names = result.names.apply(sorted)\n",
    "result = result[result['users_count'] >= 16]\n",
    "result = result.loc['2019-11-01':'2019-12-31']\n",
    "\n",
    "\n",
    "from IPython.display import clear_output, display\n",
    "import itertools\n",
    "\n",
    "\n",
    "def user_combinations(trimmed=result, n_users=16):\n",
    "    list_of_all_users_name = sorted(trimmed.names.iloc[0])\n",
    "    print(list_of_all_users_name)\n",
    "\n",
    "    combinations = set(\n",
    "        list(itertools.combinations(list_of_all_users_name, n_users)))\n",
    "\n",
    "    d = {}\n",
    "    n = 0\n",
    "    for i in combinations:\n",
    "        n += 1\n",
    "        clear_output(wait=True)\n",
    "        print(str(n)+'/'+str(len(combinations)))\n",
    "        for index, row in result.iterrows():\n",
    "            check = all(item in row.names for item in i)\n",
    "            if check:\n",
    "                nam = str(i)\n",
    "                if nam in d:\n",
    "                    d[nam] += 1\n",
    "                else:\n",
    "                    d[nam] = 1\n",
    "            else:\n",
    "                pass\n",
    "    user_combinations_dict = {k: v for k, v in sorted(\n",
    "        d.items(), key=lambda item: item[1], reverse=True)}\n",
    "\n",
    "    return user_combinations_dict\n",
    "\n",
    "\n",
    "#user_combinations_dict = user_combinations()\n",
    "# list(user_combinations_dict.items())[0]"
   ]
  },
  {
   "cell_type": "markdown",
   "metadata": {},
   "source": [
    "Now we know that the best combination of users is \"('Aarend', 'Bjoke', 'Cor Timmerman', 'Doortje', 'Erwijn', 'Hanneke', 'Juultje', 'Kris', 'Lonneke', 'Martijn', 'Nienke', 'Omar', 'Phoebe', 'Quintijn', 'Stephan', 'Terese')\". We want a list of these timelines in order to filter the dataframe and only keep those."
   ]
  },
  {
   "cell_type": "code",
   "execution_count": 18,
   "metadata": {},
   "outputs": [],
   "source": [
    "filter_lst = ['Aarend', 'Bjoke', 'Cor Timmerman', 'Doortje', 'Erwijn', 'Hanneke', 'Juultje',\n",
    "              'Kris', 'Lonneke', 'Martijn', 'Nienke', 'Omar', 'Phoebe', 'Quintijn', 'Stephan', 'Terese']\n",
    "\n",
    "timelines_to_keep = []\n",
    "\n",
    "for index, row in result.iterrows():\n",
    "    if all(n in row.names for n in filter_lst):\n",
    "        timelines_to_keep.append(list(row.timelines))\n",
    "    else:\n",
    "        pass\n",
    "\n",
    "timelines_to_keep = [item for sublist in timelines_to_keep for item in sublist]"
   ]
  },
  {
   "cell_type": "markdown",
   "metadata": {},
   "source": [
    "## Keep only timelines with appropriate combination of users"
   ]
  },
  {
   "cell_type": "code",
   "execution_count": 19,
   "metadata": {},
   "outputs": [
    {
     "name": "stdout",
     "output_type": "stream",
     "text": [
      "Before: 225997\n",
      "After: 211421\n"
     ]
    }
   ],
   "source": [
    "print('Before: {}'.format(len(df_wip)))\n",
    "df_wip = df_wip[df_wip.timeline.isin(timelines_to_keep)]\n",
    "print('After: {}'.format(len(df_wip)))"
   ]
  },
  {
   "cell_type": "code",
   "execution_count": 20,
   "metadata": {},
   "outputs": [],
   "source": [
    "#df_wip = df_wip.replace({\"user\": names_dict})"
   ]
  },
  {
   "cell_type": "code",
   "execution_count": 21,
   "metadata": {},
   "outputs": [
    {
     "name": "stdout",
     "output_type": "stream",
     "text": [
      "Before: 211421\n",
      "After: 210095\n"
     ]
    }
   ],
   "source": [
    "sources_to_remove = ['Jair Messias Bolsonaro',\n",
    "                     'Donald J. Trump', 'Marine Le Pen']  # E TRUMP\n",
    "print('Before: {}'.format(len(df_wip)))\n",
    "df_wip = df_wip[~df_wip.source.isin(sources_to_remove)]\n",
    "print('After: {}'.format(len(df_wip)))"
   ]
  },
  {
   "cell_type": "code",
   "execution_count": 22,
   "metadata": {},
   "outputs": [
    {
     "name": "stdout",
     "output_type": "stream",
     "text": [
      "Before: 210095\n",
      "After: 150753\n"
     ]
    }
   ],
   "source": [
    "users_to_keep = ['Bjoke', 'Cor Timmerman', 'Doortje', 'Erwijn', 'Hanneke', 'Juultje',\n",
    "                 'Kris', 'Lonneke', 'Martijn', 'Nienke', 'Omar', 'Phoebe', 'Quintijn', 'Stephan']\n",
    "print('Before: {}'.format(len(df_wip)))\n",
    "df_wip = df_wip[df_wip['user'].isin(users_to_keep)]\n",
    "print('After: {}'.format(len(df_wip)))"
   ]
  },
  {
   "cell_type": "code",
   "execution_count": 23,
   "metadata": {},
   "outputs": [],
   "source": [
    "df_wip.to_csv('dataset.csv')"
   ]
  },
  {
   "cell_type": "markdown",
   "metadata": {},
   "source": [
    "# Normalize and Plot"
   ]
  },
  {
   "cell_type": "code",
   "execution_count": 24,
   "metadata": {},
   "outputs": [],
   "source": [
    "left_media = ['la Repubblica',\n",
    "              'il manifesto',\n",
    "              'Open',\n",
    "              'La7'\n",
    "              ]\n",
    "\n",
    "neutral_media = ['ANSA.it',\n",
    "                 'Adnkronos'\n",
    "                 ]\n",
    "\n",
    "right_media = ['Il Sole 24 ORE',\n",
    "               'Il Giornale',\n",
    "               'Corriere della Sera',\n",
    "               'Tgcom24',\n",
    "               'Libero',\n",
    "               'Sky TG24'\n",
    "               ]\n",
    "\n",
    "left_politics = ['Partito Democratico',\n",
    "                 'Italia Viva',\n",
    "                 'Matteo Renzi',\n",
    "                 'Giuseppe Conte',\n",
    "                 'Pietro Grasso'\n",
    "                ]\n",
    "\n",
    "right_politics = ['Lega - Salvini Premier',\n",
    "                  'Matteo Salvini',\n",
    "                  'Giorgia Meloni',\n",
    "                  \"Fratelli d'Italia\",\n",
    "                  'Silvio Berlusconi'\n",
    "                  ]"
   ]
  },
  {
   "cell_type": "code",
   "execution_count": 25,
   "metadata": {},
   "outputs": [],
   "source": [
    "from collections import defaultdict\n",
    "import os\n",
    "from datetime import datetime\n",
    "from scipy.stats import ttest_ind\n",
    "from numpy import mean\n",
    "# set constants\n",
    "\n",
    "sources_dx = right_politics\n",
    "sources_sx = left_politics\n",
    "\n",
    "start_collection = '2019-11-01'\n",
    "start_polarization = '2019-11-20'\n",
    "\n",
    "\n",
    "timerange = ('2019-12-05',\n",
    "             '2019-12-10')\n",
    "\n",
    "adjusted = True\n",
    "\n",
    "folder = '../outputs/fb/summary'\n",
    "file_users = '../config/users.csv'"
   ]
  },
  {
   "cell_type": "code",
   "execution_count": 26,
   "metadata": {},
   "outputs": [
    {
     "name": "stdout",
     "output_type": "stream",
     "text": [
      "Lega - Salvini Premier/Partito Democratico\n",
      "Polarized = 1.6294296793584504\n",
      "Control = 0.9278157805965792\n",
      "Statistic: 2.7015250085318856\n",
      "Pvalue: 0.019254969970947163\n",
      "Lega - Salvini Premier/Italia Viva\n",
      "Polarized = 2.5874801786394195\n",
      "Control = 0.876858956941289\n",
      "Statistic: 3.3512978942889142\n",
      "Pvalue: 0.005766278836337836\n",
      "Lega - Salvini Premier/Matteo Renzi\n",
      "Polarized = 1.1438802408895044\n",
      "Control = 0.48229642882415424\n",
      "Statistic: 4.271530580796261\n",
      "Pvalue: 0.001085144212321104\n"
     ]
    },
    {
     "name": "stderr",
     "output_type": "stream",
     "text": [
      "/Users/macbook/PycharmProjects/dashboard/venv3/lib/python3.7/site-packages/numpy/core/_methods.py:193: RuntimeWarning: invalid value encountered in subtract\n",
      "  x = asanyarray(arr - arrmean)\n",
      "/Users/macbook/PycharmProjects/dashboard/venv3/lib/python3.7/site-packages/scipy/stats/stats.py:4331: RuntimeWarning: invalid value encountered in double_scalars\n",
      "  d = mean1 - mean2\n"
     ]
    },
    {
     "name": "stdout",
     "output_type": "stream",
     "text": [
      "Matteo Salvini/Partito Democratico\n",
      "Polarized = 1.9818419420989761\n",
      "Control = 1.0882474991260433\n",
      "Statistic: 3.090969912780113\n",
      "Pvalue: 0.009345477691975615\n",
      "Matteo Salvini/Italia Viva\n",
      "Polarized = 2.9203454150578687\n",
      "Control = 1.0665879488746146\n",
      "Statistic: 5.26498100702763\n",
      "Pvalue: 0.00019944134220518058\n",
      "Matteo Salvini/Matteo Renzi\n",
      "Polarized = 1.3895677967694782\n",
      "Control = 0.5685327467867027\n",
      "Statistic: 4.107321306807436\n",
      "Pvalue: 0.0014532121446258486\n"
     ]
    }
   ],
   "source": [
    "def count_source(impressions, source):\n",
    "    sources_users = {\"source\": [],\n",
    "                     \"user\": [],\n",
    "                     \"count\": []}\n",
    "    for user, user_impressions in impressions.groupby('user'):\n",
    "        sources_users[\"source\"].append(source)\n",
    "        sources_users[\"user\"].append(user)\n",
    "        sources_users[\"count\"].append(user_impressions[user_impressions[\"source\"] == source][\"source\"].count())\n",
    "    return pd.DataFrame(data=sources_users)\n",
    "\n",
    "\n",
    "def users_dx_and_sx(source_r, sources_l, impressions):\n",
    "    sources_users = count_source(impressions, source_r)\n",
    "    sources_users = sources_users[['user', 'count']]\n",
    "    sources_users.columns = ['user', 'dx']\n",
    "    sources_users['sx'] = count_source(impressions, source_l)['count']\n",
    "    return sources_users\n",
    "\n",
    "for source_r in sources_dx:\n",
    "    for source_l in sources_sx:\n",
    "        impressions = df_wip[['user', 'source']]\n",
    "\n",
    "        # filter out for desired time range for experiment\n",
    "\n",
    "        impressions_exp = impressions[(impressions.index >= timerange[0])\n",
    "                                      & (impressions.index <= timerange[1])]\n",
    "\n",
    "        impressions_pre = impressions[(impressions.index <= start_polarization) & (\n",
    "            impressions.index >= start_collection)]\n",
    "\n",
    "        # count specific sources per user\n",
    "\n",
    "\n",
    "        sources_users_exp = users_dx_and_sx(source_r, source_l, impressions_exp)\n",
    "        sources_users_pre = users_dx_and_sx(source_r, source_l, impressions_pre)\n",
    "\n",
    "        sources_users_exp['ratio_dx-sx'] = sources_users_exp['dx'] / \\\n",
    "            sources_users_exp['sx']\n",
    "\n",
    "        #sources_users_exp['ratio_dx-sx_adj'] = (sources_users_exp['dx']/sources_users_pre['dx'])/(sources_users_exp['sx']/sources_users_pre['sx'])\n",
    "        sources_users_exp['ratio_dx-sx_adj'] = (sources_users_exp['dx'].divide(\n",
    "            sources_users_pre['dx']))/(sources_users_exp['sx'].divide(sources_users_pre['sx']))\n",
    "\n",
    "        # add column with test group the user belongs to\n",
    "        polarized_users = ('Aarend', 'Bjoke', 'Cor Timmerman', 'Doortje',\n",
    "                           'Erwijn', 'Friedie', 'Gert', 'Hanneke', 'Ivo', 'Juultje')\n",
    "\n",
    "        sources_users_exp[\"user_group\"] = [\"polarized\" if user in polarized_users\n",
    "                                           else \"control\"\n",
    "                                           for user in sources_users_exp[\"user\"]]\n",
    "\n",
    "\n",
    "        # compare means and run t-test\n",
    "        if adjusted:\n",
    "            testing_var = 'ratio_dx-sx_adj'\n",
    "        else:\n",
    "            testing_var = 'ratio_dx-sx'\n",
    "\n",
    "        polarized = sources_users_exp[sources_users_exp['user_group']\n",
    "                                      == 'polarized'][testing_var]  # or _adj\n",
    "        control = sources_users_exp[sources_users_exp['user_group']\n",
    "                                    == 'control'][testing_var]\n",
    "\n",
    "\n",
    "        statistic, pvalue = ttest_ind(polarized, control)\n",
    "        if pvalue <= 0.05:\n",
    "            print(source_r+'/'+source_l)\n",
    "            print('Polarized = '+str(mean(polarized)))\n",
    "            print('Control = '+str(mean(control)))\n",
    "            print('Statistic: {}'.format(statistic))\n",
    "            print('Pvalue: {}'.format(pvalue))"
   ]
  },
  {
   "cell_type": "code",
   "execution_count": 27,
   "metadata": {},
   "outputs": [
    {
     "data": {
      "text/plain": [
       "Text(0.5, 0.98, 'Right/Left count ratio - Adjusted')"
      ]
     },
     "execution_count": 27,
     "metadata": {},
     "output_type": "execute_result"
    },
    {
     "data": {
      "image/png": "[encoded data removed]",
      "text/plain": [
       "<Figure size 360x360 with 1 Axes>"
      ]
     },
     "metadata": {},
     "output_type": "display_data"
    }
   ],
   "source": [
    "import seaborn as sns\n",
    "%matplotlib inline\n",
    "\n",
    "title = 'Right/Left count ratio'\n",
    "\n",
    "if adjusted:\n",
    "    title = title+\" - Adjusted\"\n",
    "else:\n",
    "    pass\n",
    "\n",
    "sns.set(style=\"ticks\", color_codes=True)\n",
    "groups_data = sources_users_exp[[testing_var, \"user_group\"]]\n",
    "sns.catplot(x=\"user_group\", y=testing_var, data=groups_data).fig.suptitle(title, fontsize=10)"
   ]
  },
  {
   "cell_type": "code",
   "execution_count": null,
   "metadata": {},
   "outputs": [],
   "source": []
  },
  {
   "cell_type": "code",
   "execution_count": 28,
   "metadata": {},
   "outputs": [
    {
     "data": {
      "text/html": [
       "<div>\n",
       "<style scoped>\n",
       "    .dataframe tbody tr th:only-of-type {\n",
       "        vertical-align: middle;\n",
       "    }\n",
       "\n",
       "    .dataframe tbody tr th {\n",
       "        vertical-align: top;\n",
       "    }\n",
       "\n",
       "    .dataframe thead th {\n",
       "        text-align: right;\n",
       "    }\n",
       "</style>\n",
       "<table border=\"1\" class=\"dataframe\">\n",
       "  <thead>\n",
       "    <tr style=\"text-align: right;\">\n",
       "      <th></th>\n",
       "      <th>ratio_dx-sx_adj</th>\n",
       "      <th>user_group</th>\n",
       "    </tr>\n",
       "  </thead>\n",
       "  <tbody>\n",
       "    <tr>\n",
       "      <td>0</td>\n",
       "      <td>0.375000</td>\n",
       "      <td>polarized</td>\n",
       "    </tr>\n",
       "    <tr>\n",
       "      <td>1</td>\n",
       "      <td>0.461538</td>\n",
       "      <td>polarized</td>\n",
       "    </tr>\n",
       "    <tr>\n",
       "      <td>2</td>\n",
       "      <td>NaN</td>\n",
       "      <td>polarized</td>\n",
       "    </tr>\n",
       "    <tr>\n",
       "      <td>3</td>\n",
       "      <td>1.230769</td>\n",
       "      <td>polarized</td>\n",
       "    </tr>\n",
       "    <tr>\n",
       "      <td>4</td>\n",
       "      <td>0.000000</td>\n",
       "      <td>polarized</td>\n",
       "    </tr>\n",
       "    <tr>\n",
       "      <td>5</td>\n",
       "      <td>0.375000</td>\n",
       "      <td>polarized</td>\n",
       "    </tr>\n",
       "    <tr>\n",
       "      <td>6</td>\n",
       "      <td>0.769231</td>\n",
       "      <td>control</td>\n",
       "    </tr>\n",
       "    <tr>\n",
       "      <td>7</td>\n",
       "      <td>0.060870</td>\n",
       "      <td>control</td>\n",
       "    </tr>\n",
       "    <tr>\n",
       "      <td>8</td>\n",
       "      <td>2.142857</td>\n",
       "      <td>control</td>\n",
       "    </tr>\n",
       "    <tr>\n",
       "      <td>9</td>\n",
       "      <td>0.000000</td>\n",
       "      <td>control</td>\n",
       "    </tr>\n",
       "    <tr>\n",
       "      <td>10</td>\n",
       "      <td>0.750000</td>\n",
       "      <td>control</td>\n",
       "    </tr>\n",
       "    <tr>\n",
       "      <td>11</td>\n",
       "      <td>0.833333</td>\n",
       "      <td>control</td>\n",
       "    </tr>\n",
       "    <tr>\n",
       "      <td>12</td>\n",
       "      <td>0.666667</td>\n",
       "      <td>control</td>\n",
       "    </tr>\n",
       "    <tr>\n",
       "      <td>13</td>\n",
       "      <td>0.800000</td>\n",
       "      <td>control</td>\n",
       "    </tr>\n",
       "  </tbody>\n",
       "</table>\n",
       "</div>"
      ],
      "text/plain": [
       "    ratio_dx-sx_adj user_group\n",
       "0          0.375000  polarized\n",
       "1          0.461538  polarized\n",
       "2               NaN  polarized\n",
       "3          1.230769  polarized\n",
       "4          0.000000  polarized\n",
       "5          0.375000  polarized\n",
       "6          0.769231    control\n",
       "7          0.060870    control\n",
       "8          2.142857    control\n",
       "9          0.000000    control\n",
       "10         0.750000    control\n",
       "11         0.833333    control\n",
       "12         0.666667    control\n",
       "13         0.800000    control"
      ]
     },
     "metadata": {},
     "output_type": "display_data"
    }
   ],
   "source": [
    "display(groups_data)"
   ]
  },
  {
   "cell_type": "code",
   "execution_count": 29,
   "metadata": {},
   "outputs": [],
   "source": [
    "all_sources = ['Lega - Salvini Premier',\n",
    "               'Il Sole 24 ORE',\n",
    "               'Partito Democratico',\n",
    "               #'Il Foglio',\n",
    "               #'il Post',\n",
    "               'la Repubblica',\n",
    "               'il manifesto',\n",
    "               'Il Giornale',\n",
    "               'Corriere della Sera',\n",
    "               'Italia Viva',\n",
    "               'Sky TG24',\n",
    "               #'MoVimento 5 Stelle',\n",
    "               'ANSA.it',\n",
    "               #'Il Fatto Quotidiano',\n",
    "               #'La Stampa',\n",
    "               'Matteo Salvini',\n",
    "               'Tgcom24',\n",
    "               'Adnkronos',\n",
    "               #'HuffPost Italia',\n",
    "               #'Il Messaggero.it',\n",
    "               #'La Nazione',\n",
    "               'Giorgia Meloni',\n",
    "               #'Luigi Di Maio',\n",
    "               #'Rainews.it',\n",
    "               'La7',\n",
    "               \"Fratelli d'Italia\",\n",
    "               'Open',\n",
    "               'Libero',\n",
    "               'Matteo Renzi',\n",
    "               'Silvio Berlusconi',\n",
    "               'Giuseppe Conte',\n",
    "               'Pietro Grasso']"
   ]
  },
  {
   "cell_type": "markdown",
   "metadata": {},
   "source": [
    "# impressionTime"
   ]
  },
  {
   "cell_type": "code",
   "execution_count": 30,
   "metadata": {},
   "outputs": [
    {
     "ename": "SyntaxError",
     "evalue": "invalid syntax (<ipython-input-30-1fc2653bf436>, line 1)",
     "output_type": "error",
     "traceback": [
      "\u001b[0;36m  File \u001b[0;32m\"<ipython-input-30-1fc2653bf436>\"\u001b[0;36m, line \u001b[0;32m1\u001b[0m\n\u001b[0;31m    throw error\u001b[0m\n\u001b[0m              ^\u001b[0m\n\u001b[0;31mSyntaxError\u001b[0m\u001b[0;31m:\u001b[0m invalid syntax\n"
     ]
    }
   ],
   "source": [
    "throw error"
   ]
  },
  {
   "cell_type": "code",
   "execution_count": 39,
   "metadata": {},
   "outputs": [],
   "source": [
    "\n",
    "\n",
    "sources_dx = right_media\n",
    "sources_sx = left_media\n",
    "\n",
    "start_collection = '2019-11-01'\n",
    "start_polarization = '2019-11-20'\n",
    "\n",
    "\n",
    "timerange = ('2019-12-05',\n",
    "             '2019-12-10')\n",
    "\n",
    "adjusted = True\n",
    "\n",
    "folder = '../outputs/fb/summary'\n",
    "file_users = '../config/users.csv'"
   ]
  },
  {
   "cell_type": "code",
   "execution_count": 40,
   "metadata": {},
   "outputs": [
    {
     "name": "stdout",
     "output_type": "stream",
     "text": [
      "Corriere della Sera/Open\n",
      "Polarized = 0.8262455869463697\n",
      "Control = 1.0264633474872185\n",
      "Statistic: -2.64293491626639\n",
      "Pvalue: 0.021457167816962608\n",
      "Libero/Open\n",
      "Polarized = 0.7037683462311134\n",
      "Control = 1.025751507419268\n",
      "Statistic: -3.1455858756661814\n",
      "Pvalue: 0.008443863374312187\n"
     ]
    }
   ],
   "source": [
    "def mean_order(impressions, source):\n",
    "    sources_users = {\"source\": [],\n",
    "                     \"user\": [],\n",
    "                     \"mean\": []}\n",
    "    for user, user_impressions in impressions.groupby('user'):\n",
    "        sources_users[\"source\"].append(source)\n",
    "        sources_users[\"user\"].append(user)\n",
    "        sources_users[\"mean\"].append(user_impressions[user_impressions[\"source\"] == source][\"impressionOrder\"].mean())\n",
    "    return pd.DataFrame(data=sources_users)\n",
    "\n",
    "\n",
    "def users_dx_and_sx(source_r, sources_l, impressions):\n",
    "    sources_users = mean_order(impressions, source_r)\n",
    "    sources_users = sources_users[['user', 'mean']]\n",
    "    sources_users.columns = ['user', 'dx']\n",
    "    sources_users['sx'] = mean_order(impressions, source_l)['mean']\n",
    "    return sources_users\n",
    "\n",
    "impressions = df_wip[['user', 'source', 'impressionOrder']] # was inside for loop\n",
    "\n",
    "for source_r in sources_dx:\n",
    "    for source_l in sources_sx:\n",
    "        \n",
    "\n",
    "        # filter out for desired time range for experiment\n",
    "\n",
    "        impressions_exp = impressions[(impressions.index >= timerange[0])\n",
    "                                      & (impressions.index <= timerange[1])]\n",
    "\n",
    "        impressions_pre = impressions[(impressions.index <= start_polarization) & (\n",
    "            impressions.index >= start_collection)]\n",
    "\n",
    "        # count specific sources per user\n",
    "\n",
    "\n",
    "        sources_users_exp = users_dx_and_sx(source_r, source_l, impressions_exp)\n",
    "        sources_users_pre = users_dx_and_sx(source_r, source_l, impressions_pre)\n",
    "\n",
    "        sources_users_exp['ratio_dx-sx'] = sources_users_exp['dx'] / \\\n",
    "            sources_users_exp['sx']\n",
    "\n",
    "        #sources_users_exp['ratio_dx-sx_adj'] = (sources_users_exp['dx']/sources_users_pre['dx'])/(sources_users_exp['sx']/sources_users_pre['sx'])\n",
    "        sources_users_exp['ratio_dx-sx_adj'] = (sources_users_exp['dx'].divide(\n",
    "            sources_users_pre['dx']))/(sources_users_exp['sx'].divide(sources_users_pre['sx']))\n",
    "\n",
    "        # add column with test group the user belongs to\n",
    "        polarized_users = ('Aarend', 'Bjoke', 'Cor Timmerman', 'Doortje',\n",
    "                           'Erwijn', 'Friedie', 'Gert', 'Hanneke', 'Ivo', 'Juultje')\n",
    "\n",
    "        sources_users_exp[\"user_group\"] = [\"polarized\" if user in polarized_users\n",
    "                                           else \"control\"\n",
    "                                           for user in sources_users_exp[\"user\"]]\n",
    "\n",
    "\n",
    "        # compare means and run t-test\n",
    "        if adjusted:\n",
    "            testing_var = 'ratio_dx-sx_adj'\n",
    "        else:\n",
    "            testing_var = 'ratio_dx-sx'\n",
    "\n",
    "        polarized = sources_users_exp[sources_users_exp['user_group']\n",
    "                                      == 'polarized'][testing_var]  # or _adj\n",
    "        control = sources_users_exp[sources_users_exp['user_group']\n",
    "                                    == 'control'][testing_var]\n",
    "\n",
    "\n",
    "        statistic, pvalue = ttest_ind(polarized, control)\n",
    "        if pvalue <= 0.05:\n",
    "            print(source_r+'/'+source_l)\n",
    "            print('Polarized = '+str(mean(polarized)))\n",
    "            print('Control = '+str(mean(control)))\n",
    "            print('Statistic: {}'.format(statistic))\n",
    "            print('Pvalue: {}'.format(pvalue))"
   ]
  },
  {
   "cell_type": "code",
   "execution_count": 41,
   "metadata": {},
   "outputs": [
    {
     "data": {
      "text/plain": [
       "Text(0.5, 0.98, 'Right/Left count ratio - Adjusted')"
      ]
     },
     "execution_count": 41,
     "metadata": {},
     "output_type": "execute_result"
    },
    {
     "data": {
      "image/png": "[encoded data removed]",
      "text/plain": [
       "<Figure size 360x360 with 1 Axes>"
      ]
     },
     "metadata": {},
     "output_type": "display_data"
    }
   ],
   "source": [
    "import seaborn as sns\n",
    "%matplotlib inline\n",
    "\n",
    "title = 'Right/Left count ratio'\n",
    "\n",
    "if adjusted:\n",
    "    title = title+\" - Adjusted\"\n",
    "else:\n",
    "    pass\n",
    "\n",
    "sns.set(style=\"ticks\", color_codes=True)\n",
    "groups_data = sources_users_exp[[testing_var, \"user_group\"]]\n",
    "sns.catplot(x=\"user_group\", y=testing_var, data=groups_data).fig.suptitle(title, fontsize=10)"
   ]
  },
  {
   "cell_type": "code",
   "execution_count": 42,
   "metadata": {},
   "outputs": [
    {
     "data": {
      "text/html": [
       "<div>\n",
       "<style scoped>\n",
       "    .dataframe tbody tr th:only-of-type {\n",
       "        vertical-align: middle;\n",
       "    }\n",
       "\n",
       "    .dataframe tbody tr th {\n",
       "        vertical-align: top;\n",
       "    }\n",
       "\n",
       "    .dataframe thead th {\n",
       "        text-align: right;\n",
       "    }\n",
       "</style>\n",
       "<table border=\"1\" class=\"dataframe\">\n",
       "  <thead>\n",
       "    <tr style=\"text-align: right;\">\n",
       "      <th></th>\n",
       "      <th>ratio_dx-sx_adj</th>\n",
       "      <th>user_group</th>\n",
       "    </tr>\n",
       "  </thead>\n",
       "  <tbody>\n",
       "    <tr>\n",
       "      <td>0</td>\n",
       "      <td>1.075176</td>\n",
       "      <td>polarized</td>\n",
       "    </tr>\n",
       "    <tr>\n",
       "      <td>1</td>\n",
       "      <td>1.006391</td>\n",
       "      <td>polarized</td>\n",
       "    </tr>\n",
       "    <tr>\n",
       "      <td>2</td>\n",
       "      <td>1.020206</td>\n",
       "      <td>polarized</td>\n",
       "    </tr>\n",
       "    <tr>\n",
       "      <td>3</td>\n",
       "      <td>1.253901</td>\n",
       "      <td>polarized</td>\n",
       "    </tr>\n",
       "    <tr>\n",
       "      <td>4</td>\n",
       "      <td>1.458340</td>\n",
       "      <td>polarized</td>\n",
       "    </tr>\n",
       "    <tr>\n",
       "      <td>5</td>\n",
       "      <td>1.168196</td>\n",
       "      <td>polarized</td>\n",
       "    </tr>\n",
       "    <tr>\n",
       "      <td>6</td>\n",
       "      <td>1.088944</td>\n",
       "      <td>control</td>\n",
       "    </tr>\n",
       "    <tr>\n",
       "      <td>7</td>\n",
       "      <td>1.340851</td>\n",
       "      <td>control</td>\n",
       "    </tr>\n",
       "    <tr>\n",
       "      <td>8</td>\n",
       "      <td>0.827921</td>\n",
       "      <td>control</td>\n",
       "    </tr>\n",
       "    <tr>\n",
       "      <td>9</td>\n",
       "      <td>1.039008</td>\n",
       "      <td>control</td>\n",
       "    </tr>\n",
       "    <tr>\n",
       "      <td>10</td>\n",
       "      <td>1.003649</td>\n",
       "      <td>control</td>\n",
       "    </tr>\n",
       "    <tr>\n",
       "      <td>11</td>\n",
       "      <td>1.271912</td>\n",
       "      <td>control</td>\n",
       "    </tr>\n",
       "    <tr>\n",
       "      <td>12</td>\n",
       "      <td>1.326902</td>\n",
       "      <td>control</td>\n",
       "    </tr>\n",
       "    <tr>\n",
       "      <td>13</td>\n",
       "      <td>1.098591</td>\n",
       "      <td>control</td>\n",
       "    </tr>\n",
       "  </tbody>\n",
       "</table>\n",
       "</div>"
      ],
      "text/plain": [
       "    ratio_dx-sx_adj user_group\n",
       "0          1.075176  polarized\n",
       "1          1.006391  polarized\n",
       "2          1.020206  polarized\n",
       "3          1.253901  polarized\n",
       "4          1.458340  polarized\n",
       "5          1.168196  polarized\n",
       "6          1.088944    control\n",
       "7          1.340851    control\n",
       "8          0.827921    control\n",
       "9          1.039008    control\n",
       "10         1.003649    control\n",
       "11         1.271912    control\n",
       "12         1.326902    control\n",
       "13         1.098591    control"
      ]
     },
     "metadata": {},
     "output_type": "display_data"
    }
   ],
   "source": [
    "display(groups_data)"
   ]
  },
  {
   "cell_type": "code",
   "execution_count": null,
   "metadata": {},
   "outputs": [],
   "source": []
  }
 ],
 "metadata": {
  "kernelspec": {
   "display_name": "Python 3",
   "language": "python",
   "name": "python3"
  },
  "language_info": {
   "codemirror_mode": {
    "name": "ipython",
    "version": 3
   },
   "file_extension": ".py",
   "mimetype": "text/x-python",
   "name": "python",
   "nbconvert_exporter": "python",
   "pygments_lexer": "ipython3",
   "version": "3.7.4"
  },
  "toc": {
   "base_numbering": 1,
   "nav_menu": {
    "height": "144px",
    "width": "419.2px"
   },
   "number_sections": true,
   "sideBar": true,
   "skip_h1_title": false,
   "title_cell": "Table of Contents",
   "title_sidebar": "Contents",
   "toc_cell": false,
   "toc_position": {
    "height": "calc(100% - 180px)",
    "left": "10px",
    "top": "150px",
    "width": "385.333px"
   },
   "toc_section_display": true,
   "toc_window_display": true
  },
  "varInspector": {
   "cols": {
    "lenName": 16,
    "lenType": 16,
    "lenVar": 40
   },
   "kernels_config": {
    "python": {
     "delete_cmd_postfix": "",
     "delete_cmd_prefix": "del ",
     "library": "var_list.py",
     "varRefreshCmd": "print(var_dic_list())"
    },
    "r": {
     "delete_cmd_postfix": ") ",
     "delete_cmd_prefix": "rm(",
     "library": "var_list.r",
     "varRefreshCmd": "cat(var_dic_list()) "
    }
   },
   "position": {
    "height": "748.85px",
    "left": "1024px",
    "right": "20px",
    "top": "125px",
    "width": "233.2px"
   },
   "types_to_exclude": [
    "module",
    "function",
    "builtin_function_or_method",
    "instance",
    "_Feature"
   ],
   "window_display": false
  }
 },
 "nbformat": 4,
 "nbformat_minor": 2
}
