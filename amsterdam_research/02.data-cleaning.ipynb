{
 "cells": [
  {
   "cell_type": "markdown",
   "metadata": {},
   "source": [
    "# Load Data"
   ]
  },
  {
   "cell_type": "code",
   "execution_count": null,
   "metadata": {},
   "outputs": [],
   "source": [
    "import sys\n",
    "sys.path.append(\"..\")\n",
    "from src import tools\n",
    "from ipywidgets import interact, interact_manual\n",
    "import ipywidgets as widgets\n",
    "import os\n",
    "import pandas as pd\n",
    "import numpy as np\n",
    "import matplotlib.pyplot as plt\n",
    "import matplotlib.dates as mdates\n",
    "import pandas_profiling\n",
    "%matplotlib inline\n",
    "\n",
    "\n",
    "def absoluteFilePaths(directory):\n",
    "    for dirpath, _, filenames in os.walk(directory):\n",
    "        for f in filenames:\n",
    "            if str(f)[0] == '.':\n",
    "                pass\n",
    "            else:\n",
    "                yield os.path.abspath(os.path.join(dirpath, f))\n",
    "\n",
    "\n",
    "FOLDER = \"../outputs/fb/summary/\"\n",
    "\n",
    "\n",
    "def load_data(folder):\n",
    "    files = absoluteFilePaths(folder)\n",
    "    users = []\n",
    "    data = {}\n",
    "    for f in files:\n",
    "        df = pd.read_csv(f)\n",
    "        user = df.user.iloc[0]\n",
    "        data.update({user: df})\n",
    "    return data\n",
    "\n",
    "\n",
    "data = load_data(FOLDER)\n",
    "print(data.keys())"
   ]
  },
  {
   "cell_type": "markdown",
   "metadata": {},
   "source": [
    "# Clean Data"
   ]
  },
  {
   "cell_type": "markdown",
   "metadata": {},
   "source": [
    "## Drop columns, set datetimeindex, fill missing data and generate statistics."
   ]
  },
  {
   "cell_type": "code",
   "execution_count": null,
   "metadata": {},
   "outputs": [],
   "source": [
    "start_date = '2019-10-15'\n",
    "end_date = '2020-02-06'\n",
    "\n",
    "def clean(df):\n",
    "    df = df[pd.notnull(df['source'])]\n",
    "    df = df[['impressionOrder', 'id', 'nature',\n",
    "             'source',  'fblinktype', 'texts',\n",
    "             'textsize', 'timeline', 'user']]\n",
    "    return df\n",
    "\n",
    "stats = pd.DataFrame(columns=['start', 'end',\n",
    "                              'average_impression_count',\n",
    "                              'timelines',\n",
    "                              'total_entries',\n",
    "                              'missing values'\n",
    "                              ])\n",
    "\n",
    "for user, df in data.items():\n",
    "    try:\n",
    "        df = df.drop('Unnamed: 0', 1)\n",
    "    except:\n",
    "        pass\n",
    "\n",
    "    df = df[['impressionTime', 'impressionOrder',  'id',\n",
    "             'nature',  'postId', 'publicationTime', 'permaLink',\n",
    "             'source', 'sourceLink', 'fblinktype',\n",
    "             'texts', 'textsize', 'images',\n",
    "             'semanticCount', 'semanticId', 'timeline', 'user']]\n",
    "\n",
    "    df.index = df['impressionTime']\n",
    "    df.index = pd.to_datetime(df.index)\n",
    "    df = df[end_date:start_date]\n",
    "\n",
    "    df.publicationTime = pd.to_datetime(df.publicationTime)\n",
    "    df.impressionOrder = pd.to_numeric(df.impressionOrder, downcast='integer')\n",
    "\n",
    "    df = df.replace(\"nan\", np.nan)\n",
    "    df = df.replace(\"\", np.nan)\n",
    "    df['fblinktype'] = df['fblinktype'].fillna('other')\n",
    "\n",
    "    # AUTOMATE THIS\n",
    "    link_source_dict = {\n",
    "        'https://www.facebook.com/AgenziaANSA/': 'ANSA.it',\n",
    "        'https://www.facebook.com/AgenziaAdnKronos/': 'Adnkronos',\n",
    "        'https://www.facebook.com/corrieredellasera/': 'Corriere della Sera',\n",
    "        'https://www.facebook.com/giorgiameloni.paginaufficiale/': 'Giorgia Meloni',\n",
    "        'https://www.facebook.com/HuffPostItalia/': 'HuffPost Italia',\n",
    "        'https://www.facebook.com/ilfoglio/': 'Il Foglio',\n",
    "        'https://www.facebook.com/ilGiornale/': 'Il Giornale',\n",
    "        'https://www.facebook.com/italiaviva/': 'Italia Viva',\n",
    "        'https://www.facebook.com/la7fb/': 'La7',\n",
    "        'https://www.facebook.com/lastampa.it/': 'La Stampa',\n",
    "        'https://www.facebook.com/legasalvinipremier/': 'Lega - Salvini Premier',\n",
    "        'https://www.facebook.com/liberonews/': 'Libero',\n",
    "        'https://www.facebook.com/LuigiDiMaio/': 'Luigi Di Maio',\n",
    "        'https://www.facebook.com/matteorenziufficiale/': 'Matteo Renzi',\n",
    "        'https://www.facebook.com/Messaggero.it/': 'Il Messaggero.it',\n",
    "        'https://www.facebook.com/partitodemocratico/': 'Partito Democratico',\n",
    "        'https://www.facebook.com/rainews.it/': 'Rainews.it',\n",
    "        'https://www.facebook.com/Repubblica/': 'la Repubblica',\n",
    "        'https://www.facebook.com/salviniofficial/': 'Matteo Salvini'}\n",
    "\n",
    "    df['source'] = df['source'].fillna(df['sourceLink'])\n",
    "    df = df.replace({\"source\": link_source_dict})\n",
    "\n",
    "    stats.loc[user] = [\n",
    "        df.impressionTime.min(),\n",
    "        df.impressionTime.max(),\n",
    "        # max(df.impressionOrder),\n",
    "        #min(df.groupby(['timeline'], sort=False)['impressionOrder'].max()),\n",
    "        df.impressionOrder.mean(),\n",
    "        df['timeline'].nunique(),\n",
    "        df['id'].count(),\n",
    "        df.isna().sum().sum()\n",
    "    ]\n",
    "    data[user] = df.copy()\n",
    "\n",
    "df = pd.concat(data.values())\n",
    "\n",
    "df = clean(df)\n",
    "stats"
   ]
  },
  {
   "cell_type": "markdown",
   "metadata": {},
   "source": [
    "## Replace pseudo-names with \"real\" user names"
   ]
  },
  {
   "cell_type": "code",
   "execution_count": null,
   "metadata": {},
   "outputs": [],
   "source": [
    "user_names = pd.read_csv(\"../config/users.csv\")\n",
    "names_dict = {}\n",
    "\n",
    "for name, number, token in user_names.values:\n",
    "    temp_df = pd.read_csv('../outputs/fb/summary/'+token+'.csv', nrows=2)\n",
    "    names_dict[temp_df.user[0]] = name\n",
    "\n",
    "df = df.replace({\"user\": names_dict})"
   ]
  },
  {
   "cell_type": "code",
   "execution_count": null,
   "metadata": {
    "scrolled": true
   },
   "outputs": [],
   "source": [
    "# data['parsnip-lentils-fudge'].drop('impressionTime',1).profile_report(check_correlation_cramers=False,\n",
    "#                  check_correlation_pearson=False,\n",
    "#                  cardinality_threshold=len(df)*0.9,\n",
    "#                  style={'full_width':True}\n",
    "#                                          )"
   ]
  },
  {
   "cell_type": "markdown",
   "metadata": {},
   "source": [
    "# Explore"
   ]
  },
  {
   "cell_type": "markdown",
   "metadata": {},
   "source": [
    "## Profile Report (takes a while)"
   ]
  },
  {
   "cell_type": "code",
   "execution_count": null,
   "metadata": {},
   "outputs": [],
   "source": [
    "#df.profile_report(check_correlation_cramers=False,\n",
    "#                          check_correlation_pearson=False,\n",
    "#                          cardinality_threshold=len(df)*0.9,\n",
    "#                          style={'full_width': True})"
   ]
  },
  {
   "cell_type": "markdown",
   "metadata": {},
   "source": [
    "## Post Count per column"
   ]
  },
  {
   "cell_type": "code",
   "execution_count": null,
   "metadata": {},
   "outputs": [],
   "source": [
    "def postCountGraph(df, user, column):\n",
    "    #data = tools.setDatetimeIndexFloor(tools.setDatetimeIndex(df), what=\"1D\")\n",
    "    data = df\n",
    "    data = data.groupby(data.index)[column].count()\n",
    "    data = data.to_frame()\n",
    "\n",
    "    fig, ax = plt.subplots(figsize=(15, 7))\n",
    "\n",
    "    # set ticks every week\n",
    "    ax.xaxis.set_major_locator(mdates.AutoDateLocator())\n",
    "    ax.xaxis.set_major_formatter(mdates.DateFormatter('%b %d'))\n",
    "    ax.set_title('Number of entries in col '+column +\n",
    "                 ' collected per day for: '+user)\n",
    "    ax.bar(data.index, data[column])\n",
    "    return(fig, ax)\n",
    "\n",
    "\n",
    "#fig, ax = (dailyPostCountGraph(df, user))\n",
    "\n",
    "@interact\n",
    "def show_plot(user=df['user'].unique(), column=df.columns):\n",
    "    return postCountGraph(df[df['user']==user], user, column)"
   ]
  },
  {
   "cell_type": "markdown",
   "metadata": {},
   "source": [
    "## Post Count per Dates"
   ]
  },
  {
   "cell_type": "code",
   "execution_count": null,
   "metadata": {},
   "outputs": [],
   "source": [
    "def datesPostCountGraph(df, user):\n",
    "    data = tools.setDatetimeIndexFloor(df, what=\"1D\")\n",
    "    data = data.groupby(data.index).id.count()\n",
    "    data = data.to_frame()\n",
    "\n",
    "    fig, ax = plt.subplots(figsize=(15, 7))\n",
    "\n",
    "    # set ticks every week\n",
    "    ax.xaxis.set_major_locator(mdates.AutoDateLocator())\n",
    "    ax.xaxis.set_major_formatter(mdates.DateFormatter('%b %d'))\n",
    "    ax.set_title('Number of posts collected per day for user: '+user)\n",
    "    ax.bar(data.index, data.id)\n",
    "    return(fig, ax)\n",
    "\n",
    "\n",
    "#fig, ax = (dailyPostCountGraph(df, user))\n",
    "\n",
    "@interact\n",
    "def show_plot(user=df['user'].unique(), start_date=\"2019-10-12\", end_date=\"2020-01-03\"):\n",
    "    mask = (df['user'] == user)\n",
    "    return datesPostCountGraph(df[mask].loc[end_date:start_date], user)"
   ]
  },
  {
   "cell_type": "markdown",
   "metadata": {},
   "source": [
    "## How many total entries i would have if i exclude days that have less than n entries?"
   ]
  },
  {
   "cell_type": "code",
   "execution_count": null,
   "metadata": {},
   "outputs": [],
   "source": [
    "def dailyPostCount(df):\n",
    "    data = tools.setDatetimeIndexFloor(df, what=\"1D\")\n",
    "    data = data.groupby([data.index, data.user]).id.count()\n",
    "    data = data.to_frame()\n",
    "    return data\n",
    "\n",
    "\n",
    "count = dailyPostCount(df)\n",
    "\n",
    "where_to_cut = pd.DataFrame(columns=['total_posts'])\n",
    "for i in range(0, 400):\n",
    "    l = len(count[(count['id'] > i)])\n",
    "\n",
    "    where_to_cut.loc[i] = [\n",
    "        l\n",
    "    ]\n",
    "where_to_cut.plot(title='Total posts collected against number of entries per')"
   ]
  },
  {
   "cell_type": "markdown",
   "metadata": {},
   "source": [
    "## Generate stats (missing values, timeframes, timelines..) per user"
   ]
  },
  {
   "cell_type": "code",
   "execution_count": null,
   "metadata": {},
   "outputs": [],
   "source": [
    "stats = pd.DataFrame(columns=['start', 'end',\n",
    "                              'average_impression_count',\n",
    "                              'timelines',\n",
    "                              'total_entries',\n",
    "                              'missing values'\n",
    "                              ])\n",
    "\n",
    "\n",
    "def getStats(df):\n",
    "    user_list = df.user.unique()\n",
    "    for user in user_list:\n",
    "        data = df[(df['user'] == user)]\n",
    "\n",
    "        stats.loc[user] = [\n",
    "            data.index.min(),\n",
    "            data.index.max(),\n",
    "            # max(df.impressionOrder),\n",
    "            #min(df.groupby(['timeline'], sort=False)['impressionOrder'].max()),\n",
    "            data.impressionOrder.mean(),\n",
    "            data['timeline'].nunique(),\n",
    "            data['id'].count(),\n",
    "            data.isna().sum().sum()\n",
    "        ]\n",
    "    return stats\n",
    "\n",
    "\n",
    "stats = getStats(df)\n",
    "\n",
    "stats"
   ]
  },
  {
   "cell_type": "markdown",
   "metadata": {},
   "source": [
    "## Distribution of total entries collected per timeline"
   ]
  },
  {
   "cell_type": "code",
   "execution_count": null,
   "metadata": {},
   "outputs": [],
   "source": [
    "df.groupby(['timeline'])['impressionOrder'].max().plot.hist(bins=16)"
   ]
  },
  {
   "cell_type": "code",
   "execution_count": null,
   "metadata": {},
   "outputs": [],
   "source": [
    "result = df\n",
    "result.index = result.index.floor('H')\n",
    "names = result.groupby(df.index).user.unique()\n",
    "timelines = result.groupby(df.index).timeline.unique()\n",
    "result = pd.DataFrame(names)\n",
    "result.columns = ['names']\n",
    "result['users_count'] = result['names'].str.len()\n",
    "result['timelines'] = timelines\n",
    "result['timelines_count'] = result['timelines'].str.len()\n",
    "\n",
    "# result.users_count.plot.hist(bins=5)\n",
    "result.timelines_count.plot.hist(bins=31)"
   ]
  },
  {
   "cell_type": "markdown",
   "metadata": {},
   "source": [
    "## Distribution of number of timelines per hour"
   ]
  },
  {
   "cell_type": "code",
   "execution_count": null,
   "metadata": {},
   "outputs": [],
   "source": [
    "result.timelines_count.plot.hist(\n",
    "    bins=31, title='distribution of number of timelines  collected per hour')"
   ]
  },
  {
   "cell_type": "markdown",
   "metadata": {},
   "source": [
    "## Distribution of number of active (collecting data) users per hour"
   ]
  },
  {
   "cell_type": "code",
   "execution_count": null,
   "metadata": {},
   "outputs": [],
   "source": [
    "result.users_count.plot.hist(\n",
    "    bins=20, title='distribution of number of users active per hour')"
   ]
  },
  {
   "cell_type": "markdown",
   "metadata": {},
   "source": [
    "## How many hours of data do i get if i only select hours where at least n users were collecting data?"
   ]
  },
  {
   "cell_type": "code",
   "execution_count": null,
   "metadata": {},
   "outputs": [],
   "source": [
    "print('timelines seen by all users: ' +\n",
    "      str(len(result[(result['users_count'] == 20) & (result['timelines_count'] >= 20)]))+' hours')\n",
    "\n",
    "print('timelines seen by at least 16 users: ' +\n",
    "      str(len(result[(result['users_count'] >= 16) & (result['timelines_count'] >= 16)]))+' hours')\n",
    "\n",
    "print('timelines seen by at least 10 users: ' +\n",
    "      str(len(result[(result['users_count'] >= 10) & (result['timelines_count'] >= 10)]))+' hours')\n",
    "\n",
    "print('all data: '+str(len(result))+' hours')"
   ]
  },
  {
   "cell_type": "markdown",
   "metadata": {},
   "source": [
    "# Preparing the Data"
   ]
  },
  {
   "cell_type": "markdown",
   "metadata": {},
   "source": [
    "## Set timeframes"
   ]
  },
  {
   "cell_type": "code",
   "execution_count": null,
   "metadata": {},
   "outputs": [],
   "source": [
    "#timeframe_all = ['2019-11-01','2019-12-31']\n",
    "#pre_polarization = ['2019-11-02','2019-11-19']\n",
    "#during_polarization = ['2019-11-20','2019-12-05']\n",
    "#after_polarization = ['2019-12-05','2019-12-10']\n",
    "#after_polarization_with_likes = ['2019-12-10','2019-12-27']"
   ]
  },
  {
   "cell_type": "markdown",
   "metadata": {},
   "source": [
    "## Remove all the timelines that have less than 10 entries"
   ]
  },
  {
   "cell_type": "code",
   "execution_count": null,
   "metadata": {},
   "outputs": [],
   "source": [
    "df_wip = df.loc['2019-11-01':'2019-12-31']\n",
    "timelines = df_wip.groupby('timeline')['impressionOrder'].max()\n",
    "\n",
    "print('Before: {}'.format(len(df_wip)))\n",
    "df_wip = df_wip[df_wip.timeline.isin(list(timelines[timelines > 10].index))]\n",
    "print('After: {}'.format(len(df_wip)))"
   ]
  },
  {
   "cell_type": "markdown",
   "metadata": {},
   "source": [
    "In order to understand what is the best combination of users which will provide the longest dataset possible given a minimun number of users, we must:\n",
    "- generate list of lists with the possible combinations >= of 16 elements (8 per group)\n",
    "- filter df and check len by combination\n",
    "- output top 5 combinations with len"
   ]
  },
  {
   "cell_type": "markdown",
   "metadata": {},
   "source": [
    "## What is the combination of 16 or more users i should use to keep as much data as possible?"
   ]
  },
  {
   "cell_type": "code",
   "execution_count": null,
   "metadata": {},
   "outputs": [],
   "source": [
    "result.names = result.names.apply(sorted)\n",
    "result = result[result['users_count'] >= 16]\n",
    "result = result.loc['2019-11-01':'2019-12-31']\n",
    "\n",
    "\n",
    "from IPython.display import clear_output, display\n",
    "import itertools\n",
    "\n",
    "\n",
    "def user_combinations(trimmed=result, n_users=16):\n",
    "    list_of_all_users_name = sorted(trimmed.names.iloc[0])\n",
    "    print(list_of_all_users_name)\n",
    "\n",
    "    combinations = set(\n",
    "        list(itertools.combinations(list_of_all_users_name, n_users)))\n",
    "\n",
    "    d = {}\n",
    "    n = 0\n",
    "    for i in combinations:\n",
    "        n += 1\n",
    "        clear_output(wait=True)\n",
    "        print(str(n)+'/'+str(len(combinations)))\n",
    "        for index, row in result.iterrows():\n",
    "            check = all(item in row.names for item in i)\n",
    "            if check:\n",
    "                nam = str(i)\n",
    "                if nam in d:\n",
    "                    d[nam] += 1\n",
    "                else:\n",
    "                    d[nam] = 1\n",
    "            else:\n",
    "                pass\n",
    "    user_combinations_dict = {k: v for k, v in sorted(\n",
    "        d.items(), key=lambda item: item[1], reverse=True)}\n",
    "\n",
    "    return user_combinations_dict\n",
    "\n",
    "\n",
    "#user_combinations_dict = user_combinations()\n",
    "# list(user_combinations_dict.items())[0]"
   ]
  },
  {
   "cell_type": "markdown",
   "metadata": {},
   "source": [
    "Now we know that the best combination of users is \"('Aarend', 'Bjoke', 'Cor Timmerman', 'Doortje', 'Erwijn', 'Hanneke', 'Juultje', 'Kris', 'Lonneke', 'Martijn', 'Nienke', 'Omar', 'Phoebe', 'Quintijn', 'Stephan', 'Terese')\". We want a list of these timelines in order to filter the dataframe and only keep those."
   ]
  },
  {
   "cell_type": "code",
   "execution_count": null,
   "metadata": {},
   "outputs": [],
   "source": [
    "filter_lst = ['Aarend', 'Bjoke', 'Cor Timmerman', 'Doortje', 'Erwijn', 'Hanneke', 'Juultje',\n",
    "              'Kris', 'Lonneke', 'Martijn', 'Nienke', 'Omar', 'Phoebe', 'Quintijn', 'Stephan', 'Terese']\n",
    "\n",
    "timelines_to_keep = []\n",
    "\n",
    "for index, row in result.iterrows():\n",
    "    if all(n in row.names for n in filter_lst):\n",
    "        timelines_to_keep.append(list(row.timelines))\n",
    "    else:\n",
    "        pass\n",
    "\n",
    "timelines_to_keep = [item for sublist in timelines_to_keep for item in sublist]"
   ]
  },
  {
   "cell_type": "markdown",
   "metadata": {},
   "source": [
    "## Keep only timelines with appropriate combination of users"
   ]
  },
  {
   "cell_type": "code",
   "execution_count": null,
   "metadata": {},
   "outputs": [],
   "source": [
    "print('Before: {}'.format(len(df_wip)))\n",
    "df_wip = df_wip[df_wip.timeline.isin(timelines_to_keep)]\n",
    "print('After: {}'.format(len(df_wip)))"
   ]
  },
  {
   "cell_type": "code",
   "execution_count": null,
   "metadata": {},
   "outputs": [],
   "source": [
    "#df_wip = df_wip.replace({\"user\": names_dict})"
   ]
  },
  {
   "cell_type": "code",
   "execution_count": null,
   "metadata": {},
   "outputs": [],
   "source": [
    "sources_to_remove = ['Jair Messias Bolsonaro',\n",
    "                     'Donald J. Trump', 'Marine Le Pen']  # E TRUMP\n",
    "print('Before: {}'.format(len(df_wip)))\n",
    "df_wip = df_wip[~df_wip.source.isin(sources_to_remove)]\n",
    "print('After: {}'.format(len(df_wip)))"
   ]
  },
  {
   "cell_type": "code",
   "execution_count": null,
   "metadata": {},
   "outputs": [],
   "source": [
    "users_to_keep = ['Bjoke', 'Cor Timmerman', 'Doortje', 'Erwijn', 'Hanneke', 'Juultje',\n",
    "                 'Kris', 'Lonneke', 'Martijn', 'Nienke', 'Omar', 'Phoebe', 'Quintijn', 'Stephan']\n",
    "print('Before: {}'.format(len(df_wip)))\n",
    "df_wip = df_wip[df_wip['user'].isin(users_to_keep)]\n",
    "print('After: {}'.format(len(df_wip)))"
   ]
  },
  {
   "cell_type": "code",
   "execution_count": null,
   "metadata": {},
   "outputs": [],
   "source": [
    "df_wip.to_csv('dataset.csv')"
   ]
  },
  {
   "cell_type": "markdown",
   "metadata": {},
   "source": [
    "# Source Count"
   ]
  },
  {
   "cell_type": "code",
   "execution_count": null,
   "metadata": {},
   "outputs": [],
   "source": [
    "left_media = ['la Repubblica',\n",
    "              'il manifesto',\n",
    "              'Open',\n",
    "              'La7'\n",
    "              ]\n",
    "\n",
    "neutral_media = ['ANSA.it',\n",
    "                 'Adnkronos'\n",
    "                 ]\n",
    "\n",
    "right_media = ['Il Sole 24 ORE',\n",
    "               'Il Giornale',\n",
    "               'Corriere della Sera',\n",
    "               'Tgcom24',\n",
    "               'Libero',\n",
    "               'Sky TG24'\n",
    "               ]\n",
    "\n",
    "left_politics = ['Partito Democratico',\n",
    "                 'Italia Viva',\n",
    "                 'Matteo Renzi',\n",
    "                 'Giuseppe Conte',\n",
    "                 'Pietro Grasso'\n",
    "                ]\n",
    "\n",
    "right_politics = ['Lega - Salvini Premier',\n",
    "                  'Matteo Salvini',\n",
    "                  'Giorgia Meloni',\n",
    "                  \"Fratelli d'Italia\",\n",
    "                  'Silvio Berlusconi'\n",
    "                  ]"
   ]
  },
  {
   "cell_type": "code",
   "execution_count": null,
   "metadata": {},
   "outputs": [],
   "source": [
    "from collections import defaultdict\n",
    "import os\n",
    "from datetime import datetime\n",
    "from scipy.stats import ttest_ind\n",
    "from numpy import mean\n",
    "# set constants\n",
    "\n",
    "sources_dx = right_politics\n",
    "sources_sx = left_politics\n",
    "\n",
    "start_collection = '2019-11-01'\n",
    "start_polarization = '2019-11-20'\n",
    "\n",
    "\n",
    "timerange = ('2019-12-05',\n",
    "             '2019-12-10')\n",
    "\n",
    "adjusted = True\n",
    "\n",
    "folder = '../outputs/fb/summary'\n",
    "file_users = '../config/users.csv'"
   ]
  },
  {
   "cell_type": "code",
   "execution_count": null,
   "metadata": {},
   "outputs": [],
   "source": [
    "def count_source(impressions, source):\n",
    "    sources_users = {\"source\": [],\n",
    "                     \"user\": [],\n",
    "                     \"count\": []}\n",
    "    for user, user_impressions in impressions.groupby('user'):\n",
    "        sources_users[\"source\"].append(source)\n",
    "        sources_users[\"user\"].append(user)\n",
    "        sources_users[\"count\"].append(user_impressions[user_impressions[\"source\"] == source][\"source\"].count())\n",
    "    return pd.DataFrame(data=sources_users)\n",
    "\n",
    "\n",
    "def users_dx_and_sx(source_r, sources_l, impressions):\n",
    "    sources_users = count_source(impressions, source_r)\n",
    "    sources_users = sources_users[['user', 'count']]\n",
    "    sources_users.columns = ['user', 'dx']\n",
    "    sources_users['sx'] = count_source(impressions, source_l)['count']\n",
    "    return sources_users\n",
    "\n",
    "for source_r in sources_dx:\n",
    "    for source_l in sources_sx:\n",
    "        impressions = df_wip[['user', 'source']]\n",
    "\n",
    "        # filter out for desired time range for experiment\n",
    "\n",
    "        impressions_exp = impressions[(impressions.index >= timerange[0])\n",
    "                                      & (impressions.index <= timerange[1])]\n",
    "\n",
    "        impressions_pre = impressions[(impressions.index <= start_polarization) & (\n",
    "            impressions.index >= start_collection)]\n",
    "\n",
    "        # count specific sources per user\n",
    "\n",
    "        sources_users_exp = users_dx_and_sx(source_r, source_l, impressions_exp)\n",
    "        sources_users_pre = users_dx_and_sx(source_r, source_l, impressions_pre)\n",
    "\n",
    "        sources_users_exp['ratio_dx-sx'] = sources_users_exp['dx'] / \\\n",
    "            sources_users_exp['sx']\n",
    "\n",
    "        #sources_users_exp['ratio_dx-sx_adj'] = (sources_users_exp['dx']/sources_users_pre['dx'])/(sources_users_exp['sx']/sources_users_pre['sx'])\n",
    "        sources_users_exp['ratio_dx-sx_adj'] = (sources_users_exp['dx'].divide(\n",
    "            sources_users_pre['dx']))/(sources_users_exp['sx'].divide(sources_users_pre['sx']))\n",
    "\n",
    "        # add column with test group the user belongs to\n",
    "        polarized_users = ('Aarend', 'Bjoke', 'Cor Timmerman', 'Doortje',\n",
    "                           'Erwijn', 'Friedie', 'Gert', 'Hanneke', 'Ivo', 'Juultje')\n",
    "\n",
    "        sources_users_exp[\"user_group\"] = [\"polarized\" if user in polarized_users\n",
    "                                           else \"control\"\n",
    "                                           for user in sources_users_exp[\"user\"]]\n",
    "\n",
    "\n",
    "        # compare means and run t-test\n",
    "        if adjusted:\n",
    "            testing_var = 'ratio_dx-sx_adj'\n",
    "        else:\n",
    "            testing_var = 'ratio_dx-sx'\n",
    "\n",
    "        polarized = sources_users_exp[sources_users_exp['user_group']\n",
    "                                      == 'polarized'][testing_var]  # or _adj\n",
    "        control = sources_users_exp[sources_users_exp['user_group']\n",
    "                                    == 'control'][testing_var]\n",
    "\n",
    "\n",
    "        statistic, pvalue = ttest_ind(polarized, control)\n",
    "        if pvalue <= 0.05:\n",
    "            print(source_r+'/'+source_l)\n",
    "            print('Polarized = '+str(mean(polarized)))\n",
    "            print('Control = '+str(mean(control)))\n",
    "            print('Statistic: {}'.format(statistic))\n",
    "            print('Pvalue: {}'.format(pvalue))"
   ]
  },
  {
   "cell_type": "code",
   "execution_count": null,
   "metadata": {},
   "outputs": [],
   "source": [
    "import seaborn as sns\n",
    "%matplotlib inline\n",
    "\n",
    "title = 'Right/Left count ratio'\n",
    "\n",
    "if adjusted:\n",
    "    title = title+\" - Adjusted\"\n",
    "else:\n",
    "    pass\n",
    "\n",
    "sns.set(style=\"ticks\", color_codes=True)\n",
    "groups_data = sources_users_exp[[testing_var, \"user_group\"]]\n",
    "sns.catplot(x=\"user_group\", y=testing_var, data=groups_data).fig.suptitle(title, fontsize=10)"
   ]
  },
  {
   "cell_type": "code",
   "execution_count": null,
   "metadata": {},
   "outputs": [],
   "source": []
  },
  {
   "cell_type": "code",
   "execution_count": null,
   "metadata": {},
   "outputs": [],
   "source": [
    "display(groups_data)"
   ]
  },
  {
   "cell_type": "code",
   "execution_count": null,
   "metadata": {},
   "outputs": [],
   "source": [
    "all_sources = ['Lega - Salvini Premier',\n",
    "               'Il Sole 24 ORE',\n",
    "               'Partito Democratico',\n",
    "               #'Il Foglio',\n",
    "               #'il Post',\n",
    "               'la Repubblica',\n",
    "               'il manifesto',\n",
    "               'Il Giornale',\n",
    "               'Corriere della Sera',\n",
    "               'Italia Viva',\n",
    "               'Sky TG24',\n",
    "               #'MoVimento 5 Stelle',\n",
    "               'ANSA.it',\n",
    "               #'Il Fatto Quotidiano',\n",
    "               #'La Stampa',\n",
    "               'Matteo Salvini',\n",
    "               'Tgcom24',\n",
    "               'Adnkronos',\n",
    "               #'HuffPost Italia',\n",
    "               #'Il Messaggero.it',\n",
    "               #'La Nazione',\n",
    "               'Giorgia Meloni',\n",
    "               #'Luigi Di Maio',\n",
    "               #'Rainews.it',\n",
    "               'La7',\n",
    "               \"Fratelli d'Italia\",\n",
    "               'Open',\n",
    "               'Libero',\n",
    "               'Matteo Renzi',\n",
    "               'Silvio Berlusconi',\n",
    "               'Giuseppe Conte',\n",
    "               'Pietro Grasso']"
   ]
  },
  {
   "cell_type": "markdown",
   "metadata": {},
   "source": [
    "# impressionTime Mean"
   ]
  },
  {
   "cell_type": "code",
   "execution_count": null,
   "metadata": {},
   "outputs": [],
   "source": [
    "\n",
    "\n",
    "sources_dx = right_media\n",
    "sources_sx = left_media\n",
    "\n",
    "start_collection = '2019-11-01'\n",
    "start_polarization = '2019-11-20'\n",
    "\n",
    "\n",
    "timerange = ('2019-12-05',\n",
    "             '2019-12-10')\n",
    "\n",
    "adjusted = True\n",
    "\n",
    "folder = '../outputs/fb/summary'\n",
    "file_users = '../config/users.csv'"
   ]
  },
  {
   "cell_type": "code",
   "execution_count": null,
   "metadata": {},
   "outputs": [],
   "source": [
    "import numpy as np\n",
    "\n",
    "\n",
    "def normalize_mean(user_impressions, source):\n",
    "    def f(x):\n",
    "        try:\n",
    "            result = 1-((x['impressionOrder_mean'] -\n",
    "                         x['impressionOrder_amax'])/(x['impressionOrder_amax']-1))\n",
    "        except:\n",
    "            result = 0\n",
    "        return result\n",
    "    # prendi masx impressionOrder della timeline 1,2..\n",
    "    #df.groupby(\"timeline\").agg({\"impressionOrder\": [np.mean, np.max]})\n",
    "    #df[df['source']==source].groupby(\"timeline\").agg({\"returns\": [np.mean, np.sum]})\n",
    "    #df = user_impressions.groupby('timeline')\n",
    "    df_max = user_impressions.groupby(['user', 'timeline']).agg({\n",
    "        \"impressionOrder\": [np.max]})\n",
    "    df = user_impressions.groupby(['user', 'timeline', 'source']).agg(\n",
    "        {\"impressionOrder\": [np.mean]}).reset_index()\n",
    "    df = df[df['source'] == source].set_index(\n",
    "        ['user', 'timeline']).drop('source', 1)\n",
    "    df = df.join(df_max)\n",
    "    df.columns = ['_'.join(col).strip() for col in df.columns.values]\n",
    "    df['normalized_mean'] = df.apply(f, axis=1)\n",
    "    df = df.groupby('user')['normalized_mean'].mean()\n",
    "    for index, value in df.items():\n",
    "        float_mean = value\n",
    "    try:\n",
    "        float_mean\n",
    "    except NameError:\n",
    "        float_mean = 0\n",
    "    # print(df['Bjoke'])\n",
    "\n",
    "    # for index, row in df:\n",
    "    #    print(index)\n",
    "    #    print(row)\n",
    "    # print(df.head(5))\n",
    "    # print(df_max.head(5))\n",
    "    # ['impressionOrder'].mean().reset_index()\n",
    "    # for index, row in df.iterrows():\n",
    "        #print(index, row)\n",
    "        # mean delle impressionorder di quella source nella timeline\n",
    "\n",
    "    # fai la media di tutti gli order nelle timeline per quella source\n",
    "    return float_mean  # the average for the user\n",
    "\n",
    "\n",
    "def mean_order(impressions, source):\n",
    "    sources_users = {\"source\": [],\n",
    "                     \"user\": [],\n",
    "                     \"mean\": []}\n",
    "    for user, user_impressions in impressions.groupby('user'):\n",
    "        sources_users[\"source\"].append(source)\n",
    "        sources_users[\"user\"].append(user)\n",
    "        #print(normalize_mean(user_impressions, source))\n",
    "        sources_users[\"mean\"].append(normalize_mean(user_impressions, source))\n",
    "    return pd.DataFrame(data=sources_users)\n",
    "\n",
    "\n",
    "def users_dx_and_sx(source_r, sources_l, impressions):\n",
    "    sources_users = mean_order(impressions, source_r)\n",
    "    sources_users = sources_users[['user', 'mean']]\n",
    "    sources_users.columns = ['user', 'dx']\n",
    "    sources_users['sx'] = mean_order(impressions, source_l)['mean']\n",
    "    return sources_users\n",
    "\n",
    "\n",
    "# was inside for loop\n",
    "impressions = df_wip[['user', 'source', 'impressionOrder', 'timeline']]\n",
    "# for source_r in sources_dx:\n",
    "#    flo = mean_order(impressions, source_r)\n",
    "#    print(flo)\n",
    "\n",
    "for source_r in sources_dx:\n",
    "    for source_l in sources_sx:\n",
    "\n",
    "        # filter out for desired time range for experiment\n",
    "\n",
    "        impressions_exp = impressions[(impressions.index >= timerange[0])\n",
    "                                      & (impressions.index <= timerange[1])]\n",
    "\n",
    "        impressions_pre = impressions[(impressions.index <= start_polarization) & (\n",
    "            impressions.index >= start_collection)]\n",
    "\n",
    "        # count specific sources per user\n",
    "\n",
    "        sources_users_exp = users_dx_and_sx(\n",
    "            source_r, source_l, impressions_exp)\n",
    "        sources_users_pre = users_dx_and_sx(\n",
    "            source_r, source_l, impressions_pre)\n",
    "\n",
    "        sources_users_exp['ratio_dx-sx'] = sources_users_exp['dx'] / \\\n",
    "            sources_users_exp['sx']\n",
    "\n",
    "        #sources_users_exp['ratio_dx-sx_adj'] = (sources_users_exp['dx']/sources_users_pre['dx'])/(sources_users_exp['sx']/sources_users_pre['sx'])\n",
    "        sources_users_exp['ratio_dx-sx_adj'] = (sources_users_exp['dx'].divide(\n",
    "            sources_users_pre['dx']))/(sources_users_exp['sx'].divide(sources_users_pre['sx']))\n",
    "\n",
    "        # add column with test group the user belongs to\n",
    "        polarized_users = ('Aarend', 'Bjoke', 'Cor Timmerman', 'Doortje',\n",
    "                           'Erwijn', 'Friedie', 'Gert', 'Hanneke', 'Ivo', 'Juultje')\n",
    "\n",
    "        sources_users_exp[\"user_group\"] = [\"polarized\" if user in polarized_users\n",
    "                                           else \"control\"\n",
    "                                           for user in sources_users_exp[\"user\"]]\n",
    "\n",
    "        # compare means and run t-test\n",
    "        if adjusted:\n",
    "            testing_var = 'ratio_dx-sx_adj'\n",
    "        else:\n",
    "            testing_var = 'ratio_dx-sx'\n",
    "\n",
    "        polarized = sources_users_exp[sources_users_exp['user_group']\n",
    "                                      == 'polarized'][testing_var]  # or _adj\n",
    "        control = sources_users_exp[sources_users_exp['user_group']\n",
    "                                    == 'control'][testing_var]\n",
    "\n",
    "        statistic, pvalue = ttest_ind(polarized, control)\n",
    "        if pvalue <= 0.05:\n",
    "            print(source_r+'/'+source_l)\n",
    "            print('Polarized = '+str(mean(polarized)))\n",
    "            print('Control = '+str(mean(control)))\n",
    "            print('Statistic: {}'.format(statistic))\n",
    "            print('Pvalue: {}'.format(pvalue))"
   ]
  },
  {
   "cell_type": "code",
   "execution_count": null,
   "metadata": {},
   "outputs": [],
   "source": [
    "import seaborn as sns\n",
    "%matplotlib inline\n",
    "\n",
    "title = 'Right/Left count ratio'\n",
    "\n",
    "if adjusted:\n",
    "    title = title+\" - Adjusted\"\n",
    "else:\n",
    "    pass\n",
    "\n",
    "sns.set(style=\"ticks\", color_codes=True)\n",
    "groups_data = sources_users_exp[[testing_var, \"user_group\"]]\n",
    "sns.catplot(x=\"user_group\", y=testing_var, data=groups_data).fig.suptitle(title, fontsize=10)"
   ]
  },
  {
   "cell_type": "code",
   "execution_count": null,
   "metadata": {},
   "outputs": [],
   "source": [
    "display(groups_data)"
   ]
  },
  {
   "cell_type": "code",
   "execution_count": null,
   "metadata": {},
   "outputs": [],
   "source": []
  },
  {
   "cell_type": "code",
   "execution_count": null,
   "metadata": {},
   "outputs": [],
   "source": []
  },
  {
   "cell_type": "code",
   "execution_count": null,
   "metadata": {},
   "outputs": [],
   "source": []
  },
  {
   "cell_type": "code",
   "execution_count": null,
   "metadata": {},
   "outputs": [],
   "source": []
  },
  {
   "cell_type": "code",
   "execution_count": null,
   "metadata": {},
   "outputs": [],
   "source": []
  },
  {
   "cell_type": "code",
   "execution_count": null,
   "metadata": {},
   "outputs": [],
   "source": []
  }
 ],
 "metadata": {
  "kernelspec": {
   "display_name": "Python 3",
   "language": "python",
   "name": "python3"
  },
  "language_info": {
   "codemirror_mode": {
    "name": "ipython",
    "version": 3
   },
   "file_extension": ".py",
   "mimetype": "text/x-python",
   "name": "python",
   "nbconvert_exporter": "python",
   "pygments_lexer": "ipython3",
   "version": "3.7.4"
  },
  "toc": {
   "base_numbering": 1,
   "nav_menu": {
    "height": "144px",
    "width": "419.2px"
   },
   "number_sections": true,
   "sideBar": true,
   "skip_h1_title": false,
   "title_cell": "Table of Contents",
   "title_sidebar": "Contents",
   "toc_cell": false,
   "toc_position": {
    "height": "calc(100% - 180px)",
    "left": "10px",
    "top": "150px",
    "width": "385.333px"
   },
   "toc_section_display": true,
   "toc_window_display": true
  },
  "varInspector": {
   "cols": {
    "lenName": 16,
    "lenType": 16,
    "lenVar": 40
   },
   "kernels_config": {
    "python": {
     "delete_cmd_postfix": "",
     "delete_cmd_prefix": "del ",
     "library": "var_list.py",
     "varRefreshCmd": "print(var_dic_list())"
    },
    "r": {
     "delete_cmd_postfix": ") ",
     "delete_cmd_prefix": "rm(",
     "library": "var_list.r",
     "varRefreshCmd": "cat(var_dic_list()) "
    }
   },
   "position": {
    "height": "748.85px",
    "left": "1024px",
    "right": "20px",
    "top": "125px",
    "width": "233.2px"
   },
   "types_to_exclude": [
    "module",
    "function",
    "builtin_function_or_method",
    "instance",
    "_Feature"
   ],
   "window_display": false
  }
 },
 "nbformat": 4,
 "nbformat_minor": 2
}
