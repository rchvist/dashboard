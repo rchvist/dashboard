{
 "cells": [
  {
   "cell_type": "markdown",
   "metadata": {},
   "source": [
    "# Data Cleaning (for facebook summary)"
   ]
  },
  {
   "cell_type": "markdown",
   "metadata": {},
   "source": [
    "## Load Data"
   ]
  },
  {
   "cell_type": "code",
   "execution_count": null,
   "metadata": {},
   "outputs": [],
   "source": [
    "from ipywidgets import interact, interact_manual\n",
    "import ipywidgets as widgets\n",
    "import os\n",
    "import pandas as pd\n",
    "import numpy as np\n",
    "import matplotlib.pyplot as plt\n",
    "import matplotlib.dates as mdates\n",
    "import pandas_profiling\n",
    "import sys\n",
    "sys.path.append(\"..\")\n",
    "from src import tools\n",
    "\n",
    "%matplotlib inline\n",
    "\n",
    "\n",
    "def absoluteFilePaths(directory):\n",
    "    for dirpath, _, filenames in os.walk(directory):\n",
    "        for f in filenames:\n",
    "            if str(f)[0] == '.':\n",
    "                pass\n",
    "            else:\n",
    "                yield os.path.abspath(os.path.join(dirpath, f))\n",
    "\n",
    "\n",
    "folder = \"../outputs/fb/summary/\"\n",
    "files = absoluteFilePaths(folder)\n",
    "\n",
    "df_list = []\n",
    "users = []\n",
    "data = {}\n",
    "for f in files:\n",
    "    df = pd.read_csv(f)\n",
    "    user = df.user.iloc[0]\n",
    "    data.update({user: df})\n",
    "\n",
    "print(data.keys())"
   ]
  },
  {
   "cell_type": "markdown",
   "metadata": {},
   "source": [
    "## Clean Data"
   ]
  },
  {
   "cell_type": "code",
   "execution_count": null,
   "metadata": {},
   "outputs": [],
   "source": [
    "stats = pd.DataFrame(columns=['start', 'end',\n",
    "                              'average_impression_count',\n",
    "                              'timelines',\n",
    "                              'total_entries',\n",
    "                              'missing values'\n",
    "                              ])\n",
    "\n",
    "for user, df in data.items():\n",
    "    try:\n",
    "        df = df.drop('Unnamed: 0', 1)\n",
    "    except:\n",
    "        pass\n",
    "\n",
    "    df = df[['impressionTime', 'impressionOrder',  'id',\n",
    "             'nature',  'postId', 'publicationTime', 'permaLink',\n",
    "             'source', 'sourceLink', 'fblinktype',\n",
    "             'texts', 'textsize', 'images',\n",
    "             'semanticCount', 'semanticId', 'timeline', 'user']]\n",
    "\n",
    "    df.index = df['impressionTime']\n",
    "    df.index = pd.to_datetime(df.index)\n",
    "    # end date, start date; format: YYYY-MM-DD\n",
    "    df = df['2020-02-06':'2019-10-15']\n",
    "    #df = df['2019-02-06':'2019-10-15']\n",
    "\n",
    "    df.publicationTime = pd.to_datetime(df.publicationTime)\n",
    "    df.impressionOrder = pd.to_numeric(df.impressionOrder, downcast='integer')\n",
    "\n",
    "    df = df.replace(\"nan\", np.nan)\n",
    "    df = df.replace(\"\", np.nan)\n",
    "    df['fblinktype'] = df['fblinktype'].fillna('other')\n",
    "\n",
    "    # AUTOMATE THIS\n",
    "    dictionary = {\n",
    "        'https://www.facebook.com/AgenziaANSA/': 'ANSA.it',\n",
    "        'https://www.facebook.com/AgenziaAdnKronos/': 'Adnkronos',\n",
    "        'https://www.facebook.com/corrieredellasera/': 'Corriere della Sera',\n",
    "        'https://www.facebook.com/giorgiameloni.paginaufficiale/': 'Giorgia Meloni',\n",
    "        'https://www.facebook.com/HuffPostItalia/': 'HuffPost Italia',\n",
    "        'https://www.facebook.com/ilfoglio/': 'Il Foglio',\n",
    "        'https://www.facebook.com/ilGiornale/': 'Il Giornale',\n",
    "        'https://www.facebook.com/italiaviva/': 'Italia Viva',\n",
    "        'https://www.facebook.com/la7fb/': 'La7',\n",
    "        'https://www.facebook.com/lastampa.it/': 'La Stampa',\n",
    "        'https://www.facebook.com/legasalvinipremier/': 'Lega - Salvini Premier',\n",
    "        'https://www.facebook.com/liberonews/': 'Libero',\n",
    "        'https://www.facebook.com/LuigiDiMaio/': 'Luigi Di Maio',\n",
    "        'https://www.facebook.com/matteorenziufficiale/': 'Matteo Renzi',\n",
    "        'https://www.facebook.com/Messaggero.it/': 'Il Messaggero.it',\n",
    "        'https://www.facebook.com/partitodemocratico/': 'Partito Democratico',\n",
    "        'https://www.facebook.com/rainews.it/': 'Rainews.it',\n",
    "        'https://www.facebook.com/Repubblica/': 'la Repubblica',\n",
    "        'https://www.facebook.com/salviniofficial/': 'Matteo Salvini'}\n",
    "\n",
    "    df['source'] = df['source'].fillna(df['sourceLink'])\n",
    "    df = df.replace({\"source\": dictionary})\n",
    "\n",
    "    stats.loc[user] = [\n",
    "        df.impressionTime.min(),\n",
    "        df.impressionTime.max(),\n",
    "        # max(df.impressionOrder),\n",
    "        #min(df.groupby(['timeline'], sort=False)['impressionOrder'].max()),\n",
    "        df.impressionOrder.mean(),\n",
    "        df['timeline'].nunique(),\n",
    "        df['id'].count(),\n",
    "        df.isna().sum().sum()\n",
    "    ]\n",
    "    data[user] = df.copy()\n",
    "\n",
    "\n",
    "stats"
   ]
  },
  {
   "cell_type": "code",
   "execution_count": null,
   "metadata": {
    "scrolled": true
   },
   "outputs": [],
   "source": [
    "#data['parsnip-lentils-fudge'].drop('impressionTime',1).profile_report(check_correlation_cramers=False,\n",
    "#                  check_correlation_pearson=False,\n",
    "#                  cardinality_threshold=len(df)*0.9,\n",
    "#                  style={'full_width':True}\n",
    "#                                          )"
   ]
  },
  {
   "cell_type": "markdown",
   "metadata": {},
   "source": [
    "### Check how many posts have been collected per day"
   ]
  },
  {
   "cell_type": "code",
   "execution_count": null,
   "metadata": {
    "scrolled": false
   },
   "outputs": [],
   "source": [
    "df = pd.concat(data.values())\n",
    "\n",
    "\n",
    "def dailyPostCountGraph(df, user):\n",
    "    data = tools.setDatetimeIndexFloor(tools.setDatetimeIndex(df), what=\"1D\")\n",
    "    data = data.groupby(data.index).id.count()\n",
    "    data = data.to_frame()\n",
    "\n",
    "    fig, ax = plt.subplots(figsize=(15, 7))\n",
    "\n",
    "    # set ticks every week\n",
    "    ax.xaxis.set_major_locator(mdates.AutoDateLocator())\n",
    "    ax.xaxis.set_major_formatter(mdates.DateFormatter('%b %d'))\n",
    "    ax.set_title('Number of posts collected per day for user: '+user)\n",
    "    ax.bar(data.index, data.id)\n",
    "    return(fig, ax)\n",
    "\n",
    "\n",
    "#fig, ax = (dailyPostCountGraph(df, user))\n",
    "\n",
    "@interact\n",
    "def show_plot(user=df['user'].unique()):\n",
    "    return dailyPostCountGraph(data[user], user)"
   ]
  },
  {
   "cell_type": "code",
   "execution_count": null,
   "metadata": {},
   "outputs": [],
   "source": [
    "def dailyPostCountGraph2(df, user, column):\n",
    "    data = tools.setDatetimeIndexFloor(tools.setDatetimeIndex(df), what=\"1D\")\n",
    "    data = data.groupby(data.index)[column].count()\n",
    "    data = data.to_frame()\n",
    "\n",
    "    fig, ax = plt.subplots(figsize=(15, 7))\n",
    "\n",
    "    # set ticks every week\n",
    "    ax.xaxis.set_major_locator(mdates.AutoDateLocator())\n",
    "    ax.xaxis.set_major_formatter(mdates.DateFormatter('%b %d'))\n",
    "    ax.set_title('Number of entries in col '+column +\n",
    "                 ' collected per day for: '+user)\n",
    "    ax.bar(data.index, data[column])\n",
    "    return(fig, ax)\n",
    "\n",
    "\n",
    "#fig, ax = (dailyPostCountGraph(df, user))\n",
    "\n",
    "@interact\n",
    "def show_plot(user=df['user'].unique(), column=df.columns):\n",
    "    return dailyPostCountGraph2(data[user], user, column)"
   ]
  },
  {
   "cell_type": "code",
   "execution_count": null,
   "metadata": {},
   "outputs": [],
   "source": [
    "def clean(df):\n",
    "    #df = df[pd.notnull(df['postId'])]\n",
    "    df = df[pd.notnull(df['source'])]\n",
    "    df = df[['impressionOrder', 'id', 'nature',\n",
    "             'source', 'fblinktype',\n",
    "             'texts', 'textsize',\n",
    "             'timeline', 'user']]\n",
    "    return df\n",
    "\n",
    "\n",
    "cleaned_df = clean(df)\n",
    "\n",
    "display(cleaned_df)"
   ]
  },
  {
   "cell_type": "code",
   "execution_count": null,
   "metadata": {},
   "outputs": [],
   "source": [
    "#cleaned_df.profile_report(check_correlation_cramers=False,\n",
    "#                          check_correlation_pearson=False,\n",
    "#                          cardinality_threshold=len(df)*0.9,\n",
    "#                          style={'full_width': True})"
   ]
  },
  {
   "cell_type": "code",
   "execution_count": null,
   "metadata": {},
   "outputs": [],
   "source": [
    "def datesPostCountGraph(df, user):\n",
    "    data = tools.setDatetimeIndexFloor(df, what=\"1D\")\n",
    "    data = data.groupby(data.index).id.count()\n",
    "    data = data.to_frame()\n",
    "\n",
    "    fig, ax = plt.subplots(figsize=(15, 7))\n",
    "\n",
    "    # set ticks every week\n",
    "    ax.xaxis.set_major_locator(mdates.AutoDateLocator())\n",
    "    ax.xaxis.set_major_formatter(mdates.DateFormatter('%b %d'))\n",
    "    ax.set_title('Number of posts collected per day for user: '+user)\n",
    "    ax.bar(data.index, data.id)\n",
    "    return(fig, ax)\n",
    "\n",
    "\n",
    "#fig, ax = (dailyPostCountGraph(df, user))\n",
    "\n",
    "@interact\n",
    "def show_plot(user=cleaned_df['user'].unique(), start_date=\"2019-10-12\", end_date=\"2020-01-03\"):\n",
    "    mask = (cleaned_df['user'] == user)\n",
    "    return datesPostCountGraph(cleaned_df[mask].loc[end_date:start_date], user)"
   ]
  },
  {
   "cell_type": "code",
   "execution_count": null,
   "metadata": {},
   "outputs": [],
   "source": [
    "import altair as alt\n",
    "alt.renderers.enable('notebook')\n",
    "\n",
    "# who has more missing days?\n",
    "\n",
    "\n",
    "def dailyPostCount(df):\n",
    "    data = tools.setDatetimeIndexFloor(df, what=\"1D\")\n",
    "    data = data.groupby([data.index, data.user]).id.count()\n",
    "    data = data.to_frame()\n",
    "    return data\n",
    "\n",
    "\n",
    "count = dailyPostCount(cleaned_df)\n",
    "\n",
    "\n",
    "len(count[(count['id'] > 60)])\n",
    "\n",
    "where_to_cut = pd.DataFrame(columns=['total_posts'])\n",
    "for i in range(0, 400):\n",
    "    l = len(count[(count['id'] > i)])\n",
    "\n",
    "    where_to_cut.loc[i] = [\n",
    "\n",
    "        l\n",
    "    ]\n",
    "where_to_cut.plot()"
   ]
  },
  {
   "cell_type": "code",
   "execution_count": null,
   "metadata": {},
   "outputs": [],
   "source": [
    "stats = pd.DataFrame(columns=['start', 'end',\n",
    "                              'average_impression_count',\n",
    "                              'timelines',\n",
    "                              'total_entries',\n",
    "                              'missing values'\n",
    "                              ])\n",
    "\n",
    "\n",
    "def getStats(df):\n",
    "    user_list = df.user.unique()\n",
    "    for user in user_list:\n",
    "        data = df[(df['user'] == user)]\n",
    "\n",
    "        stats.loc[user] = [\n",
    "            data.index.min(),\n",
    "            data.index.max(),\n",
    "            # max(df.impressionOrder),\n",
    "            #min(df.groupby(['timeline'], sort=False)['impressionOrder'].max()),\n",
    "            data.impressionOrder.mean(),\n",
    "            data['timeline'].nunique(),\n",
    "            data['id'].count(),\n",
    "            data.isna().sum().sum()\n",
    "        ]\n",
    "    return stats\n",
    "\n",
    "\n",
    "stats = getStats(cleaned_df)\n",
    "\n",
    "stats"
   ]
  },
  {
   "cell_type": "code",
   "execution_count": null,
   "metadata": {},
   "outputs": [],
   "source": [
    "stats.start.max(), stats.end.min()"
   ]
  },
  {
   "cell_type": "code",
   "execution_count": null,
   "metadata": {},
   "outputs": [],
   "source": [
    "polarized = ['kale-sushi-eggs',\n",
    "             'pickles-coleslaw-rhubarb',\n",
    "             'parsnip-lentils-fudge',\n",
    "             'yams-pomelo-guava',\n",
    "             'eggs-macaroon-pretzel',\n",
    "             'croissant-watercress-pudding',\n",
    "             'yolk-carnitas-date',\n",
    "             'asparagus-croissant-kiwi',\n",
    "             'coleslaw-ceviche-broccoli'\n",
    "             'coconut-fudge-mandarin'\n",
    "             ]"
   ]
  },
  {
   "cell_type": "code",
   "execution_count": null,
   "metadata": {},
   "outputs": [],
   "source": [
    "df.groupby(['timeline'])['impressionOrder'].max().plot.hist(bins=16)"
   ]
  },
  {
   "cell_type": "code",
   "execution_count": null,
   "metadata": {},
   "outputs": [],
   "source": [
    "df = df[['impressionOrder', 'id', 'nature', 'postId', 'publicationTime',\n",
    "         'permaLink', 'source', 'sourceLink', 'fblinktype', 'texts',\n",
    "         'textsize', 'semanticCount', 'semanticId', 'timeline', 'user']]"
   ]
  },
  {
   "cell_type": "code",
   "execution_count": null,
   "metadata": {},
   "outputs": [],
   "source": [
    "user_names = pd.read_csv(\"../config/users.csv\")\n",
    "names_dict = {}\n",
    "\n",
    "for name, number, token in user_names.values:\n",
    "    temp_df = pd.read_csv('../outputs/fb/summary/'+token+'.csv', nrows=2)\n",
    "    names_dict[temp_df.user[0]] = name\n",
    "\n",
    "df = df.replace({\"user\": names_dict})"
   ]
  },
  {
   "cell_type": "code",
   "execution_count": null,
   "metadata": {},
   "outputs": [],
   "source": [
    "\n",
    "result = df\n",
    "result.index = result.index.floor('H')\n",
    "names = result.groupby(df.index).user.unique()\n",
    "timelines = result.groupby(df.index).timeline.unique()\n",
    "result = pd.DataFrame(names)\n",
    "result.columns = ['names']\n",
    "result['users_count'] = result['names'].str.len()\n",
    "result['timelines'] = timelines\n",
    "result['timelines_count'] = result['timelines'].str.len()\n",
    "display(result)\n",
    "\n",
    "# result.users_count.plot.hist(bins=5)\n",
    "result.timelines_count.plot.hist(bins=31)"
   ]
  },
  {
   "cell_type": "code",
   "execution_count": null,
   "metadata": {},
   "outputs": [],
   "source": [
    "result.users_count.plot.hist(\n",
    "    bins=5, title='distribution of total impression')"
   ]
  },
  {
   "cell_type": "code",
   "execution_count": null,
   "metadata": {},
   "outputs": [],
   "source": [
    "\n",
    "print('if timeline 20 and users 20: '+str(len(result[( result['users_count'] == 20 ) & ( result['timelines_count'] == 20 )]))+' hours')\n",
    "\n",
    "print('if only users are 20 and timelines >= 20: '+str(len(result[( result['users_count'] == 20 ) & ( result['timelines_count'] >= 20 )]))+' hours')\n",
    "\n",
    "print('if users and timeline >=16: '+str(len(result[( result['users_count'] >= 16 ) & ( result['timelines_count'] >= 16 )]))+' hours')\n",
    "\n",
    "print('if users and timeline >=10: '+str(len(result[( result['users_count'] >= 10 ) & ( result['timelines_count'] >= 10 )]))+' hours')\n",
    "\n",
    "print('all data: '+str(len(result))+' hours')"
   ]
  },
  {
   "cell_type": "code",
   "execution_count": null,
   "metadata": {
    "scrolled": false
   },
   "outputs": [],
   "source": [
    "result[( result['users_count'] == 20 ) & ( result['timelines_count'] >= 20 )].groupby(result[( result['users_count'] == 20 ) & ( result['timelines_count'] >= 20 )].index.floor('D')).sum().plot(kind='bar')"
   ]
  },
  {
   "cell_type": "code",
   "execution_count": null,
   "metadata": {},
   "outputs": [],
   "source": [
    "trimmed = result[(result['users_count'] == 20)]\n",
    "trimmed = trimmed.loc['2019-11-01':'2019-12-31']\n",
    "trimmed.users_count.groupby(trimmed.index.floor('D')).count().plot.bar(title='All data in timeframe')\n"
   ]
  },
  {
   "cell_type": "code",
   "execution_count": null,
   "metadata": {},
   "outputs": [],
   "source": [
    "trimmed = result[(result['users_count'] == 20)]\n",
    "trimmed = trimmed.loc['2019-11-02':'2019-11-19']\n",
    "trimmed.users_count.groupby(trimmed.index.floor('D')).count().plot.bar(title='Pre-polarisation')\n"
   ]
  },
  {
   "cell_type": "code",
   "execution_count": null,
   "metadata": {},
   "outputs": [],
   "source": [
    "trimmed = result[(result['users_count'] == 20)]\n",
    "trimmed = trimmed.loc['2019-11-20':'2019-12-05']\n",
    "trimmed.users_count.groupby(trimmed.index.floor('D')).count().plot.bar(title='During-polarisation')\n"
   ]
  },
  {
   "cell_type": "code",
   "execution_count": null,
   "metadata": {},
   "outputs": [],
   "source": [
    "trimmed = result[(result['users_count'] == 20)]\n",
    "trimmed = trimmed.loc['2019-12-05':'2019-12-10']\n",
    "trimmed.users_count.groupby(trimmed.index.floor('D')).count().plot.bar(title='Polarized without external pages')\n"
   ]
  },
  {
   "cell_type": "code",
   "execution_count": null,
   "metadata": {},
   "outputs": [],
   "source": [
    "trimmed = result[(result['users_count'] == 20)]\n",
    "trimmed = trimmed.loc['2019-12-10':'2019-12-27']\n",
    "trimmed.users_count.groupby(trimmed.index.floor('D')).count().plot.bar(title='Post-polarisation and post-external-likes')\n"
   ]
  },
  {
   "cell_type": "code",
   "execution_count": null,
   "metadata": {},
   "outputs": [],
   "source": []
  }
 ],
 "metadata": {
  "kernelspec": {
   "display_name": "Python 3",
   "language": "python",
   "name": "python3"
  },
  "language_info": {
   "codemirror_mode": {
    "name": "ipython",
    "version": 3
   },
   "file_extension": ".py",
   "mimetype": "text/x-python",
   "name": "python",
   "nbconvert_exporter": "python",
   "pygments_lexer": "ipython3",
   "version": "3.7.4"
  },
  "toc": {
   "base_numbering": 1,
   "nav_menu": {
    "height": "144px",
    "width": "419.2px"
   },
   "number_sections": true,
   "sideBar": true,
   "skip_h1_title": false,
   "title_cell": "Table of Contents",
   "title_sidebar": "Contents",
   "toc_cell": false,
   "toc_position": {},
   "toc_section_display": true,
   "toc_window_display": false
  }
 },
 "nbformat": 4,
 "nbformat_minor": 2
}
