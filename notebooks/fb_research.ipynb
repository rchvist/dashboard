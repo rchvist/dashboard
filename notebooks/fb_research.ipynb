{
 "cells": [
  {
   "cell_type": "markdown",
   "metadata": {},
   "source": [
    "# Comparing Multiple Summaries"
   ]
  },
  {
   "cell_type": "markdown",
   "metadata": {},
   "source": [
    "## Install widgets and import libraries"
   ]
  },
  {
   "cell_type": "markdown",
   "metadata": {},
   "source": [
    "Note: Make sure you installed the ipython widgets as well as all the requirements.\n",
    "You can read more information on installing widgets here: https://ipywidgets.readthedocs.io/en/latest/user_install.html\n",
    "\n",
    "The commented cell below has commands that are supposed to be run in a shell, not through the notebook. Running them here might lead to privilege issues."
   ]
  },
  {
   "cell_type": "code",
   "execution_count": null,
   "metadata": {},
   "outputs": [],
   "source": [
    "!pip install -U -q ipywidgets\n",
    "!jupyter nbextension enable --py widgetsnbextension\n",
    "!pip install jupyter_contrib_nbextensions\n",
    "!pip install --upgrade autopep8\n",
    "!jupyter contrib nbextension install --user\n",
    "# !pip install missingno"
   ]
  },
  {
   "cell_type": "code",
   "execution_count": null,
   "metadata": {},
   "outputs": [],
   "source": [
    "import ipywidgets as widgets\n",
    "from ipywidgets import interact, interact_manual\n",
    "import pandas as pd\n",
    "import os\n",
    "import matplotlib.pyplot as plt\n",
    "import numpy as np\n",
    "import matplotlib.cm as cm\n",
    "import missingno as msno"
   ]
  },
  {
   "cell_type": "markdown",
   "metadata": {},
   "source": [
    "## Load data into pandas"
   ]
  },
  {
   "cell_type": "markdown",
   "metadata": {},
   "source": [
    "Here, we load all the csv data in the `folder` variable. **The folder must contain ONLY CSV files which you want to compare/load. Please select a folder which contains outputs of the same API (e.g. summary). Hidden files are excluded.**\n",
    "After all the csv files in the folder have been loaded as dataframes in a list named `df_list`, all of the files are loaded in a master dataframe called `df`.\n",
    "The script counts the number of impressions collected for each user, and prints them, as well as the total number of dataframes generated, the total impressions collected and the mean of the impressions collected per user."
   ]
  },
  {
   "cell_type": "code",
   "execution_count": null,
   "metadata": {},
   "outputs": [],
   "source": [
    "df_list = []\n",
    "names_list = []\n",
    "# folder is the relative or absolute path to the folder that contains only csv files\n",
    "folder = '../outputs/fb/summary'\n",
    "\n",
    "# get a list of absolute file paths for csv files\n",
    "\n",
    "\n",
    "def absoluteFilePaths(directory):\n",
    "    for dirpath, _, filenames in os.walk(directory):\n",
    "        for f in filenames:\n",
    "            if str(f)[0] == '.':\n",
    "                pass\n",
    "            else:\n",
    "                yield os.path.abspath(os.path.join(dirpath, f))\n",
    "\n",
    "\n",
    "def importFiles(folder):\n",
    "    files = absoluteFilePaths(folder)\n",
    "    # cycle through the files in the folder selected, import the csv and add the dataframe to the list of dataframes,\n",
    "    # the pseudo-username to the list, and print out impressions generated for the user, then the total number of files\n",
    "    for f in files:\n",
    "        df = pd.read_csv(f)\n",
    "        name = df['user'][0]\n",
    "        names_list.append(name)\n",
    "        df_list.append(df)\n",
    "        print('Impressions collected for '+name+': '+str(len(df.index)))\n",
    "    print('Total dataframes generated: '+str(len(df_list)))\n",
    "\n",
    "    # concatenate all the dataframes in the list to get a master dataframe indexed by impressionTime and username\n",
    "    df = pd.concat(df_list)\n",
    "    print('Total impressions collected: '+str(len(df)))\n",
    "    mean = len(df)/len(df_list)\n",
    "    print('Impressions collected mean: '+str(mean))\n",
    "    df['impressionTime'] = pd.to_datetime(df['impressionTime'])\n",
    "    df = df.set_index('impressionTime', 'user')\n",
    "    \n",
    "    return df_list, names_list, df\n",
    "\n",
    "\n",
    "df_list, names_list, df = importFiles(folder)"
   ]
  },
  {
   "cell_type": "markdown",
   "metadata": {},
   "source": [
    "## Data exploration"
   ]
  },
  {
   "cell_type": "markdown",
   "metadata": {},
   "source": [
    "### Check for missing data with MissingNo"
   ]
  },
  {
   "cell_type": "markdown",
   "metadata": {},
   "source": [
    "MissingNo allows to visualize missing data (the white parts), so we can decide which columns we want to drop."
   ]
  },
  {
   "cell_type": "code",
   "execution_count": null,
   "metadata": {},
   "outputs": [],
   "source": [
    "# %matplotlib inline\n",
    "df = df.reset_index()\n",
    "msno.matrix(df)\n",
    "df = df.set_index('impressionTime', 'user')"
   ]
  },
  {
   "cell_type": "markdown",
   "metadata": {},
   "source": [
    "### Total Impressions per user"
   ]
  },
  {
   "cell_type": "markdown",
   "metadata": {},
   "source": [
    "We want to check whether or not the users have collected a similar number of impressions (posts), so we plot them. We might notice that some user has collected more impressions than others."
   ]
  },
  {
   "cell_type": "code",
   "execution_count": null,
   "metadata": {
    "scrolled": false
   },
   "outputs": [],
   "source": [
    "# count total impressions per user\n",
    "total_count = df.groupby(['user'])['source'].count()\n",
    "\n",
    "# plot total count of impressions per user\n",
    "total_count.plot(kind='barh', figsize=(10, 10), grid=True,\n",
    "                 title='Total count of impressions per User')"
   ]
  },
  {
   "cell_type": "markdown",
   "metadata": {},
   "source": [
    "### Impression count per user in time"
   ]
  },
  {
   "cell_type": "markdown",
   "metadata": {},
   "source": [
    "Let's take a closer look to the impression collected per day by the users. A function groups the data by day and user, then counts the total number of posts per day per user. An interactive visualization is served, where you can select the username from a list, and a filtered dataframe is returned as a bar chart."
   ]
  },
  {
   "cell_type": "code",
   "execution_count": null,
   "metadata": {
    "scrolled": false
   },
   "outputs": [],
   "source": [
    "def impressionCountUserTime(df):\n",
    "    df.index = df.index.rename('impressionTime')\n",
    "    df.index = df.index.floor('1D')\n",
    "#     df.index = df.index.date\n",
    "    df = df.groupby(['impressionTime', 'user'])['id'].count()\n",
    "    df = df.reset_index(level=1)\n",
    "    df.index = df.index.date\n",
    "    @interact\n",
    "    def show_plot(user=df['user'].unique()):\n",
    "        mask = (df['user'] == user)\n",
    "        return df.loc[mask].plot(kind='bar',\n",
    "                                 figsize=(10, 10)\n",
    "                                 )\n",
    "\n",
    "\n",
    "impressionCountUserTime(df)"
   ]
  },
  {
   "cell_type": "markdown",
   "metadata": {},
   "source": [
    "## Data Cleaning"
   ]
  },
  {
   "cell_type": "markdown",
   "metadata": {},
   "source": [
    "Now that we have a better idea of what needs to be cleaned, we can start cleaning data according to our needs. We will try to generalize as much as we can, in order to be able to re-use the code in other cases."
   ]
  },
  {
   "cell_type": "markdown",
   "metadata": {},
   "source": [
    "### Make timeframe consistent across different user dataframes"
   ]
  },
  {
   "cell_type": "code",
   "execution_count": null,
   "metadata": {},
   "outputs": [],
   "source": [
    "# function that returns maximum common start date and minimum common end date as pd.DateTime objects\n",
    "def minMaxDates(df_list):\n",
    "    mindates = []\n",
    "    maxdates = []\n",
    "    for df in df_list:\n",
    "        df.impressionTime = pd.to_datetime(df.impressionTime)\n",
    "        minimum = df.impressionTime.min()\n",
    "        maximum = df.impressionTime.max()\n",
    "        mindates.append(minimum)\n",
    "        maxdates.append(maximum)\n",
    "    start = max(mindates)\n",
    "    end = min(maxdates)\n",
    "    return start, end\n",
    "\n",
    "# function that trims a summary dataframe\n",
    "\n",
    "\n",
    "def consistentTimeframe(df_list, df):\n",
    "    start, end = minMaxDates(df_list)\n",
    "    df = df[(df['impressionTime'] >= start) & (df['impressionTime'] <= end)]\n",
    "    return df\n",
    "\n",
    "\n",
    "df = df.reset_index()\n",
    "df = consistentTimeframe(df_list, df)\n",
    "# df = df.set_index(['impressionTime', 'user'])"
   ]
  },
  {
   "cell_type": "markdown",
   "metadata": {},
   "source": [
    "### Drop unnecessary columns"
   ]
  },
  {
   "cell_type": "code",
   "execution_count": null,
   "metadata": {},
   "outputs": [],
   "source": [
    "columns_to_drop = ['videoautoplay', 'opengraph']\n",
    "\n",
    "df = df.drop(columns=columns_to_drop)"
   ]
  },
  {
   "cell_type": "markdown",
   "metadata": {},
   "source": [
    "## Make Comparisons between user newsfeeds"
   ]
  },
  {
   "cell_type": "markdown",
   "metadata": {},
   "source": [
    "After importing and cleaning our dataframes, we want to explore the data with some preparation and visualizations."
   ]
  },
  {
   "cell_type": "markdown",
   "metadata": {},
   "source": [
    "### Distribution of source per user"
   ]
  },
  {
   "cell_type": "code",
   "execution_count": null,
   "metadata": {
    "scrolled": false
   },
   "outputs": [],
   "source": [
    "# count number of times each source has been seen per user\n",
    "source_count = df.groupby(['user'])['source'].value_counts().rename(\n",
    "    columns={'source': 'page_name'}).reset_index()\n",
    "source_count.columns = ['user', 'source', 'count']\n",
    "\n",
    "# generate a list of dataframes with the top 10 sources for each user\n",
    "@interact\n",
    "def sourcesPieChart(top=15, user=df['user'].unique()):\n",
    "    df = source_count[source_count.user == user].nlargest(top, 'count')\n",
    "    df = df.set_index('source')\n",
    "    return df.plot(\n",
    "        kind='pie',\n",
    "        y='count',\n",
    "        title=user,\n",
    "        autopct='%1.1f%%',\n",
    "        legend=False,\n",
    "        startangle=90,\n",
    "        figsize=(10, 10)\n",
    "    )"
   ]
  },
  {
   "cell_type": "markdown",
   "metadata": {},
   "source": [
    "### Source count per user in time"
   ]
  },
  {
   "cell_type": "code",
   "execution_count": null,
   "metadata": {
    "scrolled": false
   },
   "outputs": [],
   "source": [
    "def sourceCountUserTime(df):\n",
    "    df.index = df.index.rename('impressionTime')\n",
    "    df.index = df.index.floor('1D')\n",
    "    df = df.groupby(['impressionTime', 'user', 'source'])['source'].count()\n",
    "    df = df.rename(columns={'source': 'count'})\n",
    "    df = df.reset_index()\n",
    "    df.columns = ['impressionTime', 'user', 'source', 'count']\n",
    "    df = df.set_index('impressionTime')\n",
    "    df.index = df.index.date\n",
    "\n",
    "    @interact\n",
    "    def show_plot(user=df['user'].unique(), source=df['source'].unique()):\n",
    "        mask = (df['user'] == user) & (df['source'] == source)\n",
    "        return df.loc[mask].plot(kind='bar',\n",
    "                                 figsize=(10, 10),\n",
    "                                 grid=True\n",
    "                                 )\n",
    "\n",
    "\n",
    "df = df.set_index('impressionTime')\n",
    "sourceCountUserTime(df)"
   ]
  },
  {
   "cell_type": "markdown",
   "metadata": {},
   "source": [
    "### Multiple sources count for single user in time"
   ]
  },
  {
   "cell_type": "code",
   "execution_count": null,
   "metadata": {
    "scrolled": false
   },
   "outputs": [],
   "source": [
    "good_sources = [\n",
    "    'Lega - Salvini Premier',\n",
    "    'Il Sole 24 ORE',\n",
    "    'Partito Democratico',\n",
    "    'Il Foglio',\n",
    "    'il Post',\n",
    "    'la Repubblica',\n",
    "    'il manifesto',\n",
    "    'Il Giornale',\n",
    "    'Corriere della Sera',\n",
    "    'Italia Viva',\n",
    "    'Sky TG24',\n",
    "    'MoVimento 5 Stelle',\n",
    "    'ANSA.it',\n",
    "    'Il Fatto Quotidiano',\n",
    "    'La Stampa',\n",
    "    'Matteo Salvini',\n",
    "    'Tgcom24',\n",
    "    'Adnkronos',\n",
    "    'HuffPost Italia',\n",
    "    'Il Messaggero.it',\n",
    "    'La Nazione',\n",
    "    'Giorgia Meloni',\n",
    "    'Luigi Di Maio',\n",
    "    'Rainews.it',\n",
    "    'La7',\n",
    "    \"Fratelli d'Italia\",\n",
    "    'Open',\n",
    "    'Libero',\n",
    "    'Matteo Renzi',\n",
    "    'Silvio Berlusconi',\n",
    "    'Giuseppe Conte',\n",
    "    'Pietro Grasso',\n",
    "    'Nessuno'\n",
    "]\n",
    "\n",
    "\n",
    "def sourceUserComparison(df):\n",
    "    df.index = df.index.rename('impressionTime')\n",
    "    df.index = df.index.floor('1D')\n",
    "    df = df.groupby(['impressionTime', 'user', 'source'])['source'].count()\n",
    "    df = df.rename(columns={'source': 'count'})\n",
    "    df = df.reset_index()\n",
    "    df.columns = ['impressionTime', 'user', 'source', 'count']\n",
    "    df = df.set_index('impressionTime')\n",
    "\n",
    "    @interact\n",
    "    def show_plotta(user=df['user'].unique(),\n",
    "                    source1=good_sources,\n",
    "                    source2=good_sources,\n",
    "                    source3=good_sources,\n",
    "                    source4=good_sources,\n",
    "                    source5=good_sources):\n",
    "\n",
    "        filtro = [source1, source2, source3, source4, source5]\n",
    "        data = df[df['source'].isin(filtro)]\n",
    "        data = data.groupby([data.index.date, data.user, data.source]).sum()\n",
    "        data = data.reset_index()\n",
    "        data.columns = ['date', 'user', 'source', 'count']\n",
    "        # data = data.pivot(index=data.index,columns='source', values='count')\n",
    "        data = data.pivot_table(\n",
    "            values='count',\n",
    "            index=['date', 'user'],\n",
    "            columns='source',\n",
    "            aggfunc='sum')\n",
    "\n",
    "        data = data.fillna(0)\n",
    "        data = data.reset_index()\n",
    "        data = data.set_index('date')\n",
    "        mask = (data['user'] == user)\n",
    "        return data.loc[mask].plot(kind='line',\n",
    "                                   figsize=(15, 10),\n",
    "                                   grid=True,\n",
    "                                   legend=True)\n",
    "\n",
    "\n",
    "sourceUserComparison(df)"
   ]
  },
  {
   "cell_type": "markdown",
   "metadata": {},
   "source": [
    "### Count for single source among different users in time"
   ]
  },
  {
   "cell_type": "code",
   "execution_count": null,
   "metadata": {},
   "outputs": [],
   "source": [
    "def userSourceComparison(df):\n",
    "    df.index = df.index.rename('impressionTime')\n",
    "    df.index = df.index.floor('1D')\n",
    "    df = df.groupby(['impressionTime', 'user', 'source'])['source'].count()\n",
    "    df = df.rename(columns={'source': 'count'})\n",
    "    df = df.reset_index()\n",
    "    df.columns = ['impressionTime', 'user', 'source', 'count']\n",
    "    df = df.set_index('impressionTime')\n",
    "\n",
    "    @interact\n",
    "    def show_plotta(source=df['source'].unique(),\n",
    "                    user1=df.user.unique(),\n",
    "                    user2=df.user.unique(),\n",
    "                    user3=df.user.unique(),\n",
    "                    user4=df.user.unique(),\n",
    "                    user5=df.user.unique()\n",
    "                    ):\n",
    "\n",
    "        filtro = [user1, user2, user3, user4, user5]\n",
    "        data = df[df['user'].isin(filtro)]\n",
    "        data = data.groupby([data.index.date, data.source, data.user]).sum()\n",
    "        data = data.reset_index()\n",
    "        data.columns = ['date', 'source', 'user', 'count']\n",
    "        # data = data.pivot(index=data.index,columns='source', values='count')\n",
    "        data = data.pivot_table(\n",
    "            values='count',\n",
    "            index=['date', 'source'],\n",
    "            columns='user',\n",
    "            aggfunc='sum')\n",
    "        data = data.fillna(0)\n",
    "        data = data.reset_index()\n",
    "        data = data.set_index('date')\n",
    "        mask = (data['source'] == source)\n",
    "\n",
    "        return data.loc[mask].plot(kind='line',\n",
    "                                   figsize=(15, 10),\n",
    "                                   grid=True,\n",
    "                                   legend=True,\n",
    "                                   title='Count comparison of source among different users')\n",
    "\n",
    "\n",
    "userSourceComparison(df)"
   ]
  },
  {
   "cell_type": "markdown",
   "metadata": {},
   "source": [
    "### Venn diagrams"
   ]
  },
  {
   "cell_type": "code",
   "execution_count": null,
   "metadata": {
    "scrolled": false
   },
   "outputs": [],
   "source": [
    "# MATPLOTLIB VENN\n",
    "from matplotlib_venn import venn3\n",
    "%matplotlib inline\n",
    "\n",
    "\n",
    "def getVennDiagram():\n",
    "    fig = plt.figure(figsize=(18, 16), dpi=80, facecolor='w', edgecolor='k')\n",
    "\n",
    "    @interact\n",
    "    def show_plotta(user1=df['user'].unique(),\n",
    "                    user2=df['user'].unique(),\n",
    "                    user3=df['user'].unique()):\n",
    "        set1 = set(df[df['user'] == user1].postId)\n",
    "        set2 = set(df[df['user'] == user2].postId)\n",
    "        set3 = set(df[df['user'] == user3].postId)\n",
    "        venn3([set1, set2, set3], (user1, user2, user3))\n",
    "        return plt.show()\n",
    "\n",
    "\n",
    "getVennDiagram()"
   ]
  },
  {
   "cell_type": "markdown",
   "metadata": {},
   "source": [
    "## Coding data and plotting"
   ]
  },
  {
   "cell_type": "markdown",
   "metadata": {},
   "source": [
    "### Divide polarized and non-polarized users"
   ]
  },
  {
   "cell_type": "code",
   "execution_count": null,
   "metadata": {},
   "outputs": [],
   "source": [
    "polarized = ['kale-sushi-eggs',\n",
    "             'pickles-coleslaw-rhubarb',\n",
    "             'parsnip-lentils-fudge',\n",
    "             'yams-pomelo-guava',\n",
    "             'eggs-macaroon-pretzel',\n",
    "             'croissant-watercress-pudding',\n",
    "             'yolk-carnitas-date',\n",
    "             'asparagus-croissant-kiwi',\n",
    "             'coleslaw-ceviche-broccoli'\n",
    "             'coconut-fudge-mandarin'\n",
    "             ]\n",
    "\n",
    "\n",
    "def codeDataframe(df, userlist):\n",
    "    df['polarized'] = np.where(df['user'].isin(userlist), 'yes', 'no')\n",
    "    return df\n",
    "#     df = df[df['user'].isin(userlist)]\n",
    "#     print(len(df))\n",
    "\n",
    "\n",
    "df_coded = codeDataframe(df, polarized)"
   ]
  },
  {
   "cell_type": "markdown",
   "metadata": {},
   "source": [
    "### Count (mean) comparison of source among different users"
   ]
  },
  {
   "cell_type": "code",
   "execution_count": null,
   "metadata": {
    "scrolled": false
   },
   "outputs": [],
   "source": [
    "def codedComparison(df):\n",
    "    df.index = df.index.rename('impressionTime')\n",
    "    df.index = df.index.floor('1D')\n",
    "    df = df.groupby(['impressionTime', 'polarized', 'source'])[\n",
    "        'source'].count()\n",
    "    df = pd.DataFrame(df)\n",
    "\n",
    "    df = df.rename(columns={'source': 'count'})\n",
    "    df = df.reset_index()\n",
    "\n",
    "    df.columns = ['impressionTime', 'polarized', 'source', 'count']\n",
    "    df = df.set_index('impressionTime')\n",
    "    df = df.groupby([df.index.date, df.source, df.polarized]).mean()\n",
    "    df = df.reset_index()\n",
    "\n",
    "    df.columns = ['date', 'source', 'polarized', 'count']\n",
    "    # data = data.pivot(index=data.index,columns='source', values='count')\n",
    "\n",
    "    df = df.pivot_table(\n",
    "        values='count',\n",
    "        index=['date', 'source'],\n",
    "        columns='polarized',\n",
    "        aggfunc='sum')\n",
    "    df = df.fillna(0)\n",
    "    df = df.reset_index()\n",
    "    df = df.set_index('date')\n",
    "    @interact\n",
    "    def show_plot(source=df['source'].unique()):\n",
    "\n",
    "        mask = (df['source'] == source)\n",
    "\n",
    "        return df.loc[mask].plot(kind='line',\n",
    "                                 linewidth=3,\n",
    "                                 figsize=(15, 10),\n",
    "                                 grid=True,\n",
    "                                 legend=True,\n",
    "                                 title='Count comparison of source among different users')\n",
    "\n",
    "\n",
    "codedComparison(df_coded)"
   ]
  },
  {
   "cell_type": "code",
   "execution_count": null,
   "metadata": {},
   "outputs": [],
   "source": [
    "# print(df_coded.groupby(['impressionTime','polarized']).fblinktype.value_counts(normalize=True).plot(kind='bar')\n",
    "#       .mul(100).round(1).astype(str)+'%'\n",
    "#      )"
   ]
  },
  {
   "cell_type": "markdown",
   "metadata": {},
   "source": [
    "# Tests"
   ]
  },
  {
   "cell_type": "code",
   "execution_count": null,
   "metadata": {},
   "outputs": [],
   "source": []
  },
  {
   "cell_type": "code",
   "execution_count": null,
   "metadata": {
    "scrolled": false
   },
   "outputs": [],
   "source": [
    "# data = source_count\n",
    "# good_sources = ['Lega - Salvini Premier',\n",
    "#                  'Il Sole 24 ORE',\n",
    "#                   'Partito Democratico',\n",
    "#                  'Il Foglio',\n",
    "#                     'il Post',\n",
    "#                     'la Repubblica',\n",
    "#                     'il manifesto',\n",
    "#                     'Il Giornale',\n",
    "#                     'Corriere della Sera',\n",
    "#                     'Italia Viva',\n",
    "#                     'Sky TG24',\n",
    "#                     'MoVimento 5 Stelle',\n",
    "#                     'ANSA.it',\n",
    "#                     'Il Fatto Quotidiano',\n",
    "#                     'La Stampa',\n",
    "#                     'Matteo Salvini',\n",
    "#                     'Tgcom24',\n",
    "#                     'Adnkronos',\n",
    "#                     'HuffPost Italia',\n",
    "#                     'Il Messaggero.it',\n",
    "#                     'La Nazione',\n",
    "#                     'Giorgia Meloni',\n",
    "#                     'Luigi Di Maio',\n",
    "#                     'Rainews.it',\n",
    "#                     'La7',\n",
    "#                     \"Fratelli d'Italia\",\n",
    "#                     'Open',\n",
    "#                     'Libero',\n",
    "#                     'Matteo Renzi',\n",
    "#                     'Silvio Berlusconi',\n",
    "#                     'Giuseppe Conte',\n",
    "#                     'Pietro Grasso']\n",
    "\n",
    "# data = data[data['source'].isin(good_sources)]\n",
    "\n",
    "# l = []\n",
    "#    for item in good_sources:\n",
    "#         l.append(item)\n",
    "\n",
    "#     colors = [float(hash(s) % 256) / 256 for s in l]\n",
    "\n",
    "#     cmap = cm.viridis\n",
    "#     mapped = cmap(colors)\n",
    "#     data = data.set_index('source')\n",
    "#     @interact\n",
    "#     def show_articles_more_than(user=data['user'].unique(), min_count=(150)):\n",
    "#         mask = (data['count'] >= min_count) & (data['user'] == user)\n",
    "#         return data.loc[mask].plot(kind='pie',\n",
    "#                                    y='count',\n",
    "#                                    shadow=True,\n",
    "#                                    autopct='%1.1f%%',\n",
    "#                                    legend=False,\n",
    "#                                    startangle=90,\n",
    "#                                    figsize=(10, 10),\n",
    "#                                    colors=mapped\n",
    "#                                    )"
   ]
  }
 ],
 "metadata": {
  "kernelspec": {
   "display_name": "Python 3",
   "language": "python",
   "name": "python3"
  },
  "language_info": {
   "codemirror_mode": {
    "name": "ipython",
    "version": 3
   },
   "file_extension": ".py",
   "mimetype": "text/x-python",
   "name": "python",
   "nbconvert_exporter": "python",
   "pygments_lexer": "ipython3",
   "version": "3.7.4"
  },
  "toc": {
   "base_numbering": 1,
   "nav_menu": {
    "height": "201px",
    "width": "770px"
   },
   "number_sections": true,
   "sideBar": true,
   "skip_h1_title": false,
   "title_cell": "Table of Contents",
   "title_sidebar": "Contents",
   "toc_cell": false,
   "toc_position": {},
   "toc_section_display": true,
   "toc_window_display": false
  }
 },
 "nbformat": 4,
 "nbformat_minor": 2
}
