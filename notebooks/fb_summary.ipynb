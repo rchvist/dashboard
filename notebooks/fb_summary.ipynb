{
 "cells": [
  {
   "cell_type": "markdown",
   "metadata": {
    "toc": true
   },
   "source": [
    "<h1>Table of Contents<span class=\"tocSkip\"></span></h1>\n",
    "<div class=\"toc\"><ul class=\"toc-item\"><li><span><a href=\"#Importing-data\" data-toc-modified-id=\"Importing-data-1\"><span class=\"toc-item-num\">1&nbsp;&nbsp;</span>Importing data</a></span></li><li><span><a href=\"#Manipulating-dates\" data-toc-modified-id=\"Manipulating-dates-2\"><span class=\"toc-item-num\">2&nbsp;&nbsp;</span>Manipulating dates</a></span></li><li><span><a href=\"#Personal-stats-(digital-wellbeing)\" data-toc-modified-id=\"Personal-stats-(digital-wellbeing)-3\"><span class=\"toc-item-num\">3&nbsp;&nbsp;</span>Personal stats (digital wellbeing)</a></span><ul class=\"toc-item\"><li><span><a href=\"#Time-spent-using-Facebook\" data-toc-modified-id=\"Time-spent-using-Facebook-3.1\"><span class=\"toc-item-num\">3.1&nbsp;&nbsp;</span>Time spent using Facebook</a></span></li><li><span><a href=\"#Time-spent-watching-ads\" data-toc-modified-id=\"Time-spent-watching-ads-3.2\"><span class=\"toc-item-num\">3.2&nbsp;&nbsp;</span>Time spent watching ads</a></span></li><li><span><a href=\"#Most-seen-sources\" data-toc-modified-id=\"Most-seen-sources-3.3\"><span class=\"toc-item-num\">3.3&nbsp;&nbsp;</span>Most seen sources</a></span></li></ul></li><li><span><a href=\"#Exploratory-Data-Analysis\" data-toc-modified-id=\"Exploratory-Data-Analysis-4\"><span class=\"toc-item-num\">4&nbsp;&nbsp;</span>Exploratory Data Analysis</a></span><ul class=\"toc-item\"><li><span><a href=\"#Trending-posts-on-your-feed-based-on-likes\" data-toc-modified-id=\"Trending-posts-on-your-feed-based-on-likes-4.1\"><span class=\"toc-item-num\">4.1&nbsp;&nbsp;</span>Trending posts on your feed based on likes</a></span></li><li><span><a href=\"#Posts-seen-more-often-and-how-did-they-rank-in-your-feed\" data-toc-modified-id=\"Posts-seen-more-often-and-how-did-they-rank-in-your-feed-4.2\"><span class=\"toc-item-num\">4.2&nbsp;&nbsp;</span>Posts seen more often and how did they rank in your feed</a></span></li><li><span><a href=\"#Wordclouds\" data-toc-modified-id=\"Wordclouds-4.3\"><span class=\"toc-item-num\">4.3&nbsp;&nbsp;</span>Wordclouds</a></span></li></ul></li></ul></div>"
   ]
  },
  {
   "cell_type": "markdown",
   "metadata": {},
   "source": [
    "# Importing data"
   ]
  },
  {
   "cell_type": "markdown",
   "metadata": {},
   "source": [
    "To run any script and to query the API in general, you will need a token. A code is generated every time you install the facebook.tracking.exposed\n",
    "\n",
    "You can use the test one or enter you own. Read this if you don't know how to get your token: link."
   ]
  },
  {
   "cell_type": "markdown",
   "metadata": {},
   "source": [
    "Note: to get your data you can use the script fb_download.py or fb_update.py in scripts/, then locate the csv file in outputs/."
   ]
  },
  {
   "cell_type": "code",
   "execution_count": null,
   "metadata": {},
   "outputs": [],
   "source": [
    "summary_path = '../sample_data/users/user_a.csv'"
   ]
  },
  {
   "cell_type": "markdown",
   "metadata": {},
   "source": [
    "Import the necessary libraries. In this example we commented out the hierarchical configuration used to call scripts from the command line."
   ]
  },
  {
   "cell_type": "code",
   "execution_count": null,
   "metadata": {},
   "outputs": [],
   "source": [
    "import datetime\n",
    "import pandas as pd\n",
    "from src import tools\n",
    "import sys\n",
    "import os\n",
    "sys.path.insert(0, '../')\n",
    "\n",
    "\n",
    "# from src.lib.config import config\n",
    "\n",
    "print('Done!')"
   ]
  },
  {
   "cell_type": "markdown",
   "metadata": {},
   "source": [
    "Now, we read the csv downloaded with facebook_download.py, remember that you can choose the amount of entries to retrieve by using the parameters --amount and --skip."
   ]
  },
  {
   "cell_type": "code",
   "execution_count": null,
   "metadata": {},
   "outputs": [],
   "source": [
    "df = pd.read_csv(summary_path)\n",
    "print('Done!')"
   ]
  },
  {
   "cell_type": "markdown",
   "metadata": {},
   "source": [
    "This is how the data looks like:"
   ]
  },
  {
   "cell_type": "code",
   "execution_count": null,
   "metadata": {},
   "outputs": [],
   "source": [
    "from IPython.display import display\n",
    "\n",
    "display(df.head())"
   ]
  },
  {
   "cell_type": "markdown",
   "metadata": {},
   "source": [
    "# Manipulating dates"
   ]
  },
  {
   "cell_type": "markdown",
   "metadata": {},
   "source": [
    "Now you can check the timeframe of the data you pulled."
   ]
  },
  {
   "cell_type": "code",
   "execution_count": null,
   "metadata": {},
   "outputs": [],
   "source": [
    "df = tools.setDatetimeIndex(df)\n",
    "maxDate = df.index.max()\n",
    "minDate = df.index.min()\n",
    "print('Information for timeframe: '+str(minDate)[:-6]+' to '+str(maxDate)[:-6])"
   ]
  },
  {
   "cell_type": "markdown",
   "metadata": {},
   "source": [
    "OPTIONALLY, you can also cut it to get, in this example, the last 24 hours only."
   ]
  },
  {
   "cell_type": "code",
   "execution_count": null,
   "metadata": {},
   "outputs": [],
   "source": [
    "start = maxDate-datetime.timedelta(days=7)\n",
    "end = maxDate\n",
    "df = tools.setTimeframe(df, str(start), str(end))\n",
    "print('From '+str(start)+' to '+str(end)+'\\n')"
   ]
  },
  {
   "cell_type": "markdown",
   "metadata": {},
   "source": [
    "# Personal stats (digital wellbeing)"
   ]
  },
  {
   "cell_type": "markdown",
   "metadata": {},
   "source": [
    "## Time spent using Facebook"
   ]
  },
  {
   "cell_type": "markdown",
   "metadata": {},
   "source": [
    "You can get useful insights for yourself, for example you can estimate the you time spent of facebook during that timeframe."
   ]
  },
  {
   "cell_type": "code",
   "execution_count": null,
   "metadata": {},
   "outputs": [],
   "source": [
    "timelines = df.timeline.unique()\n",
    "total = pd.to_timedelta(0)\n",
    "\n",
    "for t in timelines:\n",
    "    ndf = tools.filter(t, df=df, what='timeline', kind='or')\n",
    "    timespent = ndf.index.max() - ndf.index.min()\n",
    "    total += timespent\n",
    "\n",
    "print('Time spent on Facebook in this timeframe: '+str(total))"
   ]
  },
  {
   "cell_type": "markdown",
   "metadata": {},
   "source": [
    "## Time spent watching ads"
   ]
  },
  {
   "cell_type": "code",
   "execution_count": null,
   "metadata": {},
   "outputs": [],
   "source": [
    "nature = df.nature.value_counts()\n",
    "\n",
    "try:\n",
    "    percentage = str((nature.sponsored/nature.organic)*100)[:-12]\n",
    "except:\n",
    "    nature['sponsored'] = 0\n",
    "    percentage = str((nature.sponsored/nature.organic)*100)\n",
    "\n",
    "print(percentage+'% of the posts are sponsored posts.')\n",
    "\n",
    "timeads = (total.seconds)*(nature.sponsored/nature.organic)\n",
    "print('You spent an estimate of '+str(datetime.timedelta(seconds=(timeads)))\n",
    "      [:-7]+' watching ads on Facebook.')"
   ]
  },
  {
   "cell_type": "markdown",
   "metadata": {},
   "source": [
    "## Most seen sources"
   ]
  },
  {
   "cell_type": "markdown",
   "metadata": {},
   "source": [
    "You can also check which are the top news that are informing you."
   ]
  },
  {
   "cell_type": "code",
   "execution_count": null,
   "metadata": {},
   "outputs": [],
   "source": [
    "n = 5\n",
    "top = df.source.value_counts().nlargest(n)\n",
    "print('Top '+str(n)+' sources of information are: \\n'+top.to_string())"
   ]
  },
  {
   "cell_type": "markdown",
   "metadata": {},
   "source": [
    "Of course, you can display this data graphically. (Run field twice if it doesn't work)."
   ]
  },
  {
   "cell_type": "code",
   "execution_count": null,
   "metadata": {},
   "outputs": [],
   "source": [
    "%matplotlib inline\n",
    "\n",
    "top.plot.pie(autopct='%.2f', fontsize=13, figsize=(6, 6))"
   ]
  },
  {
   "cell_type": "markdown",
   "metadata": {},
   "source": [
    "# Exploratory Data Analysis\n",
    "\n",
    "You can change the x and y values easily to other columns to see different patterns. Note: You might need to trim the data first."
   ]
  },
  {
   "cell_type": "markdown",
   "metadata": {},
   "source": [
    "## Trending posts on your feed based on likes"
   ]
  },
  {
   "cell_type": "code",
   "execution_count": null,
   "metadata": {},
   "outputs": [],
   "source": [
    "import altair as alt\n",
    "\n",
    "# for the notebook only (not for JupyterLab) run this command once per session\n",
    "alt.renderers.enable('notebook')\n",
    "alt.Chart(df).mark_circle().encode(\n",
    "    x='impressionTime:T',\n",
    "    y='LIKE:Q',\n",
    "    color=alt.Color('source:N', legend=None),\n",
    "    tooltip=['source:N', 'url:N']\n",
    ").properties(\n",
    "    width=800,\n",
    "    height=400\n",
    ").interactive()"
   ]
  },
  {
   "cell_type": "markdown",
   "metadata": {},
   "source": [
    "## Posts seen more often and how did they rank in your feed\n"
   ]
  },
  {
   "cell_type": "code",
   "execution_count": null,
   "metadata": {},
   "outputs": [],
   "source": [
    "df['count'] = df.groupby('postId')['postId'].transform('count')\n",
    "\n",
    "alt.Chart(df).transform_calculate(\n",
    "    url='https://www.facebook.com' + alt.datum.permaLink\n",
    ").mark_circle(size=50).encode(\n",
    "    y='count:Q',\n",
    "    x='average(impressionOrder):Q',\n",
    "    color=alt.Color('source:N', legend=None),\n",
    "    href='url:N',\n",
    "    tooltip=['source:N', 'url:N']\n",
    ").properties(\n",
    "    width=800,\n",
    "    height=400\n",
    ").interactive()"
   ]
  },
  {
   "cell_type": "markdown",
   "metadata": {},
   "source": [
    "## Wordclouds"
   ]
  },
  {
   "cell_type": "code",
   "execution_count": null,
   "metadata": {},
   "outputs": [],
   "source": [
    "# import necessary modules\n",
    "import re\n",
    "import matplotlib\n",
    "import matplotlib.pyplot as plt\n",
    "from wordcloud import WordCloud\n",
    "from stop_words import get_stop_words\n",
    "\n",
    "matplotlib.rcParams['figure.figsize'] = [20, 10]\n",
    "\n",
    "stop_words = get_stop_words('es') + get_stop_words('it') + \\\n",
    "    get_stop_words('nl')+get_stop_words('en')\n",
    "\n",
    "\n",
    "def generate_wordcloud(text):\n",
    "    wordcloud = WordCloud(font_path='../src/fonts/DejaVuSans.ttf',\n",
    "                          relative_scaling=1.0,\n",
    "                          stopwords=stop_words,  # set or space-separated string\n",
    "                          width=2000,\n",
    "                          height=1000\n",
    "                          ).generate(text)\n",
    "    plt.imshow(wordcloud)\n",
    "    plt.figsize = (20, 10)\n",
    "    plt.axis(\"off\")\n",
    "    plt.show()\n",
    "\n",
    "\n",
    "text = df.texts.str.join(sep='').reset_index()\n",
    "text.columns = ['date', 'words']\n",
    "text = text.words.str.cat(sep=' ')\n",
    "text = re.sub(r'\\W+', ' ', text)\n",
    "\n",
    "generate_wordcloud(text)"
   ]
  },
  {
   "cell_type": "code",
   "execution_count": null,
   "metadata": {},
   "outputs": [],
   "source": []
  }
 ],
 "metadata": {
  "kernelspec": {
   "display_name": "Python 3",
   "language": "python",
   "name": "python3"
  },
  "language_info": {
   "codemirror_mode": {
    "name": "ipython",
    "version": 3
   },
   "file_extension": ".py",
   "mimetype": "text/x-python",
   "name": "python",
   "nbconvert_exporter": "python",
   "pygments_lexer": "ipython3",
   "version": "3.7.4"
  },
  "toc": {
   "base_numbering": 1,
   "nav_menu": {},
   "number_sections": true,
   "sideBar": true,
   "skip_h1_title": false,
   "title_cell": "Table of Contents",
   "title_sidebar": "Contents",
   "toc_cell": true,
   "toc_position": {},
   "toc_section_display": true,
   "toc_window_display": true
  }
 },
 "nbformat": 4,
 "nbformat_minor": 2
}
