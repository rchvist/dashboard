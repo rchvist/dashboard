{
 "cells": [
  {
   "cell_type": "code",
   "execution_count": 1,
   "metadata": {},
   "outputs": [],
   "source": [
    "import pandas as pd\n",
    "from collections import defaultdict\n",
    "import os\n",
    "from datetime import datetime\n",
    "from scipy.stats import ttest_ind\n",
    "from numpy import mean"
   ]
  },
  {
   "cell_type": "code",
   "execution_count": 2,
   "metadata": {},
   "outputs": [],
   "source": [
    "#set constants\n",
    "\n",
    "sources = [\"Il Giornale\"]\n",
    "\n",
    "timerange = ('2019-11-20',\n",
    "             '2019-12-29')\n",
    "\n",
    "folder = '../outputs/fb/summary'\n",
    "\n",
    "file_users =  '../config/users.csv'\n"
   ]
  },
  {
   "cell_type": "code",
   "execution_count": 3,
   "metadata": {},
   "outputs": [],
   "source": [
    "#load all impressions, filtering useful fields and replacing hased names with fb names\n",
    "\n",
    "\n",
    "def absoluteFilePaths(directory):\n",
    "    for dirpath, _, filenames in os.walk(directory):\n",
    "        for f in filenames:\n",
    "            if str(f)[0] == '.':\n",
    "                pass\n",
    "            else:\n",
    "                yield os.path.abspath(os.path.join(dirpath, f))\n",
    "\n",
    "def getImpressions(folder):\n",
    "    impressions = pd.DataFrame()\n",
    "    files = absoluteFilePaths(folder)\n",
    "    tokens2names = pd.read_csv(file_users)\n",
    "    for impressions_file in files:\n",
    "        user_impressions = pd.read_csv(impressions_file)[['impressionTime', 'user', 'source']] #you can add fields of interest here\n",
    "        name = tokens2names[tokens2names['token'] == impressions_file.split('/')[-1].split('.')[0]]['name'].values[0]\n",
    "        user_impressions['user'] = name\n",
    "        impressions = pd.concat([impressions, user_impressions])      \n",
    "    return impressions\n",
    "\n",
    "impressions = getImpressions(folder)"
   ]
  },
  {
   "cell_type": "code",
   "execution_count": 4,
   "metadata": {},
   "outputs": [],
   "source": [
    "#filter out for desired time range for experiment\n",
    "\n",
    "\n",
    "impressions_exp = impressions[(impressions['impressionTime'] >= timerange[0]) \n",
    "                        & (impressions['impressionTime'] <= timerange[1])]"
   ]
  },
  {
   "cell_type": "code",
   "execution_count": 5,
   "metadata": {},
   "outputs": [
    {
     "name": "stderr",
     "output_type": "stream",
     "text": [
      "/home/berra/dashboard/venv/lib/python3.6/site-packages/ipykernel_launcher.py:4: SettingWithCopyWarning: \n",
      "A value is trying to be set on a copy of a slice from a DataFrame.\n",
      "Try using .loc[row_indexer,col_indexer] = value instead\n",
      "\n",
      "See the caveats in the documentation: http://pandas.pydata.org/pandas-docs/stable/indexing.html#indexing-view-versus-copy\n",
      "  after removing the cwd from sys.path.\n"
     ]
    }
   ],
   "source": [
    "#cut impressionTime to aggregate posts in the same timeline\n",
    "\n",
    "impressions_exp['timeline'] = [impressionTime[:15]\n",
    "                               for impressionTime in impressions_exp['impressionTime']]\n"
   ]
  },
  {
   "cell_type": "code",
   "execution_count": 19,
   "metadata": {},
   "outputs": [],
   "source": [
    "#count specific sources per timeline\n",
    "\n",
    "def count_sources_by_timeline(impressions, sources):\n",
    "    sources_timelines = {\"source\": [],\n",
    "                         \"timeline\": [],\n",
    "                         \"user\": [],\n",
    "                         \"count\": []}\n",
    "    for source in sources:\n",
    "        for user_timeline, timeline_impressions in impressions_exp.groupby(['user','timeline']):\n",
    "            sources_timelines[\"source\"].append(source)\n",
    "            sources_timelines[\"timeline\"].append(user_timeline)\n",
    "            sources_timelines[\"user\"].append(user_timeline[0])\n",
    "            sources_timelines[\"count\"].append(timeline_impressions[timeline_impressions[\"source\"] == source][\"source\"].count())\n",
    "\n",
    "    return pd.DataFrame(data = sources_timelines)\n",
    "\n",
    "sources_timelines = count_sources_by_timeline(impressions_exp, sources)"
   ]
  },
  {
   "cell_type": "code",
   "execution_count": 20,
   "metadata": {},
   "outputs": [
    {
     "data": {
      "text/html": [
       "<div>\n",
       "<style scoped>\n",
       "    .dataframe tbody tr th:only-of-type {\n",
       "        vertical-align: middle;\n",
       "    }\n",
       "\n",
       "    .dataframe tbody tr th {\n",
       "        vertical-align: top;\n",
       "    }\n",
       "\n",
       "    .dataframe thead th {\n",
       "        text-align: right;\n",
       "    }\n",
       "</style>\n",
       "<table border=\"1\" class=\"dataframe\">\n",
       "  <thead>\n",
       "    <tr style=\"text-align: right;\">\n",
       "      <th></th>\n",
       "      <th>source</th>\n",
       "      <th>timeline</th>\n",
       "      <th>user</th>\n",
       "      <th>count</th>\n",
       "    </tr>\n",
       "  </thead>\n",
       "  <tbody>\n",
       "    <tr>\n",
       "      <th>0</th>\n",
       "      <td>Il Giornale</td>\n",
       "      <td>(Aarend, 2019-11-20 07:0)</td>\n",
       "      <td>Aarend</td>\n",
       "      <td>0</td>\n",
       "    </tr>\n",
       "    <tr>\n",
       "      <th>1</th>\n",
       "      <td>Il Giornale</td>\n",
       "      <td>(Aarend, 2019-11-20 08:0)</td>\n",
       "      <td>Aarend</td>\n",
       "      <td>1</td>\n",
       "    </tr>\n",
       "    <tr>\n",
       "      <th>2</th>\n",
       "      <td>Il Giornale</td>\n",
       "      <td>(Aarend, 2019-11-20 09:0)</td>\n",
       "      <td>Aarend</td>\n",
       "      <td>1</td>\n",
       "    </tr>\n",
       "    <tr>\n",
       "      <th>3</th>\n",
       "      <td>Il Giornale</td>\n",
       "      <td>(Aarend, 2019-11-20 12:0)</td>\n",
       "      <td>Aarend</td>\n",
       "      <td>1</td>\n",
       "    </tr>\n",
       "    <tr>\n",
       "      <th>4</th>\n",
       "      <td>Il Giornale</td>\n",
       "      <td>(Aarend, 2019-11-20 14:0)</td>\n",
       "      <td>Aarend</td>\n",
       "      <td>2</td>\n",
       "    </tr>\n",
       "  </tbody>\n",
       "</table>\n",
       "</div>"
      ],
      "text/plain": [
       "        source                   timeline    user  count\n",
       "0  Il Giornale  (Aarend, 2019-11-20 07:0)  Aarend      0\n",
       "1  Il Giornale  (Aarend, 2019-11-20 08:0)  Aarend      1\n",
       "2  Il Giornale  (Aarend, 2019-11-20 09:0)  Aarend      1\n",
       "3  Il Giornale  (Aarend, 2019-11-20 12:0)  Aarend      1\n",
       "4  Il Giornale  (Aarend, 2019-11-20 14:0)  Aarend      2"
      ]
     },
     "execution_count": 20,
     "metadata": {},
     "output_type": "execute_result"
    }
   ],
   "source": [
    "#exclude salvini+lega in order to harmonize shares across polarized and control\n",
    "\n",
    "impressions_exp = impressions_exp[(impressions_exp[\"source\"] != \"Matteo Salvini\") \n",
    "                        & (impressions_exp[\"source\"] != \"Lega - Salvini Premier\")]\n",
    "\n",
    "sources_timelines.head()"
   ]
  },
  {
   "cell_type": "code",
   "execution_count": 22,
   "metadata": {},
   "outputs": [],
   "source": [
    "\n",
    "#normalize counts dividing for total impression per timeline\n",
    "\n",
    "timeline_totalcount = impressions_exp.groupby(['user','timeline'])[\"source\"].count()\n",
    "\n",
    "sources_timelines[\"tot_count\"] = [timeline_totalcount[timeline]\n",
    "                                  for timeline in sources_timelines[\"timeline\"]] \n",
    "\n",
    "sources_timelines[\"share_count\"] = (sources_timelines[\"count\"] / sources_timelines[\"tot_count\"])*100\n",
    "\n"
   ]
  },
  {
   "cell_type": "code",
   "execution_count": 23,
   "metadata": {},
   "outputs": [],
   "source": [
    "#drop timelinesif below a threeshold count\n",
    "\n",
    "min_totcount = 10\n",
    "\n",
    "sources_timelines = sources_timelines[sources_timelines[\"tot_count\"] >= min_totcount]\n",
    "\n"
   ]
  },
  {
   "cell_type": "code",
   "execution_count": 24,
   "metadata": {},
   "outputs": [],
   "source": [
    "#add column with test group the user belongs to\n",
    "polarized_users = ('Aarend','Bjoke','CorTimmerman','Doortje','Erwijn','Friedie','Gert','Hanneke','Ivo','Juultje')\n",
    "\n",
    "sources_timelines[\"user_group\"] = [\"polarized\" if user in polarized_users \n",
    "                                               else \"control\" \n",
    "                                    for user in sources_timelines[\"user\"]]\n",
    "\n"
   ]
  },
  {
   "cell_type": "code",
   "execution_count": 25,
   "metadata": {},
   "outputs": [
    {
     "name": "stdout",
     "output_type": "stream",
     "text": [
      "7.498138697856467\n",
      "5.091850342163031\n"
     ]
    },
    {
     "data": {
      "text/plain": [
       "Ttest_indResult(statistic=12.789887135666453, pvalue=5.621390912054862e-37)"
      ]
     },
     "execution_count": 25,
     "metadata": {},
     "output_type": "execute_result"
    }
   ],
   "source": [
    "#compare means and run t-test\n",
    "\n",
    "polarized = sources_timelines[sources_timelines['user_group'] == 'polarized'][\"share_count\"]\n",
    "control = sources_timelines[sources_timelines['user_group'] == 'control'][\"share_count\"]\n",
    "\n",
    "\n",
    "print(mean(polarized))\n",
    "print(mean(control))\n",
    "\n",
    "ttest_ind(polarized, control)"
   ]
  },
  {
   "cell_type": "code",
   "execution_count": null,
   "metadata": {},
   "outputs": [],
   "source": []
  },
  {
   "cell_type": "code",
   "execution_count": null,
   "metadata": {},
   "outputs": [],
   "source": []
  }
 ],
 "metadata": {
  "kernelspec": {
   "display_name": "Python 3",
   "language": "python",
   "name": "python3"
  },
  "language_info": {
   "codemirror_mode": {
    "name": "ipython",
    "version": 3
   },
   "file_extension": ".py",
   "mimetype": "text/x-python",
   "name": "python",
   "nbconvert_exporter": "python",
   "pygments_lexer": "ipython3",
   "version": "3.6.9"
  }
 },
 "nbformat": 4,
 "nbformat_minor": 4
}
