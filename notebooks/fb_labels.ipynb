{
 "cells": [
  {
   "cell_type": "markdown",
   "metadata": {
    "toc": true
   },
   "source": [
    "<h1>Table of Contents<span class=\"tocSkip\"></span></h1>\n",
    "<div class=\"toc\"><ul class=\"toc-item\"><li><span><a href=\"#Visualizing-Semantic-Data\" data-toc-modified-id=\"Visualizing-Semantic-Data-1\"><span class=\"toc-item-num\">1&nbsp;&nbsp;</span>Visualizing Semantic Data</a></span></li><li><span><a href=\"#Load-and-prepare-data\" data-toc-modified-id=\"Load-and-prepare-data-2\"><span class=\"toc-item-num\">2&nbsp;&nbsp;</span>Load and prepare data</a></span></li><li><span><a href=\"#Visualize\" data-toc-modified-id=\"Visualize-3\"><span class=\"toc-item-num\">3&nbsp;&nbsp;</span>Visualize</a></span><ul class=\"toc-item\"><li><span><a href=\"#Labels-per-user\" data-toc-modified-id=\"Labels-per-user-3.1\"><span class=\"toc-item-num\">3.1&nbsp;&nbsp;</span>Labels per user</a></span></li><li><span><a href=\"#Users-per-label\" data-toc-modified-id=\"Users-per-label-3.2\"><span class=\"toc-item-num\">3.2&nbsp;&nbsp;</span>Users per label</a></span></li><li><span><a href=\"#Compare\" data-toc-modified-id=\"Compare-3.3\"><span class=\"toc-item-num\">3.3&nbsp;&nbsp;</span>Compare</a></span></li></ul></li><li><span><a href=\"#Wordcloud\" data-toc-modified-id=\"Wordcloud-4\"><span class=\"toc-item-num\">4&nbsp;&nbsp;</span>Wordcloud</a></span></li></ul></div>"
   ]
  },
  {
   "cell_type": "markdown",
   "metadata": {
    "heading_collapsed": true
   },
   "source": [
    "# Visualizing Semantic Data\n",
    "\n",
    "In this notebook we manipulate and visualize label data produced by Dandelion, using the fbTREX semantic API.\n",
    "\n",
    "First of all we load the usual libraries, and the output csvs of labels.py for two different users.\n",
    "We are going to use the sample dataset. You can change the paths for file1 and file2, as well as the number of top sources to get for both of the users.\n",
    "\n",
    "Then we build a dataframe containing the n top sources per day for the two different users."
   ]
  },
  {
   "cell_type": "markdown",
   "metadata": {},
   "source": [
    "# Load and prepare data"
   ]
  },
  {
   "cell_type": "markdown",
   "metadata": {},
   "source": [
    "Combine data for two users and take a look at the dataset."
   ]
  },
  {
   "cell_type": "code",
   "execution_count": null,
   "metadata": {},
   "outputs": [],
   "source": [
    "# import libraries\n",
    "import pandas as pd\n",
    "import altair as alt\n",
    "alt.renderers.enable('notebook')\n",
    "\n",
    "# configure files location and number of top labels to get.\n",
    "file1 = '../sample_data/user_a_labels.csv'\n",
    "file2 = '../sample_data/user_b_labels.csv'\n",
    "top = 5\n",
    "\n",
    "# load the data\n",
    "df1 = pd.read_csv(file1)\n",
    "df2 = pd.read_csv(file2)\n",
    "df = pd.concat([df1, df2])\n",
    "\n",
    "df.head()"
   ]
  },
  {
   "cell_type": "markdown",
   "metadata": {},
   "source": [
    "Group by word and get the n top labels for each user per day."
   ]
  },
  {
   "cell_type": "code",
   "execution_count": null,
   "metadata": {},
   "outputs": [],
   "source": [
    "# filter out to get only top n labels\n",
    "\n",
    "keep_list = df1.groupby('word')['count'].sum().nlargest(5).index.tolist()\n",
    "df1 = df1[df1['word'].isin(keep_list)]\n",
    "keep_list = df2.groupby('word')['count'].sum().nlargest(5).index.tolist()\n",
    "df2 = df2[df2['word'].isin(keep_list)]\n",
    "\n",
    "top = pd.concat([df1, df2])"
   ]
  },
  {
   "cell_type": "markdown",
   "metadata": {},
   "source": [
    "# Visualize"
   ]
  },
  {
   "cell_type": "markdown",
   "metadata": {},
   "source": [
    "## Labels per user"
   ]
  },
  {
   "cell_type": "code",
   "execution_count": null,
   "metadata": {},
   "outputs": [],
   "source": [
    "alt.Chart(top).mark_line().encode(\n",
    "    x='impressionTime:T',\n",
    "    y='count:Q',\n",
    "    color='word:N',\n",
    "    row='user:N'\n",
    ").properties(\n",
    "    width = 600,\n",
    "    height = 450\n",
    ")"
   ]
  },
  {
   "cell_type": "markdown",
   "metadata": {},
   "source": [
    "## Users per label\n",
    "\n",
    "Choose a list of words (in this example, 'Barcelona' and 'Partido Popular').\n",
    "Then we show the trending of the two words on the two users profiles."
   ]
  },
  {
   "cell_type": "code",
   "execution_count": null,
   "metadata": {},
   "outputs": [],
   "source": [
    "words_list = ['Barcelona', 'Partido Popular']\n",
    "\n",
    "filtered = df[df['word'].isin(words_list)]\n",
    "alt.Chart(filtered).mark_line().encode(\n",
    "    x='impressionTime:T',\n",
    "    y='count:Q',\n",
    "    color='user:N',\n",
    "    row='word:N'\n",
    ").properties(\n",
    "    width = 600,\n",
    "    height = 300\n",
    ")"
   ]
  },
  {
   "cell_type": "markdown",
   "metadata": {},
   "source": [
    "## Compare"
   ]
  },
  {
   "cell_type": "code",
   "execution_count": null,
   "metadata": {},
   "outputs": [],
   "source": [
    "\n",
    "df1 = df1.sort_values('count', axis=0, ascending=False)\n",
    "df2 = df2.sort_values('count', axis=0, ascending=False)\n",
    "\n",
    "user1 = alt.Chart(df1).mark_bar().encode(\n",
    "    x='count:Q',\n",
    "    y=alt.Y(\n",
    "        'word:N',\n",
    "        sort=alt.SortField(\n",
    "            field=\"count:Q\",\n",
    "            order=\"descending\"\n",
    "        )\n",
    "    )\n",
    ").properties(title=df1.user.value_counts().idxmax())\n",
    "\n",
    "user2 = alt.Chart(df2).mark_bar().encode(\n",
    "    x='count:Q',\n",
    "    y=alt.Y(\n",
    "        'word:N',\n",
    "        sort=alt.SortField(\n",
    "            field=\"count:Q\",\n",
    "            order=\"descending\"\n",
    "        )\n",
    "    )\n",
    ").properties(title=df2.user.value_counts().idxmax())\n",
    "\n",
    "user1 & user2"
   ]
  },
  {
   "cell_type": "markdown",
   "metadata": {},
   "source": [
    "# Wordcloud"
   ]
  },
  {
   "cell_type": "code",
   "execution_count": null,
   "metadata": {
    "scrolled": false
   },
   "outputs": [],
   "source": [
    "from wordcloud import WordCloud\n",
    "import matplotlib\n",
    "import matplotlib.pyplot as plt\n",
    "\n",
    "%matplotlib inline\n",
    "matplotlib.rcParams['figure.figsize'] = [20, 10]\n",
    "\n",
    "data = df1.word.str.join(sep='').reset_index()\n",
    "data.columns = ['date', 'words']\n",
    "data = data.words.str.cat(sep=' ')\n",
    "\n",
    "wordcloud = WordCloud(font_path='../src/fonts/DejaVuSans.ttf',\n",
    "                      relative_scaling = 1.0,\n",
    "                      width=2000,\n",
    "                      height=1000\n",
    "                      ).generate(data)\n",
    "plt.imshow(wordcloud)\n",
    "plt.figsize=(20,10)\n",
    "plt.axis(\"off\")\n",
    "plt.title('User '+df1.user.value_counts().idxmax())\n",
    "\n"
   ]
  },
  {
   "cell_type": "code",
   "execution_count": null,
   "metadata": {},
   "outputs": [],
   "source": []
  }
 ],
 "metadata": {
  "kernelspec": {
   "display_name": "Python 3",
   "language": "python",
   "name": "python3"
  },
  "language_info": {
   "codemirror_mode": {
    "name": "ipython",
    "version": 3
   },
   "file_extension": ".py",
   "mimetype": "text/x-python",
   "name": "python",
   "nbconvert_exporter": "python",
   "pygments_lexer": "ipython3",
   "version": "3.7.4"
  },
  "toc": {
   "base_numbering": 1,
   "nav_menu": {},
   "number_sections": true,
   "sideBar": true,
   "skip_h1_title": false,
   "title_cell": "Table of Contents",
   "title_sidebar": "Contents",
   "toc_cell": true,
   "toc_position": {
    "height": "calc(100% - 180px)",
    "left": "10px",
    "top": "150px",
    "width": "323.267px"
   },
   "toc_section_display": true,
   "toc_window_display": true
  }
 },
 "nbformat": 4,
 "nbformat_minor": 2
}
