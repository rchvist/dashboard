{
 "cells": [
  {
   "cell_type": "markdown",
   "metadata": {
    "toc": true
   },
   "source": [
    "<h1>Table of Contents<span class=\"tocSkip\"></span></h1>\n",
    "<div class=\"toc\"><ul class=\"toc-item\"><li><span><a href=\"#Load,-Clean-and-Explore\" data-toc-modified-id=\"Load,-Clean-and-Explore-1\"><span class=\"toc-item-num\">1&nbsp;&nbsp;</span>Load, Clean and Explore</a></span></li><li><span><a href=\"#Venn-diagrams\" data-toc-modified-id=\"Venn-diagrams-2\"><span class=\"toc-item-num\">2&nbsp;&nbsp;</span>Venn diagrams</a></span><ul class=\"toc-item\"><li><span><a href=\"#Load-libraries-and-define-functions\" data-toc-modified-id=\"Load-libraries-and-define-functions-2.1\"><span class=\"toc-item-num\">2.1&nbsp;&nbsp;</span>Load libraries and define functions</a></span></li><li><span><a href=\"#Load-data-(the-youtube.py---video-csv-output-specified-as-path)\" data-toc-modified-id=\"Load-data-(the-youtube.py---video-csv-output-specified-as-path)-2.2\"><span class=\"toc-item-num\">2.2&nbsp;&nbsp;</span>Load data (the youtube.py --video csv output specified as path)</a></span></li><li><span><a href=\"#Clean-the-data\" data-toc-modified-id=\"Clean-the-data-2.3\"><span class=\"toc-item-num\">2.3&nbsp;&nbsp;</span>Clean the data</a></span></li><li><span><a href=\"#Visualize\" data-toc-modified-id=\"Visualize-2.4\"><span class=\"toc-item-num\">2.4&nbsp;&nbsp;</span>Visualize</a></span></li></ul></li></ul></div>"
   ]
  },
  {
   "cell_type": "markdown",
   "metadata": {},
   "source": [
    "# Load, Clean and Explore"
   ]
  },
  {
   "cell_type": "markdown",
   "metadata": {},
   "source": [
    "In order to use this, you need first to use youtube.py in the folder src to download data based on a specific videoId.\n",
    "\n",
    "Then we:\n",
    "1. import all the needed libraries,\n",
    "2. specify the path to the csv file (the output of dashboard/src/youtube.py),\n",
    "3. check that the title of the video corresponds to the one we want to analyze\n",
    "\n",
    "First of all, specify a path to a valid .csv file in the box below."
   ]
  },
  {
   "cell_type": "code",
   "execution_count": null,
   "metadata": {},
   "outputs": [],
   "source": [
    "path = '../sample_data/video.csv'"
   ]
  },
  {
   "cell_type": "code",
   "execution_count": null,
   "metadata": {},
   "outputs": [],
   "source": [
    "import math\n",
    "import itertools\n",
    "from matplotlib import pyplot as plt\n",
    "from matplotlib_venn import venn2, venn3\n",
    "import numpy as np\n",
    "import squarify\n",
    "import pandas as pd\n",
    "%matplotlib inline"
   ]
  },
  {
   "cell_type": "code",
   "execution_count": null,
   "metadata": {},
   "outputs": [],
   "source": [
    "\n",
    "\n",
    "df = pd.read_csv(path)\n",
    "\n",
    "title = df['sourceTitle'][0]\n",
    "df = df[['watcher', 'id', 'related_source',\n",
    "         'related_videoId', 'related_title', 'related_index']]\n",
    "\n",
    "print(title)"
   ]
  },
  {
   "cell_type": "markdown",
   "metadata": {},
   "source": [
    "Now we need to know how many users have seen that video, and choose two of them in order to compare the videos suggested to each of them."
   ]
  },
  {
   "cell_type": "code",
   "execution_count": null,
   "metadata": {},
   "outputs": [],
   "source": [
    "df.watcher.unique()"
   ]
  },
  {
   "cell_type": "markdown",
   "metadata": {},
   "source": [
    "We can now pick the two users, then we create two separate datasets."
   ]
  },
  {
   "cell_type": "code",
   "execution_count": null,
   "metadata": {},
   "outputs": [],
   "source": [
    "user1 = 'garbanzo-muffin-orzo'\n",
    "user2 = 'milk-quince-alfalfa'\n",
    "\n",
    "df1 = df[df['watcher'] == user1]\n",
    "df2 = df[df['watcher'] == user2]\n"
   ]
  },
  {
   "cell_type": "markdown",
   "metadata": {},
   "source": [
    "For each of the two users, we need to choose only one id (one specific session of recommended videos).\n",
    "Then we reduce the datasets to that session only, so we can make a comparison.\n",
    "\n",
    "First, choose among the unique values for df1, then for df2. Those will be id1 and id2."
   ]
  },
  {
   "cell_type": "code",
   "execution_count": null,
   "metadata": {},
   "outputs": [],
   "source": [
    "df1.id.unique()"
   ]
  },
  {
   "cell_type": "code",
   "execution_count": null,
   "metadata": {},
   "outputs": [],
   "source": [
    "df2.id.unique()"
   ]
  },
  {
   "cell_type": "code",
   "execution_count": null,
   "metadata": {},
   "outputs": [],
   "source": [
    "id1 = '46e2fff75bbc798cce53388de80e9ac7e9f8a6ef'\n",
    "id2 = '120bce0960e72e333ebc5f95e48611c6b8d64b20'\n",
    "\n",
    "\n",
    "df1 = df[df['id'] == id1]\n",
    "df2 = df[df['id'] == id2]\n",
    "df1.index = df1.related_index\n",
    "df2.index = df2.related_index\n",
    "\n",
    "df1 = df1[['related_source', 'related_title', 'related_videoId', 'related_index']]\n",
    "df2 = df2[['related_source', 'related_title', 'related_videoId', 'related_index']]"
   ]
  },
  {
   "cell_type": "markdown",
   "metadata": {},
   "source": [
    "Now we can see which posts appeared to each user after watching the same video."
   ]
  },
  {
   "cell_type": "code",
   "execution_count": null,
   "metadata": {},
   "outputs": [],
   "source": [
    "merge1 = df1[['related_title']].rename(columns={\"related_title\": user1})\n",
    "merge2 = df2[['related_title']].rename(columns={\"related_title\": user2})\n",
    "compare = pd.concat([merge1,merge2], axis=1)\n",
    "compare"
   ]
  },
  {
   "cell_type": "markdown",
   "metadata": {},
   "source": [
    "Or see the most common suggested video sources (Youtube channels) for each user."
   ]
  },
  {
   "cell_type": "code",
   "execution_count": null,
   "metadata": {},
   "outputs": [],
   "source": [
    "channels1 = df1.related_source.value_counts().rename_axis('name').to_frame('Count')\n",
    "channels2 = df2.related_source.value_counts().rename_axis('name').to_frame('Count')\n",
    "\n",
    "fig, (ax, ax2) = plt.subplots(ncols=2, figsize=(18, 8))\n",
    "\n",
    "\n",
    "channels1.plot(kind='barh', ax=ax, title=user1)\n",
    "channels2.plot(kind='barh', ax=ax2, title=user2)\n",
    "ax2 = ax2.yaxis.set_label_position(\"right\")\n",
    "\n",
    "plt.tight_layout()"
   ]
  },
  {
   "cell_type": "code",
   "execution_count": null,
   "metadata": {},
   "outputs": [],
   "source": [
    "fig = plt.figure(figsize=(15,10))\n",
    "plt.title('Suggested channels after watching: '+title+'\\n User: '+user1)\n",
    "squarify.plot(sizes=channels1.Count, label=channels1.index, alpha=.8)\n",
    "plt.axis('off')\n",
    "plt.show()"
   ]
  },
  {
   "cell_type": "code",
   "execution_count": null,
   "metadata": {},
   "outputs": [],
   "source": [
    "fig = plt.figure(figsize=(15,10))\n",
    "plt.title('Suggested channels after watching: '+title+'\\n User: '+user2)\n",
    "squarify.plot(sizes=channels2.Count, label=channels2.index, alpha=.8)\n",
    "plt.axis('off')\n",
    "plt.show()"
   ]
  },
  {
   "cell_type": "markdown",
   "metadata": {},
   "source": [
    "# Venn diagrams\n",
    "\n",
    "## Load libraries and define functions"
   ]
  },
  {
   "cell_type": "markdown",
   "metadata": {},
   "source": [
    "Initialize some functions to generate venn diagrams"
   ]
  },
  {
   "cell_type": "code",
   "execution_count": null,
   "metadata": {},
   "outputs": [],
   "source": [
    "# Generate list index for itertools combinations\n",
    "def gen_index(n):\n",
    "    x = -1\n",
    "    while True:       \n",
    "        while True:\n",
    "            x = x + 1\n",
    "            if bin(x).count('1') == n:\n",
    "                break\n",
    "        yield x\n",
    "\n",
    "# Generate all combinations of intersections\n",
    "def make_intersections(sets):\n",
    "    l = [None] * 2**len(sets)\n",
    "    for i in range(1, len(sets) + 1):\n",
    "        ind = gen_index(i)\n",
    "        for subset in itertools.combinations(sets, i):\n",
    "            inter = set.intersection(*subset)\n",
    "            l[next(ind)] = inter\n",
    "    return l\n",
    "\n",
    "# Get weird reversed binary string id for venn\n",
    "def number2venn_id(x, n_fill):\n",
    "    id = bin(x)[2:].zfill(n_fill)\n",
    "    id = id[::-1]\n",
    "    return id\n",
    "\n",
    "# Iterate over all combinations and remove duplicates from intersections with\n",
    "# more sets\n",
    "def sets2dict(sets):\n",
    "    l = make_intersections(sets)\n",
    "    d = {}\n",
    "    for i in range(1, len(l)):\n",
    "        d[number2venn_id(i, len(sets))] = l[i]\n",
    "        for j in range(1, len(l)):\n",
    "            if bin(j).count('1') < bin(i).count('1'):\n",
    "                l[j] = l[j] - l[i]\n",
    "                d[number2venn_id(j, len(sets))] = l[j] - l[i]\n",
    "    return d"
   ]
  },
  {
   "cell_type": "code",
   "execution_count": null,
   "metadata": {},
   "outputs": [],
   "source": [
    "fig = plt.figure(figsize=(20,10))\n",
    "plt.title('Video suggestions after: '+title)\n",
    "v = venn2([set(df1.related_videoId), set(df2.related_videoId)], (user1, user2))"
   ]
  },
  {
   "cell_type": "code",
   "execution_count": null,
   "metadata": {},
   "outputs": [],
   "source": [
    "df1[\"uniqueId\"] = df1[\"related_index\"].map(str) + df1[\"related_videoId\"]\n",
    "df2[\"uniqueId\"] = df2[\"related_index\"].map(str) + df2[\"related_videoId\"]\n",
    "\n",
    "fig = plt.figure(figsize=(20,10))\n",
    "plt.title('Video suggestions after: '+title+'\\n With both videoId and position in the suggested list in common.')\n",
    "v2 = venn2([set(df1.uniqueId), set(df2.uniqueId)], (user1, user2))"
   ]
  },
  {
   "cell_type": "markdown",
   "metadata": {},
   "source": [
    "## Load data (the youtube.py --video csv output specified as path)"
   ]
  },
  {
   "cell_type": "code",
   "execution_count": null,
   "metadata": {},
   "outputs": [],
   "source": [
    "path = '../sample_data/video.csv'\n",
    "\n",
    "df = pd.read_csv(path)\n",
    "\n",
    "title = df['sourceTitle'][0]\n",
    "df = df[['watcher','id','related_source','related_videoId','related_title','related_index']]\n",
    "\n",
    "print(title)"
   ]
  },
  {
   "cell_type": "markdown",
   "metadata": {},
   "source": [
    "## Clean the data\n",
    "\n",
    "First, specify three users  among the unique ones you have in your dataset\n"
   ]
  },
  {
   "cell_type": "code",
   "execution_count": null,
   "metadata": {},
   "outputs": [],
   "source": [
    "df.watcher.unique()"
   ]
  },
  {
   "cell_type": "code",
   "execution_count": null,
   "metadata": {},
   "outputs": [],
   "source": [
    "user1, user2, user3, user4 = df.watcher.unique()\n",
    "\n",
    "df1 = df[df.watcher == user1]\n",
    "df2 = df[df.watcher == user2]\n",
    "df3 = df[df.watcher == user3]"
   ]
  },
  {
   "cell_type": "markdown",
   "metadata": {},
   "source": [
    "Then, you need to pick just one session (id) per user."
   ]
  },
  {
   "cell_type": "code",
   "execution_count": null,
   "metadata": {},
   "outputs": [],
   "source": [
    "df1.id.unique()"
   ]
  },
  {
   "cell_type": "code",
   "execution_count": null,
   "metadata": {},
   "outputs": [],
   "source": [
    "df2.id.unique()"
   ]
  },
  {
   "cell_type": "code",
   "execution_count": null,
   "metadata": {},
   "outputs": [],
   "source": [
    "df3.id.unique()"
   ]
  },
  {
   "cell_type": "code",
   "execution_count": null,
   "metadata": {},
   "outputs": [],
   "source": [
    "df1 = df1[df1.id == '46e2fff75bbc798cce53388de80e9ac7e9f8a6ef']\n",
    "df2 = df2[df2.id == 'b2a48bdfddc7a9a0cd0f706da9c850dc790d7c41']\n",
    "df3 = df3[df3.id == '120bce0960e72e333ebc5f95e48611c6b8d64b20']"
   ]
  },
  {
   "cell_type": "markdown",
   "metadata": {},
   "source": [
    "Then we create the three clean sets with one id each"
   ]
  },
  {
   "cell_type": "code",
   "execution_count": null,
   "metadata": {},
   "outputs": [],
   "source": [
    "A = set(df1.related_source)\n",
    "B = set(df2.related_source)\n",
    "C = set(df3.related_source)\n",
    "\n",
    "sets_source = [A, B, C]"
   ]
  },
  {
   "cell_type": "markdown",
   "metadata": {},
   "source": [
    "## Visualize\n",
    "\n",
    "by Source name"
   ]
  },
  {
   "cell_type": "code",
   "execution_count": null,
   "metadata": {},
   "outputs": [],
   "source": [
    "d = sets2dict(sets_source)\n",
    "\n",
    "# Plot it\n",
    "plt.figure(figsize=(40,20))\n",
    "h = venn3(sets_source, (user1, user2, user3))\n",
    "for k, v in d.items():\n",
    "   l = h.get_label_by_id(k)\n",
    "   if l:\n",
    "       l.set_fontsize(12)\n",
    "       l.set_text('\\n'.join(sorted(v)))\n"
   ]
  },
  {
   "cell_type": "code",
   "execution_count": null,
   "metadata": {},
   "outputs": [],
   "source": []
  }
 ],
 "metadata": {
  "kernelspec": {
   "display_name": "Python 3",
   "language": "python",
   "name": "python3"
  },
  "language_info": {
   "codemirror_mode": {
    "name": "ipython",
    "version": 3
   },
   "file_extension": ".py",
   "mimetype": "text/x-python",
   "name": "python",
   "nbconvert_exporter": "python",
   "pygments_lexer": "ipython3",
   "version": "3.7.4"
  },
  "toc": {
   "base_numbering": 1,
   "nav_menu": {},
   "number_sections": true,
   "sideBar": true,
   "skip_h1_title": false,
   "title_cell": "Table of Contents",
   "title_sidebar": "Contents",
   "toc_cell": true,
   "toc_position": {},
   "toc_section_display": true,
   "toc_window_display": true
  }
 },
 "nbformat": 4,
 "nbformat_minor": 2
}
