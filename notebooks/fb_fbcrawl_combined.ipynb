{
 "cells": [
  {
   "cell_type": "markdown",
   "metadata": {
    "toc": true
   },
   "source": [
    "<h1>Table of Contents<span class=\"tocSkip\"></span></h1>\n",
    "<div class=\"toc\"><ul class=\"toc-item\"><li><span><a href=\"#Load-Data-and-Libraries\" data-toc-modified-id=\"Load-Data-and-Libraries-1\"><span class=\"toc-item-num\">1&nbsp;&nbsp;</span>Load Data and Libraries</a></span></li><li><span><a href=\"#Visualize\" data-toc-modified-id=\"Visualize-2\"><span class=\"toc-item-num\">2&nbsp;&nbsp;</span>Visualize</a></span><ul class=\"toc-item\"><li><span><a href=\"#Views-and-Comments-in-time\" data-toc-modified-id=\"Views-and-Comments-in-time-2.1\"><span class=\"toc-item-num\">2.1&nbsp;&nbsp;</span>Views and Comments in time</a></span><ul class=\"toc-item\"><li><ul class=\"toc-item\"><li><span><a href=\"#Let's-do-some-data-exploration-to-try-to-understand-what-makes-a-post-appear.\" data-toc-modified-id=\"Let's-do-some-data-exploration-to-try-to-understand-what-makes-a-post-appear.-2.1.0.1\"><span class=\"toc-item-num\">2.1.0.1&nbsp;&nbsp;</span>Let's do some data exploration to try to understand what makes a post appear.</a></span></li></ul></li></ul></li></ul></li></ul></div>"
   ]
  },
  {
   "cell_type": "markdown",
   "metadata": {},
   "source": [
    "# Load Data and Libraries"
   ]
  },
  {
   "cell_type": "code",
   "execution_count": null,
   "metadata": {},
   "outputs": [],
   "source": [
    "path = '../sample_data/combined.csv'\n",
    "\n",
    "import altair as alt\n",
    "import pandas as pd\n",
    "\n",
    "# for the notebook only (not for JupyterLab) run this command once per session\n",
    "alt.renderers.enable('notebook')\n",
    "\n",
    "df = pd.read_csv(path)\n",
    "mask = df['reactions'].str.match(\"^\\d+(\\.\\d+)*$\")\n",
    "df = df[mask]\n",
    "df['reactions'] = pd.to_numeric(df['reactions'])"
   ]
  },
  {
   "cell_type": "markdown",
   "metadata": {},
   "source": [
    "# Visualize"
   ]
  },
  {
   "cell_type": "markdown",
   "metadata": {},
   "source": [
    "## Views and Comments in time"
   ]
  },
  {
   "cell_type": "markdown",
   "metadata": {},
   "source": [
    "We can explore the available posts and whether and how posts have been seen."
   ]
  },
  {
   "cell_type": "code",
   "execution_count": null,
   "metadata": {},
   "outputs": [],
   "source": [
    "alt.Chart(df, width=800, height=600).transform_calculate(\n",
    "    url='https://www.facebook.com' + alt.datum.url\n",
    ").mark_circle(color='red', filled=True).encode(\n",
    "    x='date:T',\n",
    "    y='comments:Q',\n",
    "    color='source:N',\n",
    "    size=alt.Size('total_views:O'),\n",
    "    href='url:N',\n",
    "    tooltip=['source:N', 'seen_by:O', 'total_views:O', 'reactions:Q',\n",
    "             'likes:Q', 'ahah', 'love', 'wow', 'grrr:Q', 'sigh:Q', 'comments:Q']\n",
    ").interactive()"
   ]
  },
  {
   "cell_type": "markdown",
   "metadata": {},
   "source": [
    "Let's see how many posts have been seen and how many have not, and how many posts are seen how many times."
   ]
  },
  {
   "cell_type": "code",
   "execution_count": null,
   "metadata": {},
   "outputs": [],
   "source": [
    "chart1 = alt.Chart(df, width=200, height=300).mark_bar().encode(\n",
    "    x='visible:N',\n",
    "    y='count(visible):Q',\n",
    "    color='visible:N'\n",
    ")\n",
    "\n",
    "chart2 = alt.Chart(df).mark_bar().encode(\n",
    "    y='count(postId):Q',\n",
    "    x='total_views:O',\n",
    "    color='visible:N'\n",
    ")\n",
    "\n",
    "chart1 | chart2"
   ]
  },
  {
   "cell_type": "code",
   "execution_count": null,
   "metadata": {},
   "outputs": [],
   "source": [
    "alt.Chart(df, width=200, height=300).mark_bar().encode(\n",
    "    x='visible:N',\n",
    "    y='count(source):Q',\n",
    "    color='visible:N',\n",
    "    column='source:N'\n",
    ")"
   ]
  },
  {
   "cell_type": "code",
   "execution_count": null,
   "metadata": {},
   "outputs": [],
   "source": [
    "datevalues = pd.to_datetime(df.date)\n",
    "data = df[['visible', 'source', 'postId']].groupby(\n",
    "    ['visible', 'source', datevalues.dt.floor('d')]).count().reset_index()\n",
    "\n",
    "alt.Chart(data).mark_area().encode(\n",
    "    x=\"date:T\",\n",
    "    y=alt.Y(\"sum(postId):Q\"),\n",
    "    color=\"visible:N\",\n",
    "    column='source'\n",
    ").properties(title='Comparison between seen and unseen unique posts by source.')"
   ]
  },
  {
   "cell_type": "code",
   "execution_count": null,
   "metadata": {},
   "outputs": [],
   "source": [
    "data = df[['visible', 'source', 'postId', 'total_views']].groupby(\n",
    "    ['visible', 'source', datevalues.dt.floor('d')]).sum().reset_index()\n",
    "\n",
    "alt.Chart(data).mark_area().encode(\n",
    "    x=\"date:T\",\n",
    "    y=alt.Y(\"sum(total_views):Q\",\n",
    "            stack=\"normalize\"\n",
    "            ),\n",
    "    color=\"source:N\"\n",
    ").properties(width=600,\n",
    "             height=400,\n",
    "             title='Comparison between (normalized) amount of posts appearead by source - non unique.')"
   ]
  },
  {
   "cell_type": "markdown",
   "metadata": {},
   "source": [
    "#### Let's do some data exploration to try to understand what makes a post appear.\n",
    "\n",
    "First, we can see the difference of reactions between posts that appeared and posts that did not. Altough this is not enough to understand how other peoples reactions influence wether a post will appear on not on a timeline, it might give some insights."
   ]
  },
  {
   "cell_type": "code",
   "execution_count": null,
   "metadata": {},
   "outputs": [],
   "source": [
    "data = df[['visible', 'likes', 'ahah', 'love', 'wow',\n",
    "           'sigh', 'grrr', 'comments']].groupby('visible').mean()"
   ]
  },
  {
   "cell_type": "markdown",
   "metadata": {},
   "source": [
    "We can also get similar stats by aggregating by number of users that have seen the post. Again, we can see there might be some correlation between how many reactions a post has and the number of users that see that content."
   ]
  },
  {
   "cell_type": "code",
   "execution_count": null,
   "metadata": {},
   "outputs": [],
   "source": [
    "correlations = df\n",
    "sources_dict = {'ABC.es': 1, 'eldiario.es': 2}\n",
    "correlations['source_int'] = correlations['source'].apply(\n",
    "    lambda x: sources_dict[x])\n",
    "\n",
    "\n",
    "def color_negative_red(value):\n",
    "    \"\"\"\n",
    "    Colors elements in a dateframe\n",
    "    green if positive and red if\n",
    "    negative. Does not color NaN\n",
    "    values.\n",
    "    \"\"\"\n",
    "\n",
    "    if value < -0.5:\n",
    "        color = 'red'\n",
    "    elif value > 0.5:\n",
    "        color = 'green'\n",
    "    else:\n",
    "        color = 'black'\n",
    "\n",
    "    return 'color: %s' % color\n",
    "\n",
    "\n",
    "correlations = correlations.corr().drop(['postId'])\n",
    "correlations = correlations.drop(correlations.index[0])\n",
    "correlations.style.applymap(color_negative_red)"
   ]
  },
  {
   "cell_type": "code",
   "execution_count": null,
   "metadata": {},
   "outputs": [],
   "source": [
    "data = df[['visible', 'source', 'comments', 'likes', 'ahah', 'love',\n",
    "           'wow', 'sigh', 'grrr']].groupby(['visible', 'source']).mean()\n",
    "\n",
    "data = data.stack().reset_index(-1).iloc[:, ::-1]\n",
    "data.columns = ['mean', 'type']\n",
    "data = data.reset_index()\n",
    "alt.Chart(data).mark_line().encode(\n",
    "    x='visible:O',\n",
    "    y=alt.Y('mean(mean):Q', axis=alt.Axis(title='Average reactions per post')),\n",
    "    color='type:N'\n",
    ").properties(\n",
    "    height=600,\n",
    "    width=300,\n",
    "    title='Change by reaction between seen and unseen posts').interactive()"
   ]
  },
  {
   "cell_type": "code",
   "execution_count": null,
   "metadata": {},
   "outputs": [],
   "source": [
    "datevalues = pd.to_datetime(df.date)\n",
    "data = df[['visible', 'comments', 'likes', 'ahah', 'love',\n",
    "           'wow', 'sigh', 'grrr']].groupby(['visible']).mean()\n",
    "\n",
    "data = data.stack().reset_index(-1).iloc[:, ::-1]\n",
    "data.columns = ['mean', 'type']\n",
    "data = data.reset_index()\n",
    "\n",
    "alt.Chart(data).mark_bar().encode(\n",
    "    x='visible:N',\n",
    "    y='mean:Q',\n",
    "    color='visible:N',\n",
    "    column='type:N'\n",
    ").interactive()"
   ]
  },
  {
   "cell_type": "code",
   "execution_count": null,
   "metadata": {},
   "outputs": [],
   "source": [
    "data = df[['visible', 'source', 'comments', 'likes', 'ahah', 'love',\n",
    "           'wow', 'sigh', 'grrr']].groupby(['visible', 'source']).mean()\n",
    "\n",
    "data = data.stack().reset_index(-1).iloc[:, ::-1]\n",
    "data.columns = ['mean', 'type']\n",
    "data = data.reset_index()\n",
    "\n",
    "alt.Chart(data).mark_bar().encode(\n",
    "    y='type:N',\n",
    "    x=\"mean:Q\",\n",
    "    color='type:N',\n",
    "    column='visible'\n",
    ").properties(\n",
    "    width=400,\n",
    "    height=300,\n",
    "    title='Comparison between seen and unseen posts average composition of the reactions'\n",
    ")"
   ]
  },
  {
   "cell_type": "markdown",
   "metadata": {},
   "source": [
    "Moreover, we can check how does the number of times a post has been seen and the average number of reactions.\n",
    "This allows to see which posts are more likely to be seen given a specific type of reaction."
   ]
  },
  {
   "cell_type": "code",
   "execution_count": null,
   "metadata": {},
   "outputs": [],
   "source": [
    "data = df[['visible', 'comments', 'likes', 'ahah', 'love',\n",
    "           'wow', 'sigh', 'grrr']].groupby(['visible']).mean()\n",
    "data = data.stack().reset_index(-1).iloc[:, ::-1]\n",
    "data = data.reset_index()\n",
    "data.columns = ['visible', 'mean', 'type']\n",
    "alt.Chart(data).mark_bar().encode(\n",
    "    x='type:N',\n",
    "    y='mean:Q',\n",
    "    color='type:N',\n",
    "    column='visible:N'\n",
    ").properties(\n",
    "    width=300,\n",
    "    height=200\n",
    ").interactive()"
   ]
  },
  {
   "cell_type": "code",
   "execution_count": null,
   "metadata": {
    "scrolled": false
   },
   "outputs": [],
   "source": [
    "data = df[['total_views', 'reactions', 'comments']\n",
    "          ].groupby('total_views').mean().reset_index()\n",
    "alt.Chart(data).mark_bar().encode(\n",
    "    y='comments:Q',\n",
    "    x='total_views:O'\n",
    ")"
   ]
  },
  {
   "cell_type": "code",
   "execution_count": null,
   "metadata": {},
   "outputs": [],
   "source": []
  }
 ],
 "metadata": {
  "kernelspec": {
   "display_name": "Python 3",
   "language": "python",
   "name": "python3"
  },
  "language_info": {
   "codemirror_mode": {
    "name": "ipython",
    "version": 3
   },
   "file_extension": ".py",
   "mimetype": "text/x-python",
   "name": "python",
   "nbconvert_exporter": "python",
   "pygments_lexer": "ipython3",
   "version": "3.7.4"
  },
  "toc": {
   "base_numbering": 1,
   "nav_menu": {},
   "number_sections": true,
   "sideBar": true,
   "skip_h1_title": false,
   "title_cell": "Table of Contents",
   "title_sidebar": "Contents",
   "toc_cell": true,
   "toc_position": {},
   "toc_section_display": true,
   "toc_window_display": true
  }
 },
 "nbformat": 4,
 "nbformat_minor": 2
}
