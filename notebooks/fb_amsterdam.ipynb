{
 "cells": [
  {
   "cell_type": "code",
   "execution_count": 1,
   "metadata": {},
   "outputs": [],
   "source": [
    "# Set of analyses for Facebook test conducted at the University of Amsterdam\n"
   ]
  },
  {
   "cell_type": "code",
   "execution_count": 1,
   "metadata": {},
   "outputs": [],
   "source": [
    "#import ipywidgets as widgets\n",
    "#from ipywidgets import interact, interact_manual\n",
    "import pandas as pd\n",
    "import os\n",
    "import matplotlib.pyplot as plt\n",
    "import numpy as np\n",
    "import matplotlib.cm as cm\n",
    "import missingno as msno"
   ]
  },
  {
   "cell_type": "code",
   "execution_count": 2,
   "metadata": {},
   "outputs": [
    {
     "name": "stdout",
     "output_type": "stream",
     "text": [
      "Impressions collected for mango-macaroons-macaroni: 17202\n",
      "Impressions collected for asparagus-croissant-kiwi: 15184\n",
      "Impressions collected for hummus-orzo-romaine: 16634\n",
      "Impressions collected for eggs-macaroon-pretzel: 16754\n",
      "Impressions collected for waffle-hamburger-souffle: 14659\n",
      "Impressions collected for yams-pomelo-guava: 18530\n",
      "Impressions collected for fennel-tea-lime: 14512\n",
      "Impressions collected for kale-sushi-eggs: 15179\n",
      "Impressions collected for quince-peanut-molasses: 10760\n",
      "Impressions collected for pickles-coleslaw-rhubarb: 14338\n",
      "Impressions collected for gelato-pizza-zucchini: 16289\n",
      "Impressions collected for yolk-carnitas-date: 17596\n",
      "Impressions collected for parsnip-lentils-fudge: 14244\n",
      "Impressions collected for coconut-fudge-mandarin: 15772\n",
      "Impressions collected for coleslaw-ceviche-broccoli: 15526\n",
      "Impressions collected for vinegar-arrugula-biscuit: 14608\n",
      "Impressions collected for vanilla-bokchoy-corn: 13339\n",
      "Impressions collected for pimiento-cranberry-samosa: 13093\n",
      "Impressions collected for croissant-watercress-pudding: 13756\n",
      "Impressions collected for pistachio-salsa-tangelo: 14920\n",
      "Total dataframes generated: 20\n",
      "Total impressions collected: 302895\n",
      "Impressions collected mean: 15144.75\n"
     ]
    }
   ],
   "source": [
    "df_list = []\n",
    "names_list = []\n",
    "# folder is the relative or absolute path to the folder that contains only csv files\n",
    "folder = '../outputs/fb/summary'\n",
    "\n",
    "# get a list of absolute file paths for csv files\n",
    "\n",
    "\n",
    "def absoluteFilePaths(directory):\n",
    "    for dirpath, _, filenames in os.walk(directory):\n",
    "        for f in filenames:\n",
    "            if str(f)[0] == '.':\n",
    "                pass\n",
    "            else:\n",
    "                yield os.path.abspath(os.path.join(dirpath, f))\n",
    "\n",
    "\n",
    "def importFiles(folder):\n",
    "    files = absoluteFilePaths(folder)\n",
    "    # cycle through the files in the folder selected, import the csv and add the dataframe to the list of dataframes,\n",
    "    # the pseudo-username to the list, and print out impressions generated for the user, then the total number of files\n",
    "    for f in files:\n",
    "        df = pd.read_csv(f)\n",
    "        name = df['user'][0]\n",
    "        names_list.append(name)\n",
    "        df_list.append(df)\n",
    "        print('Impressions collected for '+name+': '+str(len(df.index)))\n",
    "    print('Total dataframes generated: '+str(len(df_list)))\n",
    "\n",
    "    # concatenate all the dataframes in the list to get a master dataframe indexed by impressionTime and username\n",
    "    df = pd.concat(df_list)\n",
    "    print('Total impressions collected: '+str(len(df)))\n",
    "    mean = len(df)/len(df_list)\n",
    "    print('Impressions collected mean: '+str(mean))\n",
    "    df['impressionTime'] = pd.to_datetime(df['impressionTime'])\n",
    "    df = df.set_index('impressionTime', 'user')\n",
    "    return df_list, names_list, df\n",
    "\n",
    "\n",
    "df_list, names_list, df = importFiles(folder)"
   ]
  },
  {
   "cell_type": "code",
   "execution_count": 3,
   "metadata": {},
   "outputs": [
    {
     "ename": "SyntaxError",
     "evalue": "invalid syntax (<ipython-input-3-11d886465726>, line 23)",
     "output_type": "error",
     "traceback": [
      "\u001b[0;36m  File \u001b[0;32m\"<ipython-input-3-11d886465726>\"\u001b[0;36m, line \u001b[0;32m23\u001b[0m\n\u001b[0;31m    user_data.(user,date_time,page,reaction_type,post_type)\u001b[0m\n\u001b[0m              ^\u001b[0m\n\u001b[0;31mSyntaxError\u001b[0m\u001b[0;31m:\u001b[0m invalid syntax\n"
     ]
    }
   ],
   "source": [
    "import json\n",
    "import pandas as pd\n",
    "import os\n",
    "from datetime import datetime\n",
    " \n",
    "def title2page(title):\n",
    "    if ' reacted to ' in title: page = title.split(' reacted to ')[1].split(\"'s\")[0]\n",
    "    else: page = title.split(' likes ')[1].split(\"'s\")[0]\n",
    "    return page\n",
    " \n",
    "def parseFields(user):\n",
    "    user_data = pd.DataFrame()\n",
    "    with open('facebook-'+user+'/likes_and_reactions/posts_and_comments.json') as likes_f:\n",
    "        likes_json = json.load(likes_f)\n",
    "        \n",
    "        for like in likes_json['reactions']:\n",
    "            try:\n",
    "                user = user\n",
    "                date_time = datetime.fromtimestamp(like['timestamp'])\n",
    "                page = title2page(like['title'])\n",
    "                reaction_type = like['data'][0]['reaction']['reaction']\n",
    "                post_type = like['title'].split(':')[0].split(page+\"'s \")[1].strip('.')\n",
    "            except: pass\n",
    "        print(user,date_time,page,reaction_type,post_type)\n",
    "    return user_data\n",
    "       \n",
    "def MyFBInfo2data:\n",
    "    for dir in os.listdir():\n",
    "        user = dir[9:]\n",
    "        if 'facebook-' in dir:\n",
    "            allusers_data.append(parseFields(user))\n",
    "    return pd.concat(allusers_data)"
   ]
  },
  {
   "cell_type": "code",
   "execution_count": null,
   "metadata": {},
   "outputs": [],
   "source": []
  }
 ],
 "metadata": {
  "kernelspec": {
   "display_name": "Python 3",
   "language": "python",
   "name": "python3"
  },
  "language_info": {
   "codemirror_mode": {
    "name": "ipython",
    "version": 3
   },
   "file_extension": ".py",
   "mimetype": "text/x-python",
   "name": "python",
   "nbconvert_exporter": "python",
   "pygments_lexer": "ipython3",
   "version": "3.6.9"
  }
 },
 "nbformat": 4,
 "nbformat_minor": 4
}
