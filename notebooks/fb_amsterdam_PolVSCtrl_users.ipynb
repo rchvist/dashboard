{
 "cells": [
  {
   "cell_type": "code",
   "execution_count": 1,
   "metadata": {},
   "outputs": [],
   "source": [
    "import pandas as pd\n",
    "from collections import defaultdict\n",
    "import os\n",
    "from datetime import datetime\n",
    "from scipy.stats import ttest_ind\n",
    "from numpy import mean"
   ]
  },
  {
   "cell_type": "code",
   "execution_count": 2,
   "metadata": {},
   "outputs": [],
   "source": [
    "#set constants\n",
    "\n",
    "sources = [\"Il Giornale\"]\n",
    "\n",
    "start_collection = '2019-11-10'\n",
    "start_polarization = '2019-11-20'\n",
    "\n",
    "\n",
    "timerange = ('2019-11-20',\n",
    "             '2019-12-03')\n",
    "\n",
    "\n",
    "folder = '../outputs/fb/summary'\n",
    "file_users =  '../config/users.csv'\n"
   ]
  },
  {
   "cell_type": "code",
   "execution_count": 3,
   "metadata": {},
   "outputs": [],
   "source": [
    "#load all impressions, filtering useful fields and replacing hased names with fb names\n",
    "\n",
    "\n",
    "def absoluteFilePaths(directory):\n",
    "    for dirpath, _, filenames in os.walk(directory):\n",
    "        for f in filenames:\n",
    "            if str(f)[0] == '.':\n",
    "                pass\n",
    "            else:\n",
    "                yield os.path.abspath(os.path.join(dirpath, f))\n",
    "\n",
    "def getImpressions(folder):\n",
    "    impressions = pd.DataFrame()\n",
    "    files = absoluteFilePaths(folder)\n",
    "    tokens2names = pd.read_csv(file_users)\n",
    "    for impressions_file in files:\n",
    "        user_impressions = pd.read_csv(impressions_file)[['impressionTime', 'user', 'source']] #you can add fields of interest here\n",
    "        name = tokens2names[tokens2names['token'] == impressions_file.split('/')[-1].split('.')[0]]['name'].values[0]\n",
    "        user_impressions['user'] = name\n",
    "        impressions = pd.concat([impressions, user_impressions])      \n",
    "    return impressions\n",
    "\n",
    "impressions = getImpressions(folder)\n",
    "\n"
   ]
  },
  {
   "cell_type": "code",
   "execution_count": 4,
   "metadata": {},
   "outputs": [],
   "source": [
    "#filter out for desired time range for experiment\n",
    "\n",
    "\n",
    "impressions_exp = impressions[(impressions['impressionTime'] >= timerange[0]) \n",
    "                        & (impressions['impressionTime'] <= timerange[1])]\n",
    "\n",
    "\n"
   ]
  },
  {
   "cell_type": "code",
   "execution_count": 5,
   "metadata": {},
   "outputs": [],
   "source": [
    "#count specific sources per user\n",
    "\n",
    "\n",
    "def count_sources(impressions, sources):\n",
    "    sources_users = {\"source\": [],\n",
    "                     \"user\": [],\n",
    "                     \"count\": []}\n",
    "    for source in sources:\n",
    "        for user, user_impressions in impressions.groupby('user'):\n",
    "            sources_users[\"source\"].append(source)\n",
    "            sources_users[\"user\"].append(user)\n",
    "            sources_users[\"count\"].append(user_impressions[user_impressions[\"source\"] == source][\"source\"].count())       \n",
    "    return pd.DataFrame(data = sources_users)\n",
    "\n",
    "sources_users = count_sources(impressions_exp, sources)\n"
   ]
  },
  {
   "cell_type": "code",
   "execution_count": 6,
   "metadata": {},
   "outputs": [],
   "source": [
    "#exclude salvini+lega in order to harmonize shares across polarized and control\n",
    "\n",
    "impressions_exp = impressions_exp[(impressions_exp[\"source\"] != \"Matteo Salvini\") \n",
    "                        & (impressions_exp[\"source\"] != \"Lega - Salvini Premier\")]"
   ]
  },
  {
   "cell_type": "code",
   "execution_count": 7,
   "metadata": {},
   "outputs": [],
   "source": [
    "#normalize counts dividing for total impression per user\n",
    "\n",
    "users_totalcount = impressions_exp.groupby(['user'])[\"source\"].count()\n",
    "\n",
    "\n",
    "sources_users[\"tot_count\"] = [users_totalcount[user]\n",
    "                              for user in sources_users[\"user\"]] \n",
    "\n",
    "sources_users[\"share_count\"] = (sources_users[\"count\"] / sources_users[\"tot_count\"])*100\n",
    "\n"
   ]
  },
  {
   "cell_type": "code",
   "execution_count": 8,
   "metadata": {},
   "outputs": [],
   "source": [
    "#fiter impressions pre-polarization and harmonize counts on initial distribution of sources\n",
    "\n",
    "impressions_pre = impressions[(impressions['impressionTime'] <= start_polarization) & (impressions['impressionTime'] >= start_collection)] \n",
    "\n",
    "sources_users_pre = count_sources(impressions_pre, sources)\n",
    "\n",
    "users_totalcount = impressions_pre.groupby(['user'])[\"source\"].count()\n",
    "\n",
    "sources_users_pre[\"tot_count\"] = [users_totalcount[user]\n",
    "                                  for user in sources_users_pre[\"user\"]] \n",
    "\n",
    "sources_users_pre[\"share_count\"] = (sources_users_pre[\"count\"] / sources_users_pre[\"tot_count\"])*100\n",
    "\n",
    "\n",
    "sources_users[\"share_count_adj\"] = sources_users[\"share_count\"] / sources_users_pre[\"share_count\"]\n",
    "\n",
    "          "
   ]
  },
  {
   "cell_type": "code",
   "execution_count": 9,
   "metadata": {},
   "outputs": [],
   "source": [
    "#add column with test group the user belongs to\n",
    "polarized_users = ('Aarend','Bjoke','CorTimmerman','Doortje','Erwijn','Friedie','Gert','Hanneke','Ivo','Juultje')\n",
    "\n",
    "sources_users[\"user_group\"] = [\"polarized\" if user in polarized_users \n",
    "                                         else \"control\" \n",
    "                             for user in sources_users[\"user\"]]        "
   ]
  },
  {
   "cell_type": "code",
   "execution_count": 17,
   "metadata": {},
   "outputs": [
    {
     "name": "stdout",
     "output_type": "stream",
     "text": [
      "1.3058232101236897\n",
      "0.8808976011183252\n"
     ]
    },
    {
     "data": {
      "text/plain": [
       "Ttest_indResult(statistic=1.5779362913516735, pvalue=0.13199246428894354)"
      ]
     },
     "execution_count": 17,
     "metadata": {},
     "output_type": "execute_result"
    }
   ],
   "source": [
    "#compare means and run t-test\n",
    "\n",
    "polarized = sources_users[sources_users['user_group'] == 'polarized'][\"share_count_adj\"]\n",
    "control = sources_users[sources_users['user_group'] == 'control'][\"share_count_adj\"]\n",
    "\n",
    "\n",
    "print(mean(polarized))\n",
    "print(mean(control))\n",
    "\n",
    "ttest_ind(polarized, control)\n"
   ]
  },
  {
   "cell_type": "code",
   "execution_count": 19,
   "metadata": {},
   "outputs": [
    {
     "data": {
      "image/png": "[encoded data removed]",
      "text/plain": [
       "<Figure size 360x360 with 1 Axes>"
      ]
     },
     "metadata": {},
     "output_type": "display_data"
    }
   ],
   "source": [
    "import seaborn as sns\n",
    "sns.set(style=\"ticks\", color_codes=True)\n",
    "\n",
    "\n",
    "groups_data = sources_users[[\"share_count_adj\",\"user_group\"]]\n",
    "\n",
    "\n",
    "sns.catplot(x= \"user_group\", y= \"share_count_adj\", data= groups_data);"
   ]
  },
  {
   "cell_type": "code",
   "execution_count": null,
   "metadata": {},
   "outputs": [],
   "source": []
  },
  {
   "cell_type": "code",
   "execution_count": null,
   "metadata": {},
   "outputs": [],
   "source": []
  },
  {
   "cell_type": "code",
   "execution_count": null,
   "metadata": {},
   "outputs": [],
   "source": []
  }
 ],
 "metadata": {
  "kernelspec": {
   "display_name": "Python 3",
   "language": "python",
   "name": "python3"
  },
  "language_info": {
   "codemirror_mode": {
    "name": "ipython",
    "version": 3
   },
   "file_extension": ".py",
   "mimetype": "text/x-python",
   "name": "python",
   "nbconvert_exporter": "python",
   "pygments_lexer": "ipython3",
   "version": "3.6.9"
  }
 },
 "nbformat": 4,
 "nbformat_minor": 4
}
