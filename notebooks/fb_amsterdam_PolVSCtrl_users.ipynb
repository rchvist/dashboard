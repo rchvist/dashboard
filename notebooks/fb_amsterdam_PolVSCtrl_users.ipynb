{
 "cells": [
  {
   "cell_type": "code",
   "execution_count": 451,
   "metadata": {},
   "outputs": [],
   "source": [
    "import pandas as pd\n",
    "from collections import defaultdict\n",
    "import os\n",
    "from datetime import datetime\n",
    "from scipy.stats import ttest_ind\n",
    "from numpy import mean"
   ]
  },
  {
   "cell_type": "code",
   "execution_count": 482,
   "metadata": {},
   "outputs": [],
   "source": [
    "#set constants\n",
    "\n",
    "sources = [\"Matteo Salvini\"]\n",
    "\n",
    "start_collection = '2019-11-10'\n",
    "start_polarization = '2019-11-20'\n",
    "\n",
    "\n",
    "timerange = ('2019-11-21',\n",
    "             '2019-11-28')\n",
    "\n",
    "\n",
    "folder = '../outputs/fb/summary'\n",
    "file_users =  '../config/users.csv'\n"
   ]
  },
  {
   "cell_type": "code",
   "execution_count": 489,
   "metadata": {},
   "outputs": [
    {
     "name": "stdout",
     "output_type": "stream",
     "text": [
      "                  impressionTime    user  \\\n",
      "0      2020-01-19 00:21:32+00:00  Nienke   \n",
      "1      2020-01-19 00:21:26+00:00  Nienke   \n",
      "2      2020-01-19 00:21:26+00:00  Nienke   \n",
      "3      2020-01-19 00:21:26+00:00  Nienke   \n",
      "4      2020-01-19 00:21:22+00:00  Nienke   \n",
      "5      2020-01-16 17:46:33+00:00  Nienke   \n",
      "6      2020-01-16 17:46:33+00:00  Nienke   \n",
      "7      2020-01-16 17:46:32+00:00  Nienke   \n",
      "8      2020-01-16 17:46:31+00:00  Nienke   \n",
      "9      2020-01-16 17:00:16+00:00  Nienke   \n",
      "10     2020-01-16 16:59:57+00:00  Nienke   \n",
      "11     2020-01-16 16:59:50+00:00  Nienke   \n",
      "12     2020-01-16 16:59:49+00:00  Nienke   \n",
      "13     2020-01-16 16:59:49+00:00  Nienke   \n",
      "14     2020-01-16 16:59:49+00:00  Nienke   \n",
      "15     2020-01-16 16:59:48+00:00  Nienke   \n",
      "16     2020-01-16 16:59:37+00:00  Nienke   \n",
      "17     2020-01-16 16:59:37+00:00  Nienke   \n",
      "18     2020-01-16 16:59:37+00:00  Nienke   \n",
      "19     2020-01-16 16:59:35+00:00  Nienke   \n",
      "20     2020-01-16 16:59:35+00:00  Nienke   \n",
      "21     2020-01-16 10:29:44+00:00  Nienke   \n",
      "22     2020-01-16 10:29:44+00:00  Nienke   \n",
      "23     2020-01-16 10:29:42+00:00  Nienke   \n",
      "24     2020-01-16 10:29:42+00:00  Nienke   \n",
      "25     2020-01-16 10:29:42+00:00  Nienke   \n",
      "26     2020-01-16 10:25:12+00:00  Nienke   \n",
      "27     2020-01-16 10:25:12+00:00  Nienke   \n",
      "28     2020-01-15 10:21:56+00:00  Nienke   \n",
      "29     2020-01-15 10:21:55+00:00  Nienke   \n",
      "...                          ...     ...   \n",
      "14890  2019-10-22 17:06:08+00:00  Terese   \n",
      "14891  2019-10-22 17:06:08+00:00  Terese   \n",
      "14892  2019-10-22 16:14:54+00:00  Terese   \n",
      "14893  2019-10-22 16:14:50+00:00  Terese   \n",
      "14894  2019-10-22 16:14:49+00:00  Terese   \n",
      "14895  2019-10-22 16:14:45+00:00  Terese   \n",
      "14896  2019-10-22 16:14:44+00:00  Terese   \n",
      "14897  2019-10-22 16:14:44+00:00  Terese   \n",
      "14898  2019-10-22 16:13:55+00:00  Terese   \n",
      "14899  2019-10-22 16:13:54+00:00  Terese   \n",
      "14900  2019-10-22 16:13:54+00:00  Terese   \n",
      "14901  2019-10-22 16:13:53+00:00  Terese   \n",
      "14902  2019-10-22 16:13:53+00:00  Terese   \n",
      "14903  2019-10-22 16:13:30+00:00  Terese   \n",
      "14904  2019-10-22 16:13:30+00:00  Terese   \n",
      "14905  2019-10-22 16:13:29+00:00  Terese   \n",
      "14906  2019-10-22 16:13:29+00:00  Terese   \n",
      "14907  2019-10-22 16:13:28+00:00  Terese   \n",
      "14908  2019-10-22 16:13:26+00:00  Terese   \n",
      "14909  2019-10-22 16:13:25+00:00  Terese   \n",
      "14910  2019-10-22 16:13:25+00:00  Terese   \n",
      "14911  2019-10-22 16:11:03+00:00  Terese   \n",
      "14912  2019-10-22 16:11:03+00:00  Terese   \n",
      "14913  2019-10-22 16:11:03+00:00  Terese   \n",
      "14914  2019-10-22 16:11:02+00:00  Terese   \n",
      "14915  2019-10-22 16:11:02+00:00  Terese   \n",
      "14916  2019-10-22 16:10:58+00:00  Terese   \n",
      "14917  2019-10-22 14:39:24+00:00  Terese   \n",
      "14918  2019-10-21 14:25:09+00:00  Terese   \n",
      "14919  2019-10-21 14:24:10+00:00  Terese   \n",
      "\n",
      "                                        source  \n",
      "0                                  Zoë Venetis  \n",
      "1                                      G2A.COM  \n",
      "2                                    Escribelo  \n",
      "3                           Sneeuwbal Festival  \n",
      "4                                 FC Barcelona  \n",
      "5                                      G2A.COM  \n",
      "6                           Sneeuwbal Festival  \n",
      "7                                    Escribelo  \n",
      "8                                 FC Barcelona  \n",
      "9                     Marjolein den Hooglander  \n",
      "10                           Laurence Medinger  \n",
      "11                                Albert Heijn  \n",
      "12                               Poppodium 013  \n",
      "13                               Ayham Alfares  \n",
      "14                                   Escribelo  \n",
      "15                      Lola van den Biggelaar  \n",
      "16                              Kilian Johnson  \n",
      "17                               Ayham Alfares  \n",
      "18                          Sneeuwbal Festival  \n",
      "19                                FC Barcelona  \n",
      "20     Thuisbezorgd.nl | Online Eten Bestellen  \n",
      "21                      Lola van den Biggelaar  \n",
      "22                                      Action  \n",
      "23                                     G2A.COM  \n",
      "24                                FC Barcelona  \n",
      "25     Thuisbezorgd.nl | Online Eten Bestellen  \n",
      "26                                FC Barcelona  \n",
      "27                               Poppodium 013  \n",
      "28                                 Kruidvat NL  \n",
      "29                                   Escribelo  \n",
      "...                                        ...  \n",
      "14890                      Partito Democratico  \n",
      "14891                           Il Sole 24 ORE  \n",
      "14892                          The 70's Bistro  \n",
      "14893                          The 70's Bistro  \n",
      "14894                       MoVimento 5 Stelle  \n",
      "14895                          The 70's Bistro  \n",
      "14896                   Lega - Salvini Premier  \n",
      "14897                       MoVimento 5 Stelle  \n",
      "14898                      Partito Democratico  \n",
      "14899                        Fratelli d'Italia  \n",
      "14900                            la Repubblica  \n",
      "14901                            Luigi Di Maio  \n",
      "14902                       MoVimento 5 Stelle  \n",
      "14903                                 Sky TG24  \n",
      "14904                       MoVimento 5 Stelle  \n",
      "14905                            la Repubblica  \n",
      "14906                      Corriere della Sera  \n",
      "14907                             Matteo Renzi  \n",
      "14908                           Giorgia Meloni  \n",
      "14909                                La Stampa  \n",
      "14910                              Italia Viva  \n",
      "14911                           Matteo Salvini  \n",
      "14912                   Lega - Salvini Premier  \n",
      "14913                              Italia Viva  \n",
      "14914                       MoVimento 5 Stelle  \n",
      "14915                            Luigi Di Maio  \n",
      "14916                             Matteo Renzi  \n",
      "14917                                  Goodful  \n",
      "14918                             Culture Trip  \n",
      "14919                             Culture Trip  \n",
      "\n",
      "[302895 rows x 3 columns]\n"
     ]
    }
   ],
   "source": [
    "#load all impressions, filtering useful fields and replacing hased names with fb names\n",
    "\n",
    "\n",
    "def absoluteFilePaths(directory):\n",
    "    for dirpath, _, filenames in os.walk(directory):\n",
    "        for f in filenames:\n",
    "            if str(f)[0] == '.':\n",
    "                pass\n",
    "            else:\n",
    "                yield os.path.abspath(os.path.join(dirpath, f))\n",
    "\n",
    "def getImpressions(folder):\n",
    "    impressions = pd.DataFrame()\n",
    "    files = absoluteFilePaths(folder)\n",
    "    tokens2names = pd.read_csv(file_users)\n",
    "    for impressions_file in files:\n",
    "        user_impressions = pd.read_csv(impressions_file)[['impressionTime', 'user', 'source']] #you can add fields of interest here\n",
    "        name = tokens2names[tokens2names['token'] == impressions_file.split('/')[-1].split('.')[0]]['name'].values[0]\n",
    "        user_impressions['user'] = name\n",
    "        impressions = pd.concat([impressions, user_impressions])      \n",
    "    return impressions\n",
    "\n",
    "impressions = getImpressions(folder)\n",
    "\n"
   ]
  },
  {
   "cell_type": "code",
   "execution_count": 490,
   "metadata": {},
   "outputs": [],
   "source": [
    "#filter out for desired time range for experiment\n",
    "\n",
    "\n",
    "impressions_exp = impressions[(impressions['impressionTime'] >= timerange[0]) \n",
    "                        & (impressions['impressionTime'] <= timerange[1])]\n",
    "\n",
    "\n"
   ]
  },
  {
   "cell_type": "code",
   "execution_count": 491,
   "metadata": {},
   "outputs": [
    {
     "name": "stdout",
     "output_type": "stream",
     "text": [
      "            source          user  count\n",
      "0   Matteo Salvini        Aarend     45\n",
      "1   Matteo Salvini         Bjoke     40\n",
      "2   Matteo Salvini  CorTimmerman     63\n",
      "3   Matteo Salvini       Doortje     31\n",
      "4   Matteo Salvini        Erwijn     49\n",
      "5   Matteo Salvini       Friedie     37\n",
      "6   Matteo Salvini          Gert     44\n",
      "7   Matteo Salvini       Hanneke     55\n",
      "8   Matteo Salvini           Ivo     78\n",
      "9   Matteo Salvini       Juultje     49\n",
      "10  Matteo Salvini          Kris     42\n",
      "11  Matteo Salvini       Lonneke     26\n",
      "12  Matteo Salvini       Martijn     22\n",
      "13  Matteo Salvini        Nienke     18\n",
      "14  Matteo Salvini          Omar     17\n",
      "15  Matteo Salvini        Phoebe      5\n",
      "16  Matteo Salvini      Quintijn     26\n",
      "17  Matteo Salvini       Roelfke      9\n",
      "18  Matteo Salvini       Stephan     25\n",
      "19  Matteo Salvini        Terese     14\n"
     ]
    }
   ],
   "source": [
    "#count specific sources per user\n",
    "\n",
    "\n",
    "def count_sources(impressions, sources):\n",
    "    sources_users = {\"source\": [],\n",
    "                     \"user\": [],\n",
    "                     \"count\": []}\n",
    "    for source in sources:\n",
    "        for user, user_impressions in impressions_exp.groupby('user'):\n",
    "            sources_users[\"source\"].append(source)\n",
    "            sources_users[\"user\"].append(user)\n",
    "            sources_users[\"count\"].append(user_impressions[user_impressions[\"source\"] == source][\"source\"].count())       \n",
    "    return pd.DataFrame(data = sources_users)\n",
    "\n",
    "sources_users = count_sources(impressions_exp, sources)\n",
    "\n"
   ]
  },
  {
   "cell_type": "code",
   "execution_count": 486,
   "metadata": {},
   "outputs": [],
   "source": [
    "#exclude salvini+lega in order to harmonize shares across polarized and control\n",
    "\n",
    "impressions_exp = impressions_exp[(impressions_exp[\"source\"] != \"Matteo Salvini\") \n",
    "                        & (impressions_exp[\"source\"] != \"Lega - Salvini Premier\")]"
   ]
  },
  {
   "cell_type": "code",
   "execution_count": 495,
   "metadata": {},
   "outputs": [
    {
     "name": "stdout",
     "output_type": "stream",
     "text": [
      "user\n",
      "Aarend          1272\n",
      "Bjoke           1300\n",
      "CorTimmerman    1558\n",
      "Doortje         1445\n",
      "Erwijn          1345\n",
      "Friedie         1297\n",
      "Gert            1193\n",
      "Hanneke         1246\n",
      "Ivo             1474\n",
      "Juultje         1429\n",
      "Kris            1595\n",
      "Lonneke         1150\n",
      "Martijn         1189\n",
      "Nienke          1508\n",
      "Omar            1148\n",
      "Phoebe          1305\n",
      "Quintijn        1511\n",
      "Roelfke         1181\n",
      "Stephan         1176\n",
      "Terese          1213\n",
      "Name: source, dtype: int64\n"
     ]
    }
   ],
   "source": [
    "#normalize counts dividing for total impression per user\n",
    "\n",
    "users_totalcount = impressions_exp.groupby(['user'])[\"source\"].count()\n",
    "\n",
    "\n",
    "sources_users[\"tot_count\"] = [users_totalcount[user]\n",
    "                              for user in sources_users[\"user\"]] \n",
    "\n",
    "sources_users[\"share_count\"] = (sources_users[\"count\"] / sources_users[\"tot_count\"])*100\n",
    "\n"
   ]
  },
  {
   "cell_type": "code",
   "execution_count": 493,
   "metadata": {},
   "outputs": [
    {
     "data": {
      "text/plain": [
       "0     1.698113\n",
       "1     1.344086\n",
       "2     1.982379\n",
       "3     0.961837\n",
       "4     1.527908\n",
       "5     0.983258\n",
       "6     1.020645\n",
       "7     1.749364\n",
       "8     2.791696\n",
       "9     1.779876\n",
       "10    1.417004\n",
       "11    0.713306\n",
       "12    0.611281\n",
       "13    0.296834\n",
       "14    0.711000\n",
       "15    0.259471\n",
       "16    1.080183\n",
       "17    0.358566\n",
       "18    1.019160\n",
       "19    0.490196\n",
       "Name: share_count, dtype: float64"
      ]
     },
     "execution_count": 493,
     "metadata": {},
     "output_type": "execute_result"
    }
   ],
   "source": [
    "#fiter impressions pre-polarization and harmonize counts on initial distribution of sources\n",
    "\n",
    "impressions_pre = impressions[(impressions['impressionTime'] <= start_polarization) & (impressions['impressionTime'] <= start_collection)] \n",
    "\n",
    "sources_users_pre = count_sources(impressions_pre, sources)\n",
    "\n",
    "users_totalcount = impressions_pre.groupby(['user'])[\"source\"].count()\n",
    "\n",
    "sources_users_pre[\"tot_count\"] = [users_totalcount[user]\n",
    "                              for user in sources_users_pre[\"user\"]] \n",
    "\n",
    "sources_users_pre[\"share_count\"] = (sources_users_pre[\"count\"] / sources_users_pre[\"tot_count\"])*100\n",
    "\n",
    "\n",
    "sources_users[\"share_count_adj\"] = sources_users[\"share_count\"] / sources_users_pre[\"share_count\"]\n",
    "\n",
    "sources_users_pre[\"share_count\"]"
   ]
  },
  {
   "cell_type": "code",
   "execution_count": 480,
   "metadata": {},
   "outputs": [],
   "source": [
    "#add column with test group the user belongs to\n",
    "polarized_users = ('Aarend','Bjoke','CorTimmerman','Doortje','Erwijn','Friedie','Gert','Hanneke','Ivo','Juultje')\n",
    "\n",
    "sources_users[\"user_group\"] = [\"polarized\" if user in polarized_users \n",
    "                                         else \"control\" \n",
    "                             for user in sources_users[\"user\"]]        "
   ]
  },
  {
   "cell_type": "code",
   "execution_count": 481,
   "metadata": {},
   "outputs": [
    {
     "name": "stdout",
     "output_type": "stream",
     "text": [
      "inf\n",
      "inf\n"
     ]
    },
    {
     "name": "stderr",
     "output_type": "stream",
     "text": [
      "/home/berra/dashboard/venv/lib/python3.6/site-packages/numpy/core/_methods.py:117: RuntimeWarning: invalid value encountered in subtract\n",
      "  x = asanyarray(arr - arrmean)\n",
      "/home/berra/dashboard/venv/lib/python3.6/site-packages/scipy/stats/stats.py:4999: RuntimeWarning: invalid value encountered in double_scalars\n",
      "  d = mean1 - mean2\n"
     ]
    },
    {
     "data": {
      "text/plain": [
       "Ttest_indResult(statistic=nan, pvalue=nan)"
      ]
     },
     "execution_count": 481,
     "metadata": {},
     "output_type": "execute_result"
    }
   ],
   "source": [
    "#compare means and run t-test\n",
    "\n",
    "polarized = sources_users[sources_users['user_group'] == 'polarized'][\"share_count_adj\"]\n",
    "control = sources_users[sources_users['user_group'] == 'control'][\"share_count_adj\"]\n",
    "\n",
    "\n",
    "print(mean(polarized))\n",
    "print(mean(control))\n",
    "\n",
    "ttest_ind(polarized, control)\n",
    "\n",
    "#3.45396947496875\n",
    "#2.6749734757740766 0.16691875551730254\n"
   ]
  },
  {
   "cell_type": "code",
   "execution_count": null,
   "metadata": {},
   "outputs": [],
   "source": []
  },
  {
   "cell_type": "code",
   "execution_count": null,
   "metadata": {},
   "outputs": [],
   "source": []
  }
 ],
 "metadata": {
  "kernelspec": {
   "display_name": "Python 3",
   "language": "python",
   "name": "python3"
  },
  "language_info": {
   "codemirror_mode": {
    "name": "ipython",
    "version": 3
   },
   "file_extension": ".py",
   "mimetype": "text/x-python",
   "name": "python",
   "nbconvert_exporter": "python",
   "pygments_lexer": "ipython3",
   "version": "3.6.9"
  }
 },
 "nbformat": 4,
 "nbformat_minor": 4
}
